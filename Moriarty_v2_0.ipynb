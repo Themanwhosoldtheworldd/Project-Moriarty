{
  "cells": [
    {
      "cell_type": "markdown",
      "metadata": {
        "id": "view-in-github",
        "colab_type": "text"
      },
      "source": [
        "<a href=\"https://colab.research.google.com/github/Themanwhosoldtheworldd/Project-Moriarty/blob/main/Moriarty_v2_0.ipynb\" target=\"_parent\"><img src=\"https://colab.research.google.com/assets/colab-badge.svg\" alt=\"Open In Colab\"/></a>"
      ]
    },
    {
      "cell_type": "markdown",
      "source": [
        "# **Project: Moriarty**\n",
        "The project's goal in this state, is to take user input using the default system microphone and transcode the speech to text. After that a model (unitaryai/detoxify) is used to classify the text produced from whisper as **toxic**,   **severe_toxic**,   **obscene**,   **threat**,   **insult**, **identity_atttack**.\n"
      ],
      "metadata": {
        "id": "-l-mtKODZ038"
      }
    },
    {
      "cell_type": "markdown",
      "source": [
        "# **Prerequisites**"
      ],
      "metadata": {
        "id": "ARPJUSLxhYxZ"
      }
    },
    {
      "cell_type": "code",
      "source": [
        "!pip install torch torchvision torchaudio --extra-index-url https://download.pytorch.org/whl/cu116\n",
        "!pip install git+https://github.com/openai/whisper.git \n",
        "!pip install git+https://github.com/unitaryai/detoxify/releases/download/v0.1-alpha/toxic_original-c1212f89.ckpt\n",
        "!pip install git+https://github.com/unitaryai/detoxify/releases/download/v0.4-alpha/multilingual_debiased-0b549669.ckpt\n",
        "!pip install git+https://github.com/unitaryai/detoxify/releases/download/v0.1-alpha/toxic_original-c1212f89.ckpt\n",
        "!pip install git+https://github.com/unitaryai/detoxify/releases/download/v0.3-alpha/toxic_debiased-c7548aa0.ckpt\n",
        "\n",
        "!apt install libasound2-dev portaudio19-dev libportaudio2 libportaudiocpp0 ffmpeg\n",
        "!pip install pyaudio\n",
        "!pip install Numpy as np\n",
        "!pip install ffmpeg-python\n",
        "!pip install transformers\n",
        "!pip install detoxify\n",
        "!pip install pandas"
      ],
      "metadata": {
        "id": "B9tnrDLb-Go2",
        "colab": {
          "base_uri": "https://localhost:8080/"
        },
        "outputId": "47a93422-df71-48a2-9279-d88f7013cc4d"
      },
      "execution_count": 168,
      "outputs": [
        {
          "output_type": "stream",
          "name": "stdout",
          "text": [
            "Looking in indexes: https://pypi.org/simple, https://us-python.pkg.dev/colab-wheels/public/simple/, https://download.pytorch.org/whl/cu116\n",
            "Requirement already satisfied: torch in /usr/local/lib/python3.7/dist-packages (1.12.1+cu113)\n",
            "Requirement already satisfied: torchvision in /usr/local/lib/python3.7/dist-packages (0.13.1+cu113)\n",
            "Requirement already satisfied: torchaudio in /usr/local/lib/python3.7/dist-packages (0.12.1+cu113)\n",
            "Requirement already satisfied: typing-extensions in /usr/local/lib/python3.7/dist-packages (from torch) (4.1.1)\n",
            "Requirement already satisfied: requests in /usr/local/lib/python3.7/dist-packages (from torchvision) (2.23.0)\n",
            "Requirement already satisfied: pillow!=8.3.*,>=5.3.0 in /usr/local/lib/python3.7/dist-packages (from torchvision) (7.1.2)\n",
            "Requirement already satisfied: numpy in /usr/local/lib/python3.7/dist-packages (from torchvision) (1.21.6)\n",
            "Requirement already satisfied: urllib3!=1.25.0,!=1.25.1,<1.26,>=1.21.1 in /usr/local/lib/python3.7/dist-packages (from requests->torchvision) (1.24.3)\n",
            "Requirement already satisfied: chardet<4,>=3.0.2 in /usr/local/lib/python3.7/dist-packages (from requests->torchvision) (3.0.4)\n",
            "Requirement already satisfied: certifi>=2017.4.17 in /usr/local/lib/python3.7/dist-packages (from requests->torchvision) (2022.9.24)\n",
            "Requirement already satisfied: idna<3,>=2.5 in /usr/local/lib/python3.7/dist-packages (from requests->torchvision) (2.10)\n",
            "Looking in indexes: https://pypi.org/simple, https://us-python.pkg.dev/colab-wheels/public/simple/\n",
            "Collecting git+https://github.com/openai/whisper.git\n",
            "  Cloning https://github.com/openai/whisper.git to /tmp/pip-req-build-zjclzru4\n",
            "  Running command git clone -q https://github.com/openai/whisper.git /tmp/pip-req-build-zjclzru4\n",
            "Requirement already satisfied: numpy in /usr/local/lib/python3.7/dist-packages (from whisper==1.0) (1.21.6)\n",
            "Requirement already satisfied: torch in /usr/local/lib/python3.7/dist-packages (from whisper==1.0) (1.12.1+cu113)\n",
            "Requirement already satisfied: tqdm in /usr/local/lib/python3.7/dist-packages (from whisper==1.0) (4.64.1)\n",
            "Requirement already satisfied: more-itertools in /usr/local/lib/python3.7/dist-packages (from whisper==1.0) (8.14.0)\n",
            "Requirement already satisfied: transformers>=4.19.0 in /usr/local/lib/python3.7/dist-packages (from whisper==1.0) (4.23.1)\n",
            "Requirement already satisfied: ffmpeg-python==0.2.0 in /usr/local/lib/python3.7/dist-packages (from whisper==1.0) (0.2.0)\n",
            "Requirement already satisfied: future in /usr/local/lib/python3.7/dist-packages (from ffmpeg-python==0.2.0->whisper==1.0) (0.16.0)\n",
            "Requirement already satisfied: huggingface-hub<1.0,>=0.10.0 in /usr/local/lib/python3.7/dist-packages (from transformers>=4.19.0->whisper==1.0) (0.10.1)\n",
            "Requirement already satisfied: pyyaml>=5.1 in /usr/local/lib/python3.7/dist-packages (from transformers>=4.19.0->whisper==1.0) (6.0)\n",
            "Requirement already satisfied: tokenizers!=0.11.3,<0.14,>=0.11.1 in /usr/local/lib/python3.7/dist-packages (from transformers>=4.19.0->whisper==1.0) (0.13.1)\n",
            "Requirement already satisfied: regex!=2019.12.17 in /usr/local/lib/python3.7/dist-packages (from transformers>=4.19.0->whisper==1.0) (2022.6.2)\n",
            "Requirement already satisfied: filelock in /usr/local/lib/python3.7/dist-packages (from transformers>=4.19.0->whisper==1.0) (3.8.0)\n",
            "Requirement already satisfied: importlib-metadata in /usr/local/lib/python3.7/dist-packages (from transformers>=4.19.0->whisper==1.0) (4.13.0)\n",
            "Requirement already satisfied: packaging>=20.0 in /usr/local/lib/python3.7/dist-packages (from transformers>=4.19.0->whisper==1.0) (21.3)\n",
            "Requirement already satisfied: requests in /usr/local/lib/python3.7/dist-packages (from transformers>=4.19.0->whisper==1.0) (2.23.0)\n",
            "Requirement already satisfied: typing-extensions>=3.7.4.3 in /usr/local/lib/python3.7/dist-packages (from huggingface-hub<1.0,>=0.10.0->transformers>=4.19.0->whisper==1.0) (4.1.1)\n",
            "Requirement already satisfied: pyparsing!=3.0.5,>=2.0.2 in /usr/local/lib/python3.7/dist-packages (from packaging>=20.0->transformers>=4.19.0->whisper==1.0) (3.0.9)\n",
            "Requirement already satisfied: zipp>=0.5 in /usr/local/lib/python3.7/dist-packages (from importlib-metadata->transformers>=4.19.0->whisper==1.0) (3.9.0)\n",
            "Requirement already satisfied: idna<3,>=2.5 in /usr/local/lib/python3.7/dist-packages (from requests->transformers>=4.19.0->whisper==1.0) (2.10)\n",
            "Requirement already satisfied: certifi>=2017.4.17 in /usr/local/lib/python3.7/dist-packages (from requests->transformers>=4.19.0->whisper==1.0) (2022.9.24)\n",
            "Requirement already satisfied: urllib3!=1.25.0,!=1.25.1,<1.26,>=1.21.1 in /usr/local/lib/python3.7/dist-packages (from requests->transformers>=4.19.0->whisper==1.0) (1.24.3)\n",
            "Requirement already satisfied: chardet<4,>=3.0.2 in /usr/local/lib/python3.7/dist-packages (from requests->transformers>=4.19.0->whisper==1.0) (3.0.4)\n",
            "Looking in indexes: https://pypi.org/simple, https://us-python.pkg.dev/colab-wheels/public/simple/\n",
            "Collecting git+https://github.com/unitaryai/detoxify/releases/download/v0.1-alpha/toxic_original-c1212f89.ckpt\n",
            "  Cloning https://github.com/unitaryai/detoxify/releases/download/v0.1-alpha/toxic_original-c1212f89.ckpt to /tmp/pip-req-build-7dysbs9w\n",
            "  Running command git clone -q https://github.com/unitaryai/detoxify/releases/download/v0.1-alpha/toxic_original-c1212f89.ckpt /tmp/pip-req-build-7dysbs9w\n",
            "  remote: Not Found\n",
            "  fatal: repository 'https://github.com/unitaryai/detoxify/releases/download/v0.1-alpha/toxic_original-c1212f89.ckpt/' not found\n",
            "\u001b[33mWARNING: Discarding git+https://github.com/unitaryai/detoxify/releases/download/v0.1-alpha/toxic_original-c1212f89.ckpt. Command errored out with exit status 128: git clone -q https://github.com/unitaryai/detoxify/releases/download/v0.1-alpha/toxic_original-c1212f89.ckpt /tmp/pip-req-build-7dysbs9w Check the logs for full command output.\u001b[0m\n",
            "\u001b[31mERROR: Command errored out with exit status 128: git clone -q https://github.com/unitaryai/detoxify/releases/download/v0.1-alpha/toxic_original-c1212f89.ckpt /tmp/pip-req-build-7dysbs9w Check the logs for full command output.\u001b[0m\n",
            "Looking in indexes: https://pypi.org/simple, https://us-python.pkg.dev/colab-wheels/public/simple/\n",
            "Collecting git+https://github.com/unitaryai/detoxify/releases/download/v0.4-alpha/multilingual_debiased-0b549669.ckpt\n",
            "  Cloning https://github.com/unitaryai/detoxify/releases/download/v0.4-alpha/multilingual_debiased-0b549669.ckpt to /tmp/pip-req-build-18c8q0_v\n",
            "  Running command git clone -q https://github.com/unitaryai/detoxify/releases/download/v0.4-alpha/multilingual_debiased-0b549669.ckpt /tmp/pip-req-build-18c8q0_v\n",
            "  remote: Not Found\n",
            "  fatal: repository 'https://github.com/unitaryai/detoxify/releases/download/v0.4-alpha/multilingual_debiased-0b549669.ckpt/' not found\n",
            "\u001b[33mWARNING: Discarding git+https://github.com/unitaryai/detoxify/releases/download/v0.4-alpha/multilingual_debiased-0b549669.ckpt. Command errored out with exit status 128: git clone -q https://github.com/unitaryai/detoxify/releases/download/v0.4-alpha/multilingual_debiased-0b549669.ckpt /tmp/pip-req-build-18c8q0_v Check the logs for full command output.\u001b[0m\n",
            "\u001b[31mERROR: Command errored out with exit status 128: git clone -q https://github.com/unitaryai/detoxify/releases/download/v0.4-alpha/multilingual_debiased-0b549669.ckpt /tmp/pip-req-build-18c8q0_v Check the logs for full command output.\u001b[0m\n",
            "Looking in indexes: https://pypi.org/simple, https://us-python.pkg.dev/colab-wheels/public/simple/\n",
            "Collecting git+https://github.com/unitaryai/detoxify/releases/download/v0.1-alpha/toxic_original-c1212f89.ckpt\n",
            "  Cloning https://github.com/unitaryai/detoxify/releases/download/v0.1-alpha/toxic_original-c1212f89.ckpt to /tmp/pip-req-build-sqns78th\n",
            "  Running command git clone -q https://github.com/unitaryai/detoxify/releases/download/v0.1-alpha/toxic_original-c1212f89.ckpt /tmp/pip-req-build-sqns78th\n",
            "  remote: Not Found\n",
            "  fatal: repository 'https://github.com/unitaryai/detoxify/releases/download/v0.1-alpha/toxic_original-c1212f89.ckpt/' not found\n",
            "\u001b[33mWARNING: Discarding git+https://github.com/unitaryai/detoxify/releases/download/v0.1-alpha/toxic_original-c1212f89.ckpt. Command errored out with exit status 128: git clone -q https://github.com/unitaryai/detoxify/releases/download/v0.1-alpha/toxic_original-c1212f89.ckpt /tmp/pip-req-build-sqns78th Check the logs for full command output.\u001b[0m\n",
            "\u001b[31mERROR: Command errored out with exit status 128: git clone -q https://github.com/unitaryai/detoxify/releases/download/v0.1-alpha/toxic_original-c1212f89.ckpt /tmp/pip-req-build-sqns78th Check the logs for full command output.\u001b[0m\n",
            "Looking in indexes: https://pypi.org/simple, https://us-python.pkg.dev/colab-wheels/public/simple/\n",
            "Collecting git+https://github.com/unitaryai/detoxify/releases/download/v0.3-alpha/toxic_debiased-c7548aa0.ckpt\n",
            "  Cloning https://github.com/unitaryai/detoxify/releases/download/v0.3-alpha/toxic_debiased-c7548aa0.ckpt to /tmp/pip-req-build-ywwv8n3f\n",
            "  Running command git clone -q https://github.com/unitaryai/detoxify/releases/download/v0.3-alpha/toxic_debiased-c7548aa0.ckpt /tmp/pip-req-build-ywwv8n3f\n",
            "  remote: Not Found\n",
            "  fatal: repository 'https://github.com/unitaryai/detoxify/releases/download/v0.3-alpha/toxic_debiased-c7548aa0.ckpt/' not found\n",
            "\u001b[33mWARNING: Discarding git+https://github.com/unitaryai/detoxify/releases/download/v0.3-alpha/toxic_debiased-c7548aa0.ckpt. Command errored out with exit status 128: git clone -q https://github.com/unitaryai/detoxify/releases/download/v0.3-alpha/toxic_debiased-c7548aa0.ckpt /tmp/pip-req-build-ywwv8n3f Check the logs for full command output.\u001b[0m\n",
            "\u001b[31mERROR: Command errored out with exit status 128: git clone -q https://github.com/unitaryai/detoxify/releases/download/v0.3-alpha/toxic_debiased-c7548aa0.ckpt /tmp/pip-req-build-ywwv8n3f Check the logs for full command output.\u001b[0m\n",
            "Reading package lists... Done\n",
            "Building dependency tree       \n",
            "Reading state information... Done\n",
            "libportaudio2 is already the newest version (19.6.0-1).\n",
            "libportaudiocpp0 is already the newest version (19.6.0-1).\n",
            "portaudio19-dev is already the newest version (19.6.0-1).\n",
            "libasound2-dev is already the newest version (1.1.3-5ubuntu0.6).\n",
            "ffmpeg is already the newest version (7:3.4.11-0ubuntu0.1).\n",
            "The following package was automatically installed and is no longer required:\n",
            "  libnvidia-common-460\n",
            "Use 'apt autoremove' to remove it.\n",
            "0 upgraded, 0 newly installed, 0 to remove and 27 not upgraded.\n",
            "Looking in indexes: https://pypi.org/simple, https://us-python.pkg.dev/colab-wheels/public/simple/\n",
            "Requirement already satisfied: pyaudio in /usr/local/lib/python3.7/dist-packages (0.2.12)\n",
            "Looking in indexes: https://pypi.org/simple, https://us-python.pkg.dev/colab-wheels/public/simple/\n",
            "Requirement already satisfied: Numpy in /usr/local/lib/python3.7/dist-packages (1.21.6)\n",
            "\u001b[31mERROR: Could not find a version that satisfies the requirement as (from versions: none)\u001b[0m\n",
            "\u001b[31mERROR: No matching distribution found for as\u001b[0m\n",
            "Looking in indexes: https://pypi.org/simple, https://us-python.pkg.dev/colab-wheels/public/simple/\n",
            "Requirement already satisfied: ffmpeg-python in /usr/local/lib/python3.7/dist-packages (0.2.0)\n",
            "Requirement already satisfied: future in /usr/local/lib/python3.7/dist-packages (from ffmpeg-python) (0.16.0)\n",
            "Looking in indexes: https://pypi.org/simple, https://us-python.pkg.dev/colab-wheels/public/simple/\n",
            "Requirement already satisfied: transformers in /usr/local/lib/python3.7/dist-packages (4.23.1)\n",
            "Requirement already satisfied: regex!=2019.12.17 in /usr/local/lib/python3.7/dist-packages (from transformers) (2022.6.2)\n",
            "Requirement already satisfied: packaging>=20.0 in /usr/local/lib/python3.7/dist-packages (from transformers) (21.3)\n",
            "Requirement already satisfied: tokenizers!=0.11.3,<0.14,>=0.11.1 in /usr/local/lib/python3.7/dist-packages (from transformers) (0.13.1)\n",
            "Requirement already satisfied: importlib-metadata in /usr/local/lib/python3.7/dist-packages (from transformers) (4.13.0)\n",
            "Requirement already satisfied: huggingface-hub<1.0,>=0.10.0 in /usr/local/lib/python3.7/dist-packages (from transformers) (0.10.1)\n",
            "Requirement already satisfied: pyyaml>=5.1 in /usr/local/lib/python3.7/dist-packages (from transformers) (6.0)\n",
            "Requirement already satisfied: tqdm>=4.27 in /usr/local/lib/python3.7/dist-packages (from transformers) (4.64.1)\n",
            "Requirement already satisfied: filelock in /usr/local/lib/python3.7/dist-packages (from transformers) (3.8.0)\n",
            "Requirement already satisfied: requests in /usr/local/lib/python3.7/dist-packages (from transformers) (2.23.0)\n",
            "Requirement already satisfied: numpy>=1.17 in /usr/local/lib/python3.7/dist-packages (from transformers) (1.21.6)\n",
            "Requirement already satisfied: typing-extensions>=3.7.4.3 in /usr/local/lib/python3.7/dist-packages (from huggingface-hub<1.0,>=0.10.0->transformers) (4.1.1)\n",
            "Requirement already satisfied: pyparsing!=3.0.5,>=2.0.2 in /usr/local/lib/python3.7/dist-packages (from packaging>=20.0->transformers) (3.0.9)\n",
            "Requirement already satisfied: zipp>=0.5 in /usr/local/lib/python3.7/dist-packages (from importlib-metadata->transformers) (3.9.0)\n",
            "Requirement already satisfied: certifi>=2017.4.17 in /usr/local/lib/python3.7/dist-packages (from requests->transformers) (2022.9.24)\n",
            "Requirement already satisfied: chardet<4,>=3.0.2 in /usr/local/lib/python3.7/dist-packages (from requests->transformers) (3.0.4)\n",
            "Requirement already satisfied: urllib3!=1.25.0,!=1.25.1,<1.26,>=1.21.1 in /usr/local/lib/python3.7/dist-packages (from requests->transformers) (1.24.3)\n",
            "Requirement already satisfied: idna<3,>=2.5 in /usr/local/lib/python3.7/dist-packages (from requests->transformers) (2.10)\n",
            "Looking in indexes: https://pypi.org/simple, https://us-python.pkg.dev/colab-wheels/public/simple/\n",
            "Requirement already satisfied: detoxify in /usr/local/lib/python3.7/dist-packages (0.5.0)\n",
            "Requirement already satisfied: transformers!=4.18.0 in /usr/local/lib/python3.7/dist-packages (from detoxify) (4.23.1)\n",
            "Requirement already satisfied: torch>=1.7.0 in /usr/local/lib/python3.7/dist-packages (from detoxify) (1.12.1+cu113)\n",
            "Requirement already satisfied: sentencepiece>=0.1.94 in /usr/local/lib/python3.7/dist-packages (from detoxify) (0.1.97)\n",
            "Requirement already satisfied: typing-extensions in /usr/local/lib/python3.7/dist-packages (from torch>=1.7.0->detoxify) (4.1.1)\n",
            "Requirement already satisfied: huggingface-hub<1.0,>=0.10.0 in /usr/local/lib/python3.7/dist-packages (from transformers!=4.18.0->detoxify) (0.10.1)\n",
            "Requirement already satisfied: regex!=2019.12.17 in /usr/local/lib/python3.7/dist-packages (from transformers!=4.18.0->detoxify) (2022.6.2)\n",
            "Requirement already satisfied: tokenizers!=0.11.3,<0.14,>=0.11.1 in /usr/local/lib/python3.7/dist-packages (from transformers!=4.18.0->detoxify) (0.13.1)\n",
            "Requirement already satisfied: requests in /usr/local/lib/python3.7/dist-packages (from transformers!=4.18.0->detoxify) (2.23.0)\n",
            "Requirement already satisfied: packaging>=20.0 in /usr/local/lib/python3.7/dist-packages (from transformers!=4.18.0->detoxify) (21.3)\n",
            "Requirement already satisfied: filelock in /usr/local/lib/python3.7/dist-packages (from transformers!=4.18.0->detoxify) (3.8.0)\n",
            "Requirement already satisfied: pyyaml>=5.1 in /usr/local/lib/python3.7/dist-packages (from transformers!=4.18.0->detoxify) (6.0)\n",
            "Requirement already satisfied: tqdm>=4.27 in /usr/local/lib/python3.7/dist-packages (from transformers!=4.18.0->detoxify) (4.64.1)\n",
            "Requirement already satisfied: importlib-metadata in /usr/local/lib/python3.7/dist-packages (from transformers!=4.18.0->detoxify) (4.13.0)\n",
            "Requirement already satisfied: numpy>=1.17 in /usr/local/lib/python3.7/dist-packages (from transformers!=4.18.0->detoxify) (1.21.6)\n",
            "Requirement already satisfied: pyparsing!=3.0.5,>=2.0.2 in /usr/local/lib/python3.7/dist-packages (from packaging>=20.0->transformers!=4.18.0->detoxify) (3.0.9)\n",
            "Requirement already satisfied: zipp>=0.5 in /usr/local/lib/python3.7/dist-packages (from importlib-metadata->transformers!=4.18.0->detoxify) (3.9.0)\n",
            "Requirement already satisfied: urllib3!=1.25.0,!=1.25.1,<1.26,>=1.21.1 in /usr/local/lib/python3.7/dist-packages (from requests->transformers!=4.18.0->detoxify) (1.24.3)\n",
            "Requirement already satisfied: certifi>=2017.4.17 in /usr/local/lib/python3.7/dist-packages (from requests->transformers!=4.18.0->detoxify) (2022.9.24)\n",
            "Requirement already satisfied: idna<3,>=2.5 in /usr/local/lib/python3.7/dist-packages (from requests->transformers!=4.18.0->detoxify) (2.10)\n",
            "Requirement already satisfied: chardet<4,>=3.0.2 in /usr/local/lib/python3.7/dist-packages (from requests->transformers!=4.18.0->detoxify) (3.0.4)\n",
            "Looking in indexes: https://pypi.org/simple, https://us-python.pkg.dev/colab-wheels/public/simple/\n",
            "Requirement already satisfied: pandas in /usr/local/lib/python3.7/dist-packages (1.3.5)\n",
            "Requirement already satisfied: numpy>=1.17.3 in /usr/local/lib/python3.7/dist-packages (from pandas) (1.21.6)\n",
            "Requirement already satisfied: python-dateutil>=2.7.3 in /usr/local/lib/python3.7/dist-packages (from pandas) (2.8.2)\n",
            "Requirement already satisfied: pytz>=2017.3 in /usr/local/lib/python3.7/dist-packages (from pandas) (2022.4)\n",
            "Requirement already satisfied: six>=1.5 in /usr/local/lib/python3.7/dist-packages (from python-dateutil>=2.7.3->pandas) (1.15.0)\n"
          ]
        }
      ]
    },
    {
      "cell_type": "code",
      "execution_count": 169,
      "metadata": {
        "id": "Ug1wPgOKusuR"
      },
      "outputs": [],
      "source": [
        "from IPython.display import HTML, Audio\n",
        "from google.colab.output import eval_js\n",
        "from base64 import b64decode\n",
        "import numpy as np\n",
        "from scipy.io.wavfile import read as wav_read\n",
        "import io\n",
        "import ffmpeg\n",
        "import scipy\n",
        "import whisper\n",
        "import os\n",
        "import torch\n",
        "from detoxify import Detoxify\n",
        "import numpy as np\n",
        "import seaborn as sns\n",
        "import pandas as pd\n",
        "import matplotlib.pyplot as plt\n",
        "import pandas as pd\n"
      ]
    },
    {
      "cell_type": "markdown",
      "source": [
        "# **Whisper for audio transcode**"
      ],
      "metadata": {
        "id": "apa2G_7si0GP"
      }
    },
    {
      "cell_type": "markdown",
      "source": [
        "Here it is essential that a cuda-enabled GPU is utilized otherwise the process is going to be very slow. If you are using the CPU it is strongly advised that you use \"tiny\" model for whisper"
      ],
      "metadata": {
        "id": "Htb4_HOSjTNH"
      }
    },
    {
      "cell_type": "markdown",
      "source": [
        "## Available models and languages\n",
        "\n",
        "There are five model sizes, four with English-only versions, offering speed and accuracy tradeoffs. Below are the names of the available models and their approximate memory requirements and relative speed. \n",
        "\n",
        "\n",
        "|  Size  | Parameters | English-only model | Multilingual model | Required VRAM | Relative speed |\n",
        "|:------:|:----------:|:------------------:|:------------------:|:-------------:|:--------------:|\n",
        "|  tiny  |    39 M    |     `tiny.en`      |       `tiny`       |     ~1 GB     |      ~32x      |\n",
        "|  base  |    74 M    |     `base.en`      |       `base`       |     ~1 GB     |      ~16x      |\n",
        "| small  |   244 M    |     `small.en`     |      `small`       |     ~2 GB     |      ~6x       |\n",
        "| medium |   769 M    |    `medium.en`     |      `medium`      |     ~5 GB     |      ~2x       |\n",
        "| large  |   1550 M   |        N/A         |      `large`       |    ~10 GB     |       1x       |"
      ],
      "metadata": {
        "id": "fliFxTQdmqqE"
      }
    },
    {
      "cell_type": "code",
      "source": [
        "torch.cuda.is_available()\n",
        "DEVICE = \"cuda\" if torch.cuda.is_available() else \"cpu\""
      ],
      "metadata": {
        "id": "E4rfrg5Pn1Uj"
      },
      "execution_count": 170,
      "outputs": []
    },
    {
      "cell_type": "code",
      "source": [
        "model = whisper.load_model(\"large\",device=DEVICE)\n",
        "print(\n",
        "    f\"Model is {'multilingual' if model.is_multilingual else 'English-only'} \"\n",
        "    f\"and has {sum(np.prod(p.shape) for p in model.parameters()):,} parameters.\"\n",
        ")"
      ],
      "metadata": {
        "id": "iH2aGm7GmglI",
        "outputId": "40c3d481-d49a-4260-aaae-697d28c34b85",
        "colab": {
          "base_uri": "https://localhost:8080/"
        }
      },
      "execution_count": 171,
      "outputs": [
        {
          "output_type": "stream",
          "name": "stdout",
          "text": [
            "Model is multilingual and has 1,541,384,960 parameters.\n"
          ]
        }
      ]
    },
    {
      "cell_type": "markdown",
      "source": [
        "# **Voice Interface**"
      ],
      "metadata": {
        "id": "AG5lHJDuiqks"
      }
    },
    {
      "cell_type": "markdown",
      "source": [
        "The code Below is mandatory if you are using colab. It creates an interface so the internet browser can access the microphone."
      ],
      "metadata": {
        "id": "UYaC5Kxzhg70"
      }
    },
    {
      "cell_type": "code",
      "execution_count": 172,
      "metadata": {
        "id": "N9IrIsyVvvDj"
      },
      "outputs": [],
      "source": [
        "AUDIO_HTML = \"\"\"\n",
        "<script>\n",
        "var my_div = document.createElement(\"DIV\");\n",
        "var my_p = document.createElement(\"P\");\n",
        "var my_btn = document.createElement(\"BUTTON\");\n",
        "var t = document.createTextNode(\"Press to start recording\");\n",
        "\n",
        "my_btn.appendChild(t);\n",
        "//my_p.appendChild(my_btn);\n",
        "my_div.appendChild(my_btn);\n",
        "document.body.appendChild(my_div);\n",
        "\n",
        "var base64data = 0;\n",
        "var reader;\n",
        "var recorder, gumStream;\n",
        "var recordButton = my_btn;\n",
        "\n",
        "var handleSuccess = function(stream) {\n",
        "  gumStream = stream;\n",
        "  var options = {\n",
        "    //bitsPerSecond: 8000, //chrome seems to ignore, always 48k\n",
        "    mimeType : 'audio/webm;codecs=opus'\n",
        "    //mimeType : 'audio/webm;codecs=pcm'\n",
        "  };            \n",
        "  //recorder = new MediaRecorder(stream, options);\n",
        "  recorder = new MediaRecorder(stream);\n",
        "  recorder.ondataavailable = function(e) {            \n",
        "    var url = URL.createObjectURL(e.data);\n",
        "    var preview = document.createElement('audio');\n",
        "    preview.controls = true;\n",
        "    preview.src = url;\n",
        "    document.body.appendChild(preview);\n",
        "\n",
        "    reader = new FileReader();\n",
        "    reader.readAsDataURL(e.data); \n",
        "    reader.onloadend = function() {\n",
        "      base64data = reader.result;\n",
        "      //console.log(\"Inside FileReader:\" + base64data);\n",
        "    }\n",
        "  };\n",
        "  recorder.start();\n",
        "  };\n",
        "\n",
        "recordButton.innerText = \"Recording... press to stop\";\n",
        "\n",
        "navigator.mediaDevices.getUserMedia({audio: true}).then(handleSuccess);\n",
        "\n",
        "\n",
        "function toggleRecording() {\n",
        "  if (recorder && recorder.state == \"recording\") {\n",
        "      recorder.stop();\n",
        "      gumStream.getAudioTracks()[0].stop();\n",
        "      recordButton.innerText = \"Saving the recording... pls wait!\"\n",
        "  }\n",
        "}\n",
        "\n",
        "// https://stackoverflow.com/a/951057\n",
        "function sleep(ms) {\n",
        "  return new Promise(resolve => setTimeout(resolve, ms));\n",
        "}\n",
        "\n",
        "var data = new Promise(resolve=>{\n",
        "//recordButton.addEventListener(\"click\", toggleRecording);\n",
        "recordButton.onclick = ()=>{\n",
        "toggleRecording()\n",
        "\n",
        "sleep(2000).then(() => {\n",
        "  // wait 2000ms for the data to be available...\n",
        "  // ideally this should use something like await...\n",
        "  //console.log(\"Inside data:\" + base64data)\n",
        "  resolve(base64data.toString())\n",
        "\n",
        "});\n",
        "\n",
        "}\n",
        "});\n",
        "      \n",
        "</script>\n",
        "\"\"\""
      ]
    },
    {
      "cell_type": "markdown",
      "source": [
        "The code Below is used to generate a \".wav\" file from the user's input, so that we can \"feed\" it to Whisper"
      ],
      "metadata": {
        "id": "HVRkzJ2Jh5zD"
      }
    },
    {
      "cell_type": "code",
      "execution_count": 173,
      "metadata": {
        "id": "q95DnRiv14DF"
      },
      "outputs": [],
      "source": [
        "def get_audio():\n",
        "  display(HTML(AUDIO_HTML))\n",
        "  data = eval_js(\"data\")\n",
        "  binary = b64decode(data.split(',')[1])\n",
        "  \n",
        "  process = (ffmpeg\n",
        "    .input('pipe:0')\n",
        "    .output('pipe:1', format='wav')\n",
        "    .run_async(pipe_stdin=True, pipe_stdout=True, pipe_stderr=True, quiet=True, overwrite_output=True)\n",
        "  )\n",
        "  output, err = process.communicate(input=binary)\n",
        "  \n",
        "  riff_chunk_size = len(output) - 8\n",
        "  # Break up the chunk size into four bytes, held in b.\n",
        "  q = riff_chunk_size\n",
        "  b = []\n",
        "  for i in range(4):\n",
        "      q, r = divmod(q, 256)\n",
        "      b.append(r)\n",
        "\n",
        "  # Replace bytes 4:8 in proc.stdout with the actual size of the RIFF chunk.\n",
        "  riff = output[:4] + bytes(b) + output[8:]\n",
        "\n",
        "  sr, audio = wav_read(io.BytesIO(riff))\n",
        "\n",
        "  return audio, sr"
      ]
    },
    {
      "cell_type": "markdown",
      "source": [
        "# Try it out\n"
      ],
      "metadata": {
        "id": "FXp_rHQDHEaK"
      }
    },
    {
      "cell_type": "markdown",
      "source": [
        "![Screenshot 2022-10-23 194644.png](data:image/png;base64,iVBORw0KGgoAAAANSUhEUgAAAtUAAACwCAYAAADAFZKrAAAAAXNSR0IArs4c6QAAAARnQU1BAACxjwv8YQUAAAAJcEhZcwAAEnQAABJ0Ad5mH3gAAM4pSURBVHhe7f13kF9Hdif4JkzBG8KQBEGQIAl6b7qb7GZ7dUtqr25JM/IrzUoracftzkTsaCLe7k7E/rE7s7HzInbn7YxMy0sjtZXUUnvfzTb0nmx6B0MChPeOLz95f6fq1sWvqn5VKIAAmd9C4rrMkydPnjx5Mm/e/M14JSO9LqHY01X0Gb3wWsFkZfNaK39FRcWpg7BFr4yySs5zB9ZczHAc/bS5mpFG93BNvHy3uexd97NfYsX9kqKczih/zT1orme+MrOwMIpKL3nkMAgi/Sg6BT0qhYke0XLIf68c7T1vHpd7LjJDzd02mvSNTJyLlkswI5dBKHfa8oEm3vAxHsXtFvqlOl6cLBeFDKYTY/Md9ydTLrxNzN90l+FYTIX38TBYuU4nvE6d6qoY44Nc+snGvX7lHPReRUVFxVQwYpNGLFM+Kxf5v+JU90fp4sZ+3AFavWPPhjXOdZuE6xG3szjVadaxTnXjoZZ4I2nHR6QfRacgUyhEek/Kec99bhGPKI6t26MRz6Prz9czZ8zM7MZwwa1+qdt5Z0TkFgrdHEboTA9Ohptycp3qfs/iXj8+Brt3cpzqsco1FeD3RPN8ctFr9hUVEyEa0njGoI3pbHgVFRUVDU5sNxyUe8dxzFjw0cTMEfOJ6CVJL/n0YXoJFr6zA8YHK8fy17svwjHof3cihDyG5VIxBtrS6SepthTjeb94Fa82qlN9kmH02g6nF8bjNxp7hIqKiorTEGUNRS8M6Ew2M7s59KKfGAvY5qXJYZwJ+rHRYjXc6WNL2TwdCZNDL4tRoWIADFyhVaKBU82fqss/pgWDGZ4QtWP7Nc2Jf2UzWXTl0k9Og/B8qpWroqLi9ETbBo2c5660dwb97FS+Ow1dXKFQzFn+7xhyln942Aue50OYdZeDctBLMnwchVFE8kVcR7/Syq8gX49K0kL7fnemekJE4j6RPRorz4Hpj4ET7apMdz88Lr/Fee733L0xBHsMjpXoifclxuJ7qji2DINiUH042f5VdaqnBRMrRojZUSiGrFXZJ7viJ8bxyuZUK09FRcXpD3ZpcrapON7Hac7KxHXvvIvikJaHbF4vYj6ESXc5aPa9JMPHUegS6dN1h2MdiBjd+9J6Vm7ri8p5c5wQQbRPZI+O5apBk0fFiITGktSx6K/Dx0r09eJUT8ZtrU71SUEUebqKPrFihDPdFndUdvf46gOPxyubiWUyFl4tlTx15F9RUdEfk7dN02FPXnNONUT6zKjH1ak+WRiuld5xYlSnejSiTXfbdr/yn+x+va6prqioqKioeL2Bs3GSHY6Kitc6XqdO9aljSOrsaEVFRcVkcIrZzAEm7nA8SJgUJp1gHEzj5GO3TBFkMuhbg1frbeXJQSONSSGL49SRyBT4fx1h1PIPpxE4ezNnzkxHjx4t5xHNvRON4CHyOnz4cDmf3rynW0VHK9qRI0cK30NDQ8OOc5SLTKM8bdnCqeFk95NN+96gPE69LG2ZnCycGrKvqHh10W577BhMv/09Hkxkn45Ftry9s+NFPxvRu9daY9E2JZPNeWArVAgfS33UnYGJiTqJyONgrPKWvi/rk/5vzpw55Qj0yrN2P9nFqWKbg7fj56eflOLeaNryHM53ploir6OlbbqNl/AlJsMX+Yd/N2vWrOG27hzadTIa/Xg/HkxNlnhv88jfmj179ig7dejQoVKebjkmI6fJYpSVjIprV2II+mSinT+0z6cPhDqdYTTwHAobMoyK7B5PTPmOB1GmboD2caIwdZDNyQ4VJx7RLk49na8IaAvqh91qOu5T3T5NjNzCp/nPfh8Ren+ZlQhtBJeDhoFREuT/OmGUXZvE33QBpX4hK9KwXgVCt9o6dyrpG0etDbxND3/HSKd1hO7zJpQfz8xObSOvEflNBdKGYw1xHtfy6I9j+Tq+MHW0eezKYnrqafIYNVMdnj4QLI//wIEDae7cucOCPhmzFfgwwnA8ePBgWrBgQeHhZOQ9XQixqnQyNGONf0YjRoJkKp44Uba4PvWgPMLxN4SK1zZaJmVYl6NNa8/C/PnzS4i2UHFqgc3atWtXqculS5eWmcVTF2GbTgaq/Zsq6FI4bc7ZA+d8jnnz5hUb4b6+sGsXXo0+UV+tDSxcuLD033EPLxGmD6G//ftYciEf7XL//v3FJwo5OU6Fp6gLUBdou9bWTyfbHHqFfzIKneIzqjfPu5jeuhuNgXf/oEwEjxnMnkhs27YtPfPMM+nJJ58s51dffXW67LLL0vLly3sxTn2EvMjKOTGr6LEqM6rhRFb28QF//Rt8RUUX9Flg8B337t2bNmzYUNr0yy+/nC644IK0bt26tGLFiuEOq+LVBTsF6urpp59ODzzwQKm7G2+8sdSXjvzURNimk4Fq/44X+kX69eyzz6Y9e/akZcuWlT6e88qRC0cx+kR4NfpFzhkHVr8dfXeXp+njK+g69tcxDv5TTz2VHn300dIWzzvvvHTOOeekJUuWFBuKx6lAHbDLDz/8cHFKL7zwwnTJJZeUejkdbLM64VDfcccd6aWXXir6c/755xedismAdr3BidSnWf8uo3c+DEq/cePGwuT999+fNm3aVJhTeeM5hoOgW7g2gu7WrVvTvffem/7hH/4h3XbbbemMM85Ia9asKZXcxokUzGTRLRejQFYaJj45FGR59913lwFDzMBHpbfLMt3yHZTeYGldT52/6cR4ugTHI8eTiUHaxKuF4+VNHDR0Tpy0z33uc+l73/teubdy5crSpgeZBe3Hx8mQzauZ71TzmWpatkpg77/zne+kv/7rv04/+tGP0urVq9PZZ59dnB4YlHY/2QUmojH5tFOT1UQ4ho+cTXalehcnDlOV3XjpYLJ6cTx1OBY4bt///vdL/07PTJwZtJk0MwnVj+5U84KplsEzDtr69euLI/vggw+mF154IS1evHh4YlGcyfA2Pi+9k6Jfx9LcsmVL+uEPf5g++9nPFj+CP8axNjGBT20XBuHHAJqPAujys9hmZfRm6uKLLy7H8TBRPidCd9qIWWnlMDD4+Mc/nr761a+WgceiRYvS9ddff8zgLDAd+Y+FvuspMMvx+/SnP53+5E/+JH3+858vyoTBqIjJQKEijIeIw6nX0IxmBaMPnXIXbbrTEaaKSNumpbIpblS6UeDf/M3fpL/6q79Kn/nMZ0r5mufiNuHIkaNpx46dafPmLVnRXy7n7h0+3NBp0xe6iHvdePIhUyPdzZs3l2BkFzNTEGm7GKHjPMJo+v3CiUY7j7Hya/NCfmRgFo7T8Pzzzxd5uEffI243nCgMmkc7XjecSAySR5uXboC24SLjHTt2lNkpHZQ6oIPQL20b7XvduN0wWYyXNu614wh0iRE34/7iiy+WTqldlkDEHwQRtx36tXkh0O/ZIHZiIqgr9sns1RNPPFHOtRPo0h6Lftwf73n3WdwbK03g2DihZ47TF5osYu1qO4zwOZqP6UHQHIt2v3z73euH6Yw3KK02Ir72Y6JJ/+4YfdFk6U2EoDcWr3G/37OAdvDFL34x/fmf/3npw/Ud/BFpJuOcRR5j5eX2OGyUiTgTjmyodskvCrsDUY6x6I8FdPkEzz33XPH7nLunbOPRm+hZ+9jFeGkHBf5C/uweXeJQqx99TbtuIr/xwnShr4csA4b0oYceKiMisxU7d+7sPT0+dAvSDgECUqkUlzEXpqOzOBEIPrq8CXiOitUwjTLN1nkLYCRlJjsca299du3cne6//4E8gv98+tzf/X269977stx3Fcc6kxsI8o1jOxgUmRX41Kc+lf72b/+2jL41yIiPj26aeDaCyRuQE43Ip81zv7zVA0P+yCOPlEHNX/7lX6a77rorbd++fVTjfDXQ5b0dXg208+3y0w4TIWTqKH4M7tQDx20sjEW7m29cjxV/IgySrp1HBGV4/PHHy0ybWaMf/OAHpSOK54F2mvHQjjdRCPR7Joz1bBDEhIn6YrvYB2G8uoIu/bhu598NgfZ5G9347dAfdG06A7Qc6t61ky4fY/M0eQStyKNfGA/94kdoo3vdRvtZO303BNrn46Gbjo5pS+xCvAFv+sNmxnW60OW1HcZDxOGo6SviLTMeJzvBGHkFzX6hQQzmjoV8tUWBfyS4J21bZqPp9Uebd3HbdKNO4tlYIdA+h7hux+2GQPt8sqAv0ccAWxW8k8fx0D4eTH7a+Tgw3YV8tYQ2KBgKweAgZrSsUbr00kvTqlWryscZlGLmjFwN+cjBu/3229Of/emfpY//4cfLK7Lt27YXWlNpwAF5GBh58/D//r//b/qDP/iDMtJtz/5rUKe6PLvAb4Qu+smAM8c4/t7v/V6Rw7e+9a0y2+jV2auF003mbQzK+3SUEY2p0pGOkW2HqdKSdt++feU16Z/+6Z+WtvSNb3yjzBrpkMZqp8F/hPa9LvrdC0SaiNM+h/b9Nrrx+qHbSR0P2vn1y9edcrfxU0eHCfg8OejIoQ9LJ4rPtuymE12ax5vPVNKOl+Z4eJkIY5V1ojz1iyaktG99t7W61jHHh4IwKN9tHsZLM9U22E7XzmuqaKfvR2s8+u38x4v3WsRJdaqPF9Np9E8GglfOdCxhsf7JWh8z1Zy52bOzQ5ejldc4+agR67TL66WjIx96HY9iBg2juJh9sgwiRqMchRON4y3DdEB9KKvyBy+u463Iq83fq4FToV5OJNRvNyhvHCdbdunoiqP2qw25pluu0Yt2dqIxFf7Hw8myrW2OR3Ef2Z8cNip6mG49Ol6cKn28tm2iy1I1R992XXvttaUPDx7ZgehHpwq02mG6MGi9TmeeryamW35TxbhOdVRKO0wGk40/FZyMPKYCjU3nCmapObEzZ84qHzm85S23Fqf60KHDac+evWl/dqL1LraxGZo9lObNn5cWzF9QFOTQ4UN9yziZ+uCoR8M3c26G3Eg7PgoJB+Fk4WTXWeRncGG2QbknI7/TCVGudpgIg8SZLgzK03RBnUfH59jOfyp8SIOWgZg1+Y7tL++1J9c+vjxZ5WyXaSJEvEjTDoG4Jq/jRaGa+znHCFDOe/1f+5l7EWcs9OP5dMVrrRz9wonCicirTUu/yaHWxrXrM888s7xl1v5NfDlOV74Toc3XoHmGgzlomna8ieJOFcHTdCF4nQ5bNV0Yc/cPi759pW9ttaUKb3zjG9NFF11UOqlBobAUMwoeymj9oZGfo9fvu3fvLnlSXs6d9duWJ9gtwzOjw2uuuSadddZZw7QEUEnOpbU4Hb9oCs51fDELGRUqD+fdANLgjRMsDQcsZnbdD9r4ik4VolMFtMhJcG4Zh2UHBw8eSNdcfW366Z/56Uw7R8zhSFaG/fv2F9obNm5I99xzT1l/TVbnnntuCWas5X/ggMbd0JU+eG4jlMtRuUMe1hL7QMyMOaf6hhtuKF/z41+dKCu6YSikNcNuyQTIC018oOeDCUfpORGgDCFzdDgW0ghotoGeOPIRX92BuO5HEC/KKa+IK3+DFXnisc2nELJHQ13RKR/EkIO17e77wpl88UkGURa8xoBokMGGdGQln5BlyIo88IZPQXnlR1/EAXyioVziqCPpgndtSHmkifLRSfEF9MWNL9K7snYtDciHLKQLXpVRebvtoh/Exw85iaMMUYf0gRy0a3mIB+ji19pE+q3edE7XXXddeZWqbOi08wd5oYcWuahzcnEtTzTFJU9HZWinD0Rdui8f6ckMPcE1WgI5yleA4AmkUTfi+/CYLimjnYlsD6h+yLStO/ILGQcd99BSB9E+yUxaOtPVPUd8CVE+5SeTsEHBrzK45xm6zuWHt6AnfcRvI+7jSfnYLDbizW9+cykfu4G/tuzkQ0dDf6SXHxQ7Vc4azJyVbVe2XzFRcCTLTpnJYfPmlxq9zzT35Tyi38BTtGV4JdMOPuMoP3HIBx/4UQbB9yt4jkBW+AxZtIFO5IMWWaprAY9h95Qf33gUP2hJgw+QjzjkL0gjvuft8jhGOUC9hl7gNwZs8VzaKHOUF23x6RAZRtv2LNIFj+26Ac/l7z7+pFNe7U47dR5ljvLhJ8ogTdQ9RLn6QV4RfK9lCRXanFX+hf6d3OQlX/JWrraOh6yiHF3gRRxB/YUs5YNe0Iy6CHr9oC60cd9MqAtvmN/znveUXYvYHJBW2dFBN3QvfBvp8IRf+UX/Io2jEHyMB8+VwTLO++67r/CPnyuuuKLMoONVXu288aL87XJGfkETtGF1oc3j9corryy22W4s4gj4b+uOvEK2dIXe0R338Ra0o7zSCM7xGuUP+uoKHfSUU6AD6Kl7NMUPPYvrgLztXoIGm0UuN99883DZ8U5/owziR13RL7SiTtuIckwGffepVpCvfe1r6f/8P//P4lwT8D/9p/+0KBQhDQqkFcKRIAnKl6sqT2FUvGe2btGgdE6XX355KfDXv/719Bd/8RdFQX7xF38x/dzP/Vy66qqrhukJBOaa8H3xqQEYWaKNBpiR9brGWqi1a9eW7aFcS9tG8Bpbspg1xgvn08cJ5GBtlUpTGSrXbDOe7aHNQZNGJUTFo+n8//q//q/093//92nunLnpYx/76fQbv/EbWXkbh4NMHnn0kXTXnXelrdu2FmPz5BNPlrSXXnZpuuLyK9LiJYsLvwY1b77lzaVRWzaik+rWuXR4UIf4tS0imTz22GNFPjoZRvHHf/zHi8w5YuRvX0pK6Jm68iGWbXY8t98jw+c+OZOPBkVJ1YlOVwOMj1o1Up3wT/7kTw4rpWOEkL14Bk+cfec33XRT4cNsfsRTHpBf5K0M4msM5It/dWpbJnts4hUN6emBcqhDcsDfN7/5zfKMUWJA8I6OweNb3vKWYUcPBtF3fKlfjR8P9IHe4ZUc6YugLLaQ85xuyRd9deXLa+1C2eivuMoV20lK4xgN34emHFR5o0Fu9hMOHexC+eg3+t/97neLHuPFgBVt+aHTTRvyb8M98lH/6MTX6GSsQ/Qcn3inBxxotHVOvqC3XeZHP/rR9Au/8AtFt+gY/oSoc/JiqH3Yq4zaOP2Tp/hoq3NtWruw5Zt0aISeBdQL4A0tbQHfAtlLQ9bkoW2xFQZb8gh562zIm10kR21JR0S/bGtFd5t2ObvwZBJA2aODcV86OstZIS9ywwO+8IgH22TRQ3qEDh7UKUgP+KVb2pv6pO9vfetbC48G5G07RUZve9vbCi/sVcgGrXbdukf2+EXbB83/+T//58LPP//n/zy9613vKk41PSXDcN7Ex582Iw/tTznUkTqXh1yE4lSnPIDMfO7duyc9l+nI64V8fDnbwV25jk0aLFm8KJ115lmlDshAfWjPyg14F/AcZXCMdkSuZKDvwKNyC/hi8/CozpQNTWnRi3N1IZ02pp4c1ZuOH3TadEVfErTQR4O+oKEu0DCAxxPaOnrOY3xLI54QcI882AFlkObd7353kUOkATLXDtSv+kffhIE6CX3GI/tCj9gNAY/yi7pGw7kgHb2Ur3aMbjgbQvShUcdhM5UTHXUNwWMbcS/qTXz6ZctG9lFb+df/+l+XupZ/6Je+UZunS3RcO2fn8OKeNtXNTx25pw7JhCz13cqCV2XBN5kqC/nQCbKBNj3150NkfCrfBz/4weKHqPsAmmiHruCb/SZPZVUP7AL5y0u+2stw28gh+prxIB5Z/d3f/V2xoej/6q/+auGJjaA38lZm+Ss/XaTz+mhyI8N2u4x81bcyfuITnyh0f/Znfzb98i//8ij7FXWnPrQrMhXkyQaip1zaqXahLgXn6hvCtqujbjtBS99MB+m1NOJoo8pH9+hdfIsmrQD4oyu/+Zu/WeqbvH/mZ36m2K2wu8GDNOrLhC1dY3vpMh+XjMRvo6tfg2DC3cKD8ThOFhSYEFW2zpSR0TlxqAmCoFW8guncdQYajYpSIOnFCQWIQuJHhRSnNHdwHAV05aOSVD5hUqAwLgTHqHEkNAwKhk4ojMAB43Th6b3vfW+poG9/+9tl1obyyS8MLMeJ4nFGdToc63AIQUWiz8Dv3LEzXZPzvTbzcIiizmxmUdHD9yc/9cmiwCp57569Jf2jjzxaGgtlFfdtb31buubqa9KKlStyet3TsQg5kQ0nEu+UNQYa5CIoJz4FHeI73vGOUg7yIj/OvUENoyAtZdaY3MeTe5Re49VoKT7n2PaLnuvIDcLEicYUkKdrNDgGX/jCF4oRB/mQPT7EwzNdMTr3EadGo1ycLHWAjnpgGNWxMnAuGWANUp1Kx6ELJyrqmgMiXzQ0Jg42GuQh/2iIEwENssIrOQY9eqTxkid+1S85cagNauiiumVQvM3AJ+OMxzBm5KGx0y9y1IHjHT0yofeu5ctgM2L0ug10AH/ysq0j46WT1zYc0Y5440EcQRkZVLpLl/DC6IcxJz9BmzZQ0U7wLK28yAcNwT3tnLwF8kKLrWAz6JU2F8/RpZc6CfTf9KY3pVtuuaWUPeg7BlzTNXYi5MxOGJjRIbxot/SFHhlsoUcf6CIjrj1J/8lPfrLQI0v1JL32pW3gSznoIPuizFE29UmPo1zsiU5Y+2/rsXKpYzaKfhh00AGdPlqhF/TEB5Lo0HV50bU777yz6DV+1IWOiF0Kp0pa+iK/NuI65OZaPLyhQ8fxb5CuvGG/yUF9kz09pYd4lx+5ohe00fNmbu++venhLMtvsauZ3+eefS7TMQO+t8RFb1luJ2vXnp8drmvTu7PuazP6hUCUA8gkOmb2jo3SYbITeFd/5Krt4dMgj32Kga36pFfqSXnotbpmM9BCl10GcbQveqGe6Ir6pithp/EWda5taKPSGEiq0zbadUF/yFkaeaOBVzyijS6a0igvHumyeldWOh66FDqtTtSHNqid03EoddHjVRrykqf2hi77QOf1FYAHjo1ykp1yu4dn8jse4Fc9GUBrG9o7OdAvDhaoe23B4PENb3hDsdPK2IVy0U19ENukTAbR6hVC1tq5+jcYRo+cybhtO5Rf363u5a2dqUd5iBdtmrzY+hjQsnPKIy/yoSvSmqBT/2yWemjnNRlEGfCnnuTro3uDK3rAVqo39ct/Uf8hN44uvWqjy0PQV07liPjokmu0sZicEI/syIPO6T/pick2eqf8aMqHPASgd+yYercqwiSFeo86127RY7fUFTuvb48BsXzRDX7HkiW+Ig7a8rM1IjumPtWLdhJxjheTWv7BcHcrZCxgUGFUrMah0o36KJ+KJyyKjTaDR+kpJMVQeYJzxoPTFss/CC4EqePQCO1qYeQrH881QHR1bASPltEvp1hHqkIYWJ1YlEc8lW2bLEYK74yGtOEook1Jw+lCK0bWOljP5BkGEI8aDt7I8Q1Zhj/xEz8x0phyHW7fsT1tWL+hNA7pLAXZt78ZUCxZuqSU5cyVZxbFUvEaxooVzWuZ/F/hvQ11pyyO0dGQrWsNRPBc54JXgXPCYBp04E1ZNJovf/nLpXG6R3Y68FDEcGoYG3WDvzDK6pfi/9iP/ViJG8YPz+QdyqsByYeS68jkT8fUjTzxKn96+Ik8ijZLKB6e8Y9ncZXNffVGjvLAW3TCHD730cOD+Bo0HdTg6YNgtlOjpWfBJz4mQjiqGize6Dznn86jgQ/00WRwxac7ZEPnlcsbEs/wQ4/wRgfDaNJDtHUmdE8dkh/DRv/oDtnJC902lAEf2odBzH/9r/+1yEJHorzkCEWnBkC0KfVCt7/0pS+VOlfP8ic//JNDtA86qMzOHemydk1P8I4/QQeGR21anWt36KhnbVoQX3tiH8hG3ctbnTPE5NMui3bAsbGV5Fe+8pVSN2jilfOnPbMFaEbHqC7lQyfQpjPqjVMcZaNDZEH3DWjclwZN5SNXafGibnXyZpqUi+OAhjqVVmeHd+VXHjw4ukcf0A3QI/XOgcYPHsjFTiT412bEJw/thAOkjO7hhZwDrtvBM3IgIw40WaonnScnnv2ml2FD6Rpd8jw6RfnIj1xm5fLnmi15vfJK1pssV23ebNvnv9DY1aEc56yzzi5O9MozvVrPA/udO/KzLO8nHi8TEMvOWFbsMYcbj2QgKDt+2RC66BUw2aovbUldkINyiGcgI3/pPCf/kK1ykT87h5Zg8CUtPVBPaOGBDpM1/tlL5SWT0D306R2ZqSvXnFr2O3Qi4JngvnqnJ3ikH2YiY3ZTGjySubr3dkzbU17PxMOnMpGN9q4e2W4yo0f0xDM2QRo6rB1pF+wCOZIB2dBf8Z2rY21XWZRde3GffgKa6PULATxEwJcyqhN6hG9vp/Uf2oq2RKaeKbOy4BMP8jRQxEObPmi37Adfgw0Rn7zYJHmgp+zisU1oKi9bQL/UAaCLD3LhZ6g3gydxPFMGOi8vOqddK4v0IWd50RXx6Iq8yLE9wBUG6WOADPS/4Z+gww4bWPGDol7kTxfplHtsBDngmT3wPPIGeqrtqg/thkOsL1ZW9RptHB2+0J/+6Z+WdoQHcmO76Ioy0VltxnNyoyPyU2fRD0knHofaNr/qSl8ZtgNN7Uza4I/ekZ90yiYO3gJsHt+NzSQDZVBfkadAFnwB7Vq+aLFt73znO8vgSjlDJoHu9SA4YU41ZhSEwhrZKDAFRFuHYxSjMGY2KKzOlRJQZMKOjo3SEI7RlsoJoK2j1HDQV1FGM2aYgi6eOQ4aFKUg8JjJdo/Scw7xGkaBEQyFAQqscnVMZgsF55wbiqJi8GjEqtFSWpWqcTGwDK5na85bkx2Ym9Jll16W85yfn2c55vxmz8qNMHckl1x8STrv/PPSwQMH047tO9LceXOLXD784Q+XMgnylcf8+V4FFvaOASWKoEFreGRH4clWoJAf+9jHitOLLscqZsTwTUEZV3IF9aAMysuBlsaoUTDKk4d61Rlo9JSXfMxUh+GLAGRL3n7cRnwGdteu3ZmHq3J9XZbrufnpanwwsr//+79f+EGL8pvxUb/40PjNxnmmbjl3oFHqZMhAPTPCMbtBt/FLrz7wgQ+UNxLKomziadj0C8hxIjDO9r6mv8rF+CkjuZqRNkuANv1VJs8ZWg6zstN3ZXj7299e4msbOmDx6SzZqzdlUSadTSO/HcXQCPIzG8K40ek2lMFzRlHHZSaMHr3//e8v5Wak6LF4UUdjwXPxGOE//uM/LgMp0J7MYJEp/tWTMpG9NqAczz//Qi67dYb7igNFn1etOifTZPga2T38sH3EP10GGTp8ukp+ZOOIX/YjOkC0GWN1oOxN+2gckCgLu2OGmUPIHrE1aNEhdPEc8qYX5I2e+lFv8kJToOt0XlvwXB4Ms8Ey23DrrbeW5zoabY6stB9OkM6XE8Sm0ls8sFXSkR2+5EX3dEgcNnmob/octkpdcZR0pHQez+wl3dKZmB1CWz3Ih7w4WtoUhE6HfAKu5Y0/s2+c6rivnbJz7AS7EbOVdE4d0y/1pZ7x4x4Z0NlCN2dlwoBttUf8V/NA8uChg+mCHMdkA1vxYz/2nnRTtpFrczslO8/ZEmUl79VZDvQh2pmj2W0drn7gG9/4ZuHhvPPOz7bzjYXPd7zjnbkfeEORAZ70A9ofmkDeZIu+Z2TOWdXJy0P/oU2qIzIlW/Y02kz0KeRGD/Dt3DO6po60T7TUDf2ltyF78SDqRln0OfRPPYmvzbNvgDZ6luZoe2Sgjn/qp36qtGf6FPVCVuqSDrEf+jGzpFFW+uIZB+MP//APS1m0H2VkE+kyHWITpQ3doAvkHE531DHEsR9y8l44OuxUa7tN/2nd9t50cfYxbnnzLcPtUr3JmyzIU9sUXz+rfNpkG/FLjWQjPt7J5H3ve1/RMX0qvtFUFu1GWwM2AD15KYe60Xbph3Rkpw2SOX03mOEQ+mEY9cfmyUegL+pOGjTJW99Exvqhtp8wnswCZN91qtHUd7ivTNpklFH9s8niKZ92ZGIDn2TiSCdBP6Iuuk41m6Gs5EHHvVFmR9HUtsmVnjgK5Ed/yE2emzZuyufNBB4ZkoNy0Bc0yE27ZZ/JQPtRhqBH/7Q/bQqP2izdxztbSX5RBro8llMtkBGH2iCJvgPd/tCHPlTy6faZ3ToZpI4CJ8ypbgzenmIcFNbon4Kq7F/5lV8pSqfiXBMQ2oJ0BBONDXRsjDklAZWGrlETwx8zBb/2a79WKoNRoTgqHk1KzAgyBOF4URhpHCk2moQfI395U1rKyrFFV0XhFV1HjZqsGCaNHS354ZPhAjTlI62yLsoj8Jkzo4JmlN0+rJmWZuGChWn9hvVlVMnZfsNNb0jvenfz6lOeFNOuILMyzZG5ptFQ+YJ8jbyinGRPKZWdkiqTxkdOniuL+CAuo8cJUR/uMw4aECUMJ0RZNSJKLB6l1SnQGQ6VNdVh9DSmUEy/EGlQQdHFFyx5ue76G4qcli9v6kS9mi3nBJKverWOTGPQUOmlgH+yoZsaHOeI8+OZemdA8Wn2g3GhMxqhzkO96iR1XOKTjbwh5DgR1JeOmNHCM144bD/90z9dyqPuBHnghyFkdMhJHur3Ix/5SOGFnOmcQMfILwYByqGsjA95RqeoYyBLedB1zgM54J1ey4PuG5iQJ1mqH05HdLJkF/XThnvtAHjhGOm4lIFsdST/+B//46JTDCH6dEvZGCx698wzzxbjiHf5Xncdp7qZCc6STnuy7P7ms39T9M6gQ33QITrH/uhgo4xkQB5kTgYhS21M/aNJJ8lFx2cAzrGQlu2x5k4nSIfJmbydgzTsBF1RZ9KoB3oeusZGhXOhLBwveoQWeahnnQeoH8bcIJXs0bCenCNOp9Gnz9JqV+qP7WQDlU8bViblVa/AOTXgxCc7JS/lMljmkJCP8igXx1EbDl2OeuzCfXUTs846O52fMuJJu6On2j/a6sJRXYeTwm6SMz49w7tz9mrTpo3pB9nJNADdneNdlduG+n3/+96frr3u2nRRpkMO6K3NfJO3t3jommywJMSzKAt+N27YmL6ZnWk0y2B+7YXpJzLND2ed4aBffMnFJY3AJmjf0beQrbqkp2gqO9svkKm6MFPMUdH/kKW6E+iZOPSAvLQzuk/WpbyZFjuqA2d36aN+jB5HHeJfUJaoG06DAQ2bIp688R002RfPrYGlI9pa2GX1Qffwh1e6K422TX/d0x7JQL7ascGeWVaDCfHlh56y0Esh+mjtWN2Sn7zlEzY2/AJ0+6F9P7OUHsmD5wcferi03SO5P1i4aGGxmfJ+I6dw3UWl3PLV7vFP1vp9Oqmc7pM3kB8bw/Hjt7AzZGN9cNQfesP6lWWlzrRH9UcWnumH5YVfbUo+2jc56D+UU2BbtGmTcGiQkfXWyiBfcqFbZBRtQDoy9AwP9LvYvjFk1oZ6jP5Su6db6kBdqivtnnNIJmjjx1EbJGP9jfj4wJNyhU6RFZ3SP5AD28GWhS67R4dNysSAhkzZLxNb8vSmyQTJ6nOaiayiJ7k+DKQte119zurSz8iP3NmvT3ziE0X/yIXMfv7nf77QjT4T72FPyZsdoAPaLT1mE6OutAt9sHKSq7ZrUCM/9Wtwa6KGHwoGyL5XUE71I16/ehj0XhsTewx9gIF2GAuUX0UQYHS+HAeKp9AqhzNH+TR4nRzF8IwCSx/Gs50fAVMCnRq60qtgdKPxEHg4VypJh0D5KBTlZDgZLpUvHxUdiPwolJGTtCoRvyognBt0BQ0xRo0amPOARkMxKPmZZ67M5cm0j2YZ5qBqZg/NLorh9eYZy85onOZew3X/jKXNB1nLli1Ni3KD5IyOI/JhKAPlJkcdosYXnTyZulYWwXOKCGQbdeqcbDxXN+TLCdBYGWDlDkMT9RRwHvfaNCFOm6OORbwm7sxCo6GjTjgkjIFn8lMP9CjqQcNXx/jSsXBk8Umf1B+Qo7iCc3TRU2ZlI190PI80nguhc+NBOaVDV30zwnSGsWFAQ8d13mYxGRDxOcXKQS9jBpbO4kk6ZeUg0TU80C1GxTmZo8n4ODI09NlzThCIF3VAhp7rlHSCjSFsPlSdDNDW8TOG8kKLs6D9hTHEuzpyzmiRhTj45F35BVHbSzpvROu19pHsIG1KD+XB3JbNW0p9qFPOKpnp1PBLluSBf4MiDp66ZvgZTAMQZQXtkP54g8KwSosfjpyOQ7vEk7zQRjNmI9kROs6+MNh0WKeAhvqhRyFbdUl3oj1pW225sn86Q/LSqXIcwvHFu7xDj9U5eeGB/HSeOjtOj3N1Kk8IOyEvaQ1s6JLOKBwE/OJVPIi0Y6Gt81E25/hiu9mBkJsgX+Xg0HMY1T35x9KIAwcPpNz60+FDh8sA4J7sqL+UO/kzsrxuzjqvrZpcOf+87PwvW57ltzytYlszTTK6+pqrszwXZ517NuvGQ8MOLB2iM0/nzv6Oooubc70sS2/MNNWhjnzNGnw2sqWP+hXP0I0+RhvkKKhf5dX+OApmftkTcekFnVO30oijLdMReklGyoa3aHuhGyFLcC20IZ4AnjlXV84d2ZM2LfxyHIJnekdPhdA9bRK/6kW7VBY6rw7RRAdNum3yRF8qH+UhH3WsXMqJJj2SllwEstSHxox6yK5dtn7n/s+xmjPxy9/MtCC3CW8o3/42upAHmbl/kad2hgf6jCd1RtfxzVHULkFZtH9tTFnUA93kNNFL9hjP6EU7U1a+BnugXbMb2hnZKk/Inhz13dqR6yiLPLVnNllc9YBP8elI9C3aoTzwQZ/Ug3atTbbpTRbagP78kqyH2hB7QU+Vk+y0UXXGPpIDO0NenGN1ro0qZyD4CH0NnQ1ZKItyGFR7U4ym+pCf8i5auCjLaGWW1bos22syX5dmuc7P9pdPtLV8nBx5qCv9B7tIn+kuPY2Z6fAt6J660newiYI8yU47I4M2gm/54NnRQNvyGG+ezMQDG2lCSb9Cv0A5u2WH7vUgmJJT3UW/TBVIoQmOojrnjHFSCY0ii0M5w2jECIORFacL+Si8SqEYRszOKTJlZdCjs2vDPUrFyGggBE65OBmME7ryDzhnKDVMFU1xwri5jwdxVLpGIx5oYEZ9YViPwSTqJlfl8J9/041BFEUZlVv5Y7Su3iaLtmyHMU72ET/qRVBn4Rgymuo9GgIeGUuNhR7EjK/OJXSmHdp026GNfvcmArr4oMM63S50CBoxg0cn6RKdZUgYbYg8HcXXDjzTfnQmjIRz8lA+zwW6qYMzsIsON+KhpQPQcaDBCDKQ8ia7yYDzru1xrJ3Tf3LXtpQn+CeLaC/anvzIRBu3RSTgkR7YZq0MwJ94vGnThw8V3nSkDCp+u20alFu+5EeeHBv2RjtEm8F2zbEmC7yyLUI/PcY7WvRHB+h1ug5QGUJnBoX4Aj5MLOCBk89WcKp1FnhQPzpHQT6CcpEXHZZevXVtVQTp2SFOgkBWx4Og6Rh50T8yI2uDgi6Ug23QgdNtZVAHnJx9+/bnch/K9XuozFw9mDs2dM/O9esjRDqxMNfd7Fy/tKJYvPxcfVoaYmAl/92796QXnn9h2OZbQsBJeOrJp8oH3fT43NXnFqfvsssuL2/9Ghk1PIL2pD51qOqAM+Ia6JfgmiOt7jkq6kLd4EkA8pEfHdX3eG7Aw9HUJkJuEMdA97qLbro4yk++aDuXJznob/SvnEx5t8HBphMxq0inyDXKYWaXzWBTxOVk0Dk2LMoY5ZYfnaUHyg3aFjtQ2nELE5VxFHLUpUua5ZXaXtPWRyZkAvLkP3BetSOTYfoD7Rq0dQ61doYf+sgJY3vC14iAtvJyQjmeyksGZBF9C6Adsop04J7zaLOAFzZWPdCFtkzorwkH+haz5my3tO0yDoJ2/FIfWW7RLoPH4FO55a1NaGfqU7s02GVL2FyQrl3OCO6RBXr03KCZHmk/6kqekU49ynbO3GZjiLPObt68+zYi2kWJlunKl1OtL0Ij2iT7rI225QocemXkyHtzZOCnH1WeLkIf8KVODZS8UTC77x79NVFjaaYytXXD8+HydDDW/X44tqeaJlAqgqTkhBedhYZBcCpKQTRe5+EkEZY4ChwFUQmehbJoQDoaQpNeGkojfluZA+6raA0MXfnjSyNAC11BhUgvoKsB6yRUXlQWnsVFk4OgQ9NA3NeY0IvGeEwozBQy4yPHEb/EbZ9PEaN46IW4H8c4b0M5GR+OABk7P5kgU8aRYXDOaHrNazkIY64z0amQOWigBgD0DM9dYxphLAwSpx/oC/2lM2REJ/rJCl3tQMeBN+d0SNzI0xEd0HlEHThqT4y3uhKP8TGiJyNlJxOB4ewO7HQYBpJAnjFzHHn1q/9+wEOsr8U/gxgzSHiKAGgqA/61O2FhPo+8yC1rXpo1Oxu0fM05YoBzhGJIzfxoW9Em2/QFMoxZGfHVAbugY2Mz8GoA4EhWOmadKMcieAwEr+TIueBUm5XREZIXOUW+gwA9dgAfBjo6azTopg7JuTK10S6XuiFbMqbjbJVjyE68Ir98TUbKpYyTQeQXAS1HuuaIf21Lm8ILG9rlGaSThh6oY/KlH2ar7TmdI5T63Z77AdvnKRNaXvnbd3rPvr1pa7blW7ZsTtu2bis7JXGa9uZ6W5XzjrbE3nOq5Ud+eHvxxWad6ry5WRdyR05nfJOBf+gdhkFGOuiYweVwtOuXLJWXrmin6o9dx48yOeKDntI3vEQ9a5vRj50I4A//2jv9kCd9t47YkilOLr7wYcDhOV1SJ9qItsLeBMhNwK++Dl11o79mQ5RXcI0umyI9uahjOs0GKzPeIgS612PBj52tOXdN+Y4IL95CgLT0St2wL/LFp+soozYb8mf7tBFx1am6FEedud8OyoUOmvRLPYqnrsN2Rv7RHgJRLm2ZI4hn9pXzZpkZp5W8yA2f+CMvdcYRplvqUZ6TQeTbzp9Pw2apA8BrG/KRJz7VXfhkyhppAI9BF+Icj8oXthYt/RvZkTn5+h5q186sKzv35Pbb7Ftv4sRbeA0/2s6hPLh2Tb5lyWdOy24rg3bLz+ryH5CvtmrZKsda/LYuB5RDueimZZ6+Y7EES/4GjAY1BsvaBF2P8sJk62MsnDCnmsAVRCUqJMVlSAnCM8JTKFBpKomwFUxcwo6O2jMhoDIYVHTE5fCNVRmAhufy1igpoWsKz0BSApUh78iPMmqU4kdlRx5xjm/xPY/KiXPP+kK0dpgMjkk3PUowFpRDHZEvOUA4sIMhGG2YHltnR8djVO3jrR40AMaeUVr/wvr0+c9/oexy8Hu/9/vpE5/4ZPr2t79TZgI3b95SdM0P5JC9+pG+XXcR3AP1HeF4QE6RH51hqNv6Gog49BaPdIxOMljQ1RmyFzfqQVq8ogPKwVBz0jg9jBfHWUcZ6XQ69JsR0+ngL14Tyj8wqAzQQyeMML3AQ8gcQsaO8hAYYq/21aNqllaewx1oDnhnM2YWOTZ7CgM6QbsNNNgJdgW0a8ZUZ4Y/9gRN7ZyMdSyMs2f9oAzkRs741WmRE55DZ9od0XiI8rEv6oPNUtc6VDw7R7ORwchbFEH+nrNtZEfmHAH1CNKgH/rgqP7Rc3+qQAuChmtyIzM6DePRj8GkOGTOMcOz6wPZbvgwmRzI357UBsd2zfHB6x/90R+WXQX+6r/+1/QXf/Hn6c/+9M/Spz75ydIh+rhVvQTNo0eadsIW7WOPMkvzF8wvM9VDQ3NK532YfmadOXL4lWwXzJY3O//MmTM3zZ/X7OqiLuiOa0Sa8jdt2bnZ8UfyQM+yIq+PfRtkUG8988c//vH0Z3/2Z2WtZuhXyA/UY/Qpju36jXiO7fvitUM7LuBfn0jOBsX41+a93ia73/3d3y220S43ZgK93VBudKJN0hXn9JhDbsBHttoKOj4cswuIYIcWQXkFz3zobIYbXfJX9sH7hGN1xzdFMZCZNTMPNHPdRpmVN9p+tEttB5TJc8CLdibgRz+gbLZNU0fKYMvTbrCW3HdAZAiOQpRHfpFHF+6bcTaQZJsN5K3p9SEf3aDTnGwy5cSSrzKgHbYx6n2q0NbClwlfCl+hc+pYkB/5GmjIny0hI3EC0rR1rQ3323LQvp544snyTY1vdD79qU+nP8n698d/8sclaNPaiz7ZQImbYlknPi0DYQ/ZeXT5FuwL/j0PnrtyEZee0HkOdfhl+GoHdpONiY/TrXmXl0kHM93eXmjz7fIE2nSOB2N7ouMgKmC8QDAUPITXdKrLiuBCqdpwrQOhyDoxjScEFwKHMK5tZ92ogzClE6/LSygvWgTKCXCf8NGQhiDjKDCSOhKKJ27kD2iJE43Oc+fuo9dW1i5y9DFCq0Lzv2MwKm6EkTTjhcmgmy7KH0cyHAQ5ama5oeF1nj/3yrXdHvJRfesEGVId37696jR+Ock+q0uys3Bh+pmf+dn0/vd/MF2cnUHPf/Sjx7Jx/0ZxqnUmf/iHf1R2CPnsZ/8m3Xvvfdmx0gmbvfAFfrPuLsrj2K8xdjHR8y7EoQOhB8rQD+K1n7mmW9Em2s/QCWc6QugoOGdoYibKuZk8yyC0D1BvZk04wjoMcS2rGMvxnwjaX7vj0f60a/zjPUIXCxc2a/vNKEY5o80GtEfOl84Vf+o/ZNmPJsifYeZsiKODxWOkizbuOfmIHzLsBvrYvo58g5Zj+/l4Aci+DBJyfgKbEoNTPKHZL624yq+u2CqITjl4Ur/tckI8C3Svod+9gLwhngfPBjfkhwfy7UI6ehp2WxplF5eOoWr2edfOHVmpm76BPn79a18vHR/n+W//5m9L+NSnXH8qfebTn0qf/fRn0jdzO39xU/Mx28GDZo33NM7ykVy3uW1z2n3E6Ie1YiZ2dnbUSr698gzN1q+wW7kesu3xfGjIDw5xMnPo2TRlIM/HH38iO9CfL47RH/9RDn/8J9nOZOfszzhjf1k+0v1Eb4tPA3r9kbogo+ir5E2Oju066iJ0w3My66YV3AP36Kg+zCtsb1Ism3DfoNlstQ/1OIucYA72n/zJn5SBCccudAbwRDej/2M3OIXKFg60uuEgCe45GlioO7ogRF+MhwiTgQG0+lGnMMuuWFljDLZHwki7izyifkNe0Z7YIXpntjh2q1BX7WBLNfcNkHzUyMlTb8qjLOphEJhhtdzQB4qWwKl/b/F8EIc+Z97gxE4tzs2c0lc8K5N8hChThEHBlmlv2h16gaAhnwjsiEBu8jQAISdxpSU/coQ4gmcha28llO0P8qBBf/vxP/jDrF9/lv76E3+d2+7fFB35TG6zX/3q18r65e3b/A5A87bVLiAGwHZ+2rPbL4U2kwVoR/8R9SlAyCPK1paNdOJJ0w7026SKdulbmhhAxNsJ5XQdQBOtdruFLt24PwhGPMVpBmZDOTEbFdMWTBueRaHa8dFodx7OQxHFCWdEGA/iRwglcpSOoULHdeQDnsV5CNVzcB33IM7b+XTRit4XmaL/Tgm0yxNHYSI5B8QNA95gpGB+WY1XzWCKV356PXduOrvZlHtG4+zNyvE4Qm+46Y3pA+//QPrZn/1H6ac/9tN5tPmWYiDogR0lvvvd29Lff+4fsrHMHUF2tL/5zW+lZ595Lh0+5Nf3jl072+Q5+cYyHtq0QlaDops24Jy843mEdh2E02P2WWdrxkQHyoiQD71mYMxa0XlxdMScj355DgJtQNsTdCSMOlpRbiFmoAN4xkukE8cPgQSw4EeRfMBIH+zBJp50yhHtrgv3xRHCTgghK2k9c8/zkm/PfrQRcg2ZQNBqyjO2YwTtdBD5CPHMMSYOuvHHgngRN/LHZ9i9eD4ovYkgjwhoOupw2vn1g/uehy1V7ui8Ch2y7M1CzssOsBm2ZcvOKLq7evW56bw1a9L5eWBoGYDz89aM7MhyQ9bXW99ya3rTG9+UB9kXZAe6mRU+isf8J1/OWNGvoj85z5xvfpzNTPO80auG98Jr1rH8/3AocXN4/LEn0pe+9OVsRz5VHOu7c8e8YcPGXJ6jZecmduf889eWWUrLSAx85BtOXeiJEHm1r0On4jwgXrQNaMcLvsFzbVf+1qH6aMzOD7E+XBpLEcyQmik1W8vBM8PM0Yw2EvUZUMfezAjKFG911IEBu3NH3yRxIH1YbdZP/bABbURZ+2O0/ihbae+9+2Y0/ZWP+XtyC3pdWdKxKI9jQFliVlNQJvy3g7Iom7d8lnspi8kG8enweIh6kYe10tbf/6N/lPumn/7p4Q+MydZbMm8MzJZ6e8Cht42c+3gP+9ZFlG8iqEOyF0I2wRs0sh15y9mOQ1/xEPHEifgR8BaTHgZdyvHnf26G/3Ppttu+l57NgysD2oUL/bL0eWltbheW4V6a+yLbWpoY0M60U9Vb9NvbiB4Pgjwib/y4DplEXbd5ChRaPfkJwS+a6AjuqWt9ZPlIurf/u8FTG4PKe1AcW6PTBAUkLJWi8AysEJUeBelXoBhNKHxUviCt+GhTKMrvuZkzzz3rR098942MzFwZsaCFPwoZlSpO5BHng6Bd2W243w6TReZi+G+6EWWM80Cb16nwHCA78m6zXvLJ/zjLbh882Mx2HM0W1A9AqIs5uS5GnG511+yB7AODmBVgwD74gQ+Wa8adIfRx28MPPZy+8c1vlNF0jFKHhkZmY6PxRR13MR3lPp60U4H8vNZj3MnBzFF8L6Cj0S58pe+VLSOnU+SAh7EMDMo3GTJS2gw5mrHuGikgX7OJUf8xC4SnrGHl3uGWYWdo5+b2rE3Td/HNcgBa/epLWjSVOewDvoSwEcErO2GWKGYVTxaUR8CPfJVLWSaSt3jsFH7FVQblcY4WmtFRRgj9nir6pcUzHshW/sJYECfsddQZHh3xqwxA93R2Plr/8Ic+nD784Wb9umCdcztwGj/60Y+ln/nZn00f+OAH0nXXXpeG5pBF079Yt6ncbM227dtK/lDGdDko0nAoT/oD77t27i5LUr7x9W+UnUbolrbiA0wfNn7kwx9JH8u8cGJticj+cMrYrShvBMBXt+Pvxgv990xcfAjxvA1xBHWgzVt6ENsosom2ibRWnJPIKRbPrLKZarO2HDx9ZfDFOVcvaJrx9IGuNavqwTcFIX/0u0F+AvtrxvS4EHWT+SgnEQqOlUEcyS7afZSJzOgFx9ZsfvDb6FETlE85BWX0nENMduqbXAYBHsyyqofIyxZ+aHG040NJvBnomBXnVKsPy5gAz5NBlB/ofOi7+6E3cR2QB78nlmK5JqPIG3+hB224FuRhCZS3FJY7bd7c7LV9y823lCUV2sEHP/TB9FMf/ancTn+m/PbDjTfdWHSUDpb6yc71nKE5ZTlImYTp0UebfQHxIs8u+t1rI9IpP/rq3yYT6kWdysPHitp3fPQtP5Am2uF0YEynutug24gCtEMXKsxsRLxuVYiYPYuG0FaCNhizmLYXBy15iBsKwJABI2Ed5XgVIg1QQorVOFvNR2IqwPN2Rxt0+tE6kRiWRD4pcnGjhOEnUwJa3RCI8/a96YA65hgcOqSum2KAzi7E6nnzyr9xyppG3pM9vzrzJG0e3JZflzTjcMWVV6S33vrW9OGPfDj96n/zq+m/+43/Lv3KL/9K+QBBI/bDOZzIO++6s4yuG1kW8sP1qa5DDt1yn+g6H0TO48Xpx592xnAw4PTaqFxnSt8t/TA690rMc51gMWo9OpHXoOWODl2bYRDR9VqwC3RLWy9vI1Jpd/ER1ZGjR4qRzZnmiCPxV6z0a3pzSlvef2B/bts+zGt4k59jOwD9wQNdoj+WV2jX4pMFXtkKNIOHsezOdEL+8mX/BM69+tCZGojIP0IX5BZrH8OpDluljNJ0ZSGcCJCVtx/4iDroB/Hw67WyulCP6kIdKA9ZxPpP8Iwu6vR+7N0/VjpnM6+CthyBM/ve9zr/sfTmW25JF1x4wbC/RR7k6ob+xTcXpc8gUnqTs/KTAIOIBv8vZWfhu7d9Nz32+GNp8aLFxZn+J//kn6Rf/qVfLs4Sp+EDH/xg4ZUDap1mvLpug4yU0/12iLKHDNuydB4DGPILvXDEWyDSoEevrJU1O0iWnEX8/sZv/Eb6pV/6peLsaPPaCIeCQ8ShADQNstFAixzZEAMdMid75WzXhaB+lN32jerOYL6fE1rYjzAOsuaWv1ywUjala0LvL+73QknTuiZTOka/wq6RmXbvwzbOLT4bPWrKFWUwIHEez8nQDPZETrU8yI9eA702iDHA4kj7kM5vcfyzf/bPym9neIuArvbvY3tvEDjZ6nkykG8cBb5PtDfoZ0sg2ib7p67xq+61UWjrWjtEGeVBd2KPZ7vr0LNf+ye/Vn6b4EMf/FCW57vSu3rhxptuKm+chsJRRz4fTJapp+W5zXCuPUPbhI/8on104VnpSzrB/X7wBsHA0sDXQFNdayfysQ7cMin9o3YB7XYZ4XgwqhTBpGOEqYKiK5zKA8JTsQyHQCgqrV8eDIuOMgqtwTcOVyMAikEhdDw69PgCGcYSiHzkGzNbaFKu6MTlJa185BHhZCGrcPm/Qa8een8nAuPVrWdkcjyQ3kcJZO78mFrJ2VsfXX6WPddJxDPj7DWxarQW2zKCw4ezFPSU+V9W+bRo8aK06uzm1Z5toj704Q+VTuQ9ufNdvGRx+UEIW21t3ba1ZBW6BspGV1y3w3jymG5EXo7t0L7XPo/rLpSLQSU7M02xn6pBpjWWHLj2GmuDEsbmeBCdb3TGDLX8+mFEtto05zfbgNwR+NBFO9P2htt19oDMXlrfqv4bB3RrbpeNU9mvLUrLBshfm2awra8urx1zfDaIjuATDbJiVzwbz3D2q4PAWHXRBfryxQs7yNYok7pgB8ezV/IQV5nUmzjSk7kyq/doL8FfhOmGvHVA5DZeXnhhh3Vc+MYvfaMvyqpuONKOBjZ+bQ0NZVqS73tGTu0jnW6ul5Z4c3JaNoBN8AGi/avtQ71o4eKiMzG4Eoe6eOEFhdUWu81lrxzlr2lLHE4fuHHQ6aKZyzff8ubyQyT20Oa0LVgwf7jfUC79Rjg1ZBAgt9Cz9nkXcU9acqPL8sdP2C3BeSDS4N991+Sj7UcbN1vIqeBoh0OnfHYI0Wa1G+Ug3xj4qJdoQ9GO2vURdSIf9wQyoeehE0KgyLkR9jCaU/wfK4t2vEEgX/wKHGEyoG/qg8NJbp4VHevxKyhXhPY98cTXxpSDzPqBvD3XBsURnEuHDtmRuY9J6RDHmnPPFhmg2pFIPZcBYEtnJkJXxmhob+oTnX76BfIJf4p8oh6dS0OPox8JvRPQVCZtQtuOfkaZbEl38bqLi76dedaZ+X5uo7nsczNN8uDv7d61u/lguMir0XHt0uQJWbvvjaoBhmf0cCygiX9BO3Fs9+MhFzwql77QAMfA1wDQshz67ketLMVxLB8957SgnNOFUT1Vu9IiDAoCagdMKgTlUomYt8WStV7oEqBjVJ4gHSfAqNqPs8Q9SkGAzhmzeOViFK4RSOPXyhgjQg3exWfMKIw4ZuyMFBkCfFEIlSuORik/6RmcMJRtJWsHcdvn/RB8tEMXmcUS0Jg1K/Obz4fKK81c7uxQHD2aO9AjTQca/EVj7Ee/XwiD7hgGI+QU99GLsrjf8Na/kXYhnfqxFSKFBg2dAc8cFPpmm6N8YO9aHyDZu3bPnsYoFAci/1kKsG/vwbT5pZfTgw88mO6+6+7iJKI5NKf5Qnze/J5DlumpOz8ewYiVHQCyjmh0GraPFbv1hccYTOGbLNyPcnfhfjt00b4/XrzQrX7PJkKkiTrBu/IrB/k6mjWKmSltjTHULnSW1lKrH4Y9aHVpDgJtx4xMtF/rtb1SUzehZ3hznDfXTMiMYvwfyR3Jk1kfGMf58xfkOppbHOmsgZkRewjPS+98x7vKmlWDMesOb7vtu5nOsc60fOWhvVvqopw6DbTxVpzzLBu8mnnTaYqrM2N/1HkArQh45vD60Otf/+t/XTrD3/md3ykfH0kT+apHHXrUp3wF98gg4gXYGnJHX7n8amt0CmgA/WNzpMMDucbPEZsFk549RQP90qZ6wb04n07gRfnsEMFuOsqjXTaQP/7tCSuONBwLA172lW5qc+ytba3g5awTBr6Oln7Rp5BHyI88dOaPPPLwsA3Yk22iLRgFNM9ZdU46f629psnWjxLdlV5Y/0Lxz7C5b192eI7oZzLNfHPbth1lvfS//Bf/sswm/t//9/+dZd1s78VeyNuOFGStDPjAkyVqiJatwsoPcDU/Ja9jVvaQQdSNo2AAShc5AgZU1jWHDRakA2mk53Shqeyeg3PP8EE39I10gzzwTHbh2IrnnHNH3tZe0z91oA2wBaDfjD4UXc/oXCylBHx6JuBTiHakzWtLsXtIG1G2gDOX5VbvSI7NPeVnA3rHSUDdRLtUX2bsYxDN5pA1uwTBfyB4FI+/wU6SKTsS5SGzsaBO2B3OGbnRhWgb6EZbpKPWnVuOgDe+izoIvoU2unwGxAvajuwNWxJ5uyddu3061xa1XX2xeNKrc/1B24mNfNsB8EknyAUtemPNvaUcJsD4JnDwwKGyXprfYns9P8ZkIuXIYc5y7qutpc79tmakvXPK47sovpmPfrUR16F/+I/yGNh/4hOfSP/qX/2r9Nu//dtlGQ2HXNyQo3gxKAoa7tF/S0FiqRInng2mx9pPAA11H3ZIWmXuJ5fxMKZTHdfHA0qpUesUKBcl9OqDsmucUXD5OFd5pud9JUsBQkCggOIRsvs+lohF6EZrts6hYOhGowB0VRbFQpez4Z41QdJrjKAhCvKLynQ+aIi0EaSfDCgjJfeKxDpBzrSZ1uYVeLNmTIWSAfqTqRuyQ5vcpNNAKFO7Y0dbvKlAWuUnUyNZvKoTr4tKvWUDevDgkXTooDpUJynrwjPp9uH6yOXL5aYvM7Ic/Pkq35raT3360+kP/uDj6T//5/+SvvLVr+TGezjH04HkfHPcojvZcXauni0b8DPu9sDVgNhpjTh4VN94ogMaJTmEbN3rynUychZ3vPjxXH7t+uyGdty47kIZ1J0AYbzptHpmqHR6Xtspo7rRwdODsWgOArQ554L6inwYRYYe7aYNZCch1/uhQwdLZ/XDHOfJ7EQd2G/2J1dKZqGZcTTg0f6aHxgw++FHA7xtuCs7UowfRyPKCeQG6HqVxzjKU/mV0yBeHGXVmblPPhwAe/qyQTq2tp0oepp5t8WWNfk+yuEk0iF00BPko9wGcmQBOm5yoD+gbgFNccyWcHDwwMbZhgpt7S/i0k3PDSw58WTKnqFp1kUZtC00xQXPlCGOwvHUbRfKiz/6Yx2obbLYDvl7Ji9BmeKDLB2WNDoyg1yyUi5yUDd+QMJz9v3rWWfip+7xHnImY0cOjwHOf/kvv5vDfyk/R75n957cOTf8ib8uO1LXX3d9sRVo4uGO2/UffsSj+dW52Xkwb0Bvt5BHs2zpKj2wzEMd+BVbu9J4RWx7PcuT2N4yg5Ztb/PxYy5vcQ+bN2zWxwocG3oPZCGeQEYGcxw9NocTxjHQD4nX7riBs0wW9K/tLJCVcpZyZJpkzQH8j//xP6b/9J/+0/CHb+jIF4KuPOgmxyB0kbONrji+VaFbnBvx2ArtST8trTTyxoNzgwKys/PD7/3e75U9mdn5aPcRAk7Llf9658PXxYFu+B05j+vBUOokZ4I3A2gDtvAJ+Bh2MIk99aPM6kE65TMoEYcc+Q/xgyRt2v2C/JSZHSELu8TYD1kdBtCPOnSuXas7vKiDaENRZ4Mg8gfp2UU80xsDMcBb8Ki86oy9MaGoXbHb2iX7FWUMPtRzO8TzGAwA+Tye5cah1i6Aoxz99cMPP1psF7k3TnLju5R4OZgjGcr99803N7/MqT74AJ///OeH2xK5hU4pA7naIo+8tdtYwhT8CYHhvFr39AfKbBkIZx5tvgldNihiA8D9kINykqu6tVsMHvEyCGb9u4ze+TAjlIBSxm/oEypjyLCrmC4w0g/iUnAdDgPJWDiqcHQVRkGcG30rKMFp1HhROHF9pGYWTiXEPY0IXY2acjnKDy0KrLIIxggNXV8/U0BKzbhbR2UmxWwEwxFll7/OjNKa9VIR7TJHRUaZ8UBhNVBGK+Sk4fSTS/eesghRLvzKH12ykTdelIeyMa7R+UC/PLpAl9wZdYqrk9So0EOXsqCDNj7UC0dF/btH9gIjLF6/PKUTl/KbPbQh/J5sqMlEx+RHIF7OjoyfLfVB4be+9c10V66PMsrOfGSqZSR5+WWX585ocS7j7HQwO2Tq4447bi8doBltefixgEYeR0sn+/wLz5fG8ZUvf6XE04n5uVuvbs9ZfU7mreFZvSk7mjoaeo5vMnZN3uiLSzZjlbV7j1wZVfQ4TxouHejGc022DA5+yZ2jS791bJ6HbgnqTTk5NOqtrZPieQ5RBrJmcPCjvkP/tQfrBwX63uarfT4I5CUfBlM7pafKRK7kp3011zvKwMlAVttrD3gNGC+99JKyewLboq5Bve7fvy9t3LQxl+O5spcx5waLOn1BvjoKbZnzy/Dhgfx8eOQ1nzJGm1Wf0rE9bARnWgeEV7IV2AwOFN31QReexaPv1gyqS/Ym6gVtsvUxrLxBfciLrNu6Iy4bKA91gi5e8CRuBOVSbzFA0fbQNtDwutX63rB/aJKn/LU1zjadwG/bNgS612Mh4uGRfpKxe+hyCPBPXmSHZ3VObuLpuHV44nCorSP1y2dkEg4Evh3xTn5hq7UbNMnNNfloI+h5VcvR9DPnl2Sdue7669KcuRzlWWWwjqZfa3ziiUa/duzYXmjQQTKONm+XIN9Z2Mbvu9/9Ttqe412UHQxvMq697tpMR2c8o+gTPQlHyKDKQJ19sC0geZvZ/OIXv1AcZOX1TJvwull7jkFdlJcTzM6FvpEH/tCni+QR9a5N0QX50xt1b2bROUijbyYXHT0Zkl3oGRmirY3g00AobA0b7tciY3cKdSO+utD/qmP05M22KBf5kQc7EgNSzrTyaL8mzbQ39ALKTJbhPJfLDJfomSTSvzz00IOlfXvb8La33Zr1LLfb2S1djYQZeGEDDUa1C3243Tpi9xVBHdAdMhXUDdmQp6NyhS0gE3aJDcELWbDD0XcDmZFrP5CPeqUv6g/NdtsL+eGV/qoHvLuvn9M22D48Rxpon7dBbupJu0DHNZuER/eVT37KSt/1AzHpoG3SB/aDvlsOwWaQWbQPMhBCT+KXTPFDrzyLAQodnp/9B3GFvTlPNjvKyY5uWL8h89JM2t1yS+7XL788rVjpw0WzyEdLH2+Sg3zCJtPbCMpBH+kdGasrdUZ+dI59IT/1RveU3ZaQ9JJvQzetqW/0rdlvn1+gPtVV6InymbUPebjGs7ZtL3NtUnsja3ZwLL+ujSk51Yi2w1jwTGGkISAFVhhKyBgTqqCyVL7GShk0UnmGcSREQmo71eiGcUITnypAw1NRlIhg0CQYFS0OA8VQ+TAhZtDxybgAo8FBRpuBVHltgxGVJI2jvMKp1qjMoJOTWYp+suneUxZBHtIbIDCW5KNcjDjjoMNVL2SAZ0CrXx79oNFRIvQcyZmM5Ecu0Dg4Q0Whyc4rPko7iFMNDIQ6xq/XP9ZNPpbr2usgcnrk0UdKA/l2bngcAutnF+dOyxIN9XjDjTcMd0ocLc8P5gaMV8Z3U264Tz75RIm7MdPeuHFDmXkyw+KL/R/88Ae5s51dOklG6+qrrk6LlzRfpqsrdUqGoQs6C/pHJs7RpXsaX5Qx6j7K3a/sk3Gq6TR9pzMMUtup7uZFLxgwxps+aEecajqpPOIrk2OUj9FTr9qBNNqdWQYOJyOjPoOvLn+DQBp80EO6IzDKZMjwOqove4mrly98/gvpqaefKrpz9llnDxt+neJ1uZ7OXXNuGsqG9nA2tENDM9KZK88szzfmMvhwTL3QHWURtA10Y12cvLU1TicHGF16GLzSZ8/DgaGf6outQJus2CMOg6/bOYjyZxvIyy4IbYMrONee1CGe0EVLuelT6XSyEabH7ArHzLX61DbEZS/YWPKSBg/qWSfPwRJHp+ZjMZ1gLK2KOhNfJ0Y2ES/ab/AZYVBE3LZTTbc47PJWVh06fuVLj/UR7KuJi6iL+NiN8wZ0kxzwVt4eZYTeKGcMzqKe0Yr+QB7k/9ZM00dQF150YUlvizyvnr2F0onSyZdeejFty4M5yz/Ury2//EojW/ad73w7fa3I9ofFlqzJeveud7+zDMJW54G3NyZeU0tLR/AX5eQgqFsyvys75l/5ypdL3SkLXaNbZBdOddh+7Vu901n00EUPb3QGfY6PejdwZu/VJTmxRY4+pIvZ12jz7BNe6BK6dBjtkCf6dEhfpq2gZcacQ82hkwdEfdBn9oKtQCt0Em11w1bjT38gX/pt6YgPIU1MkT/eAo0ehd7Rweasn1PNIaS3b3vbW8vaXG8USvwcOaigJ8/QPzxqD9aOc6qVg1zImh5om8qsPPRYGciFfNUjveak0V1lZMssDyDrsrQh20htVf2RTRdhd8OmoElm+FMeQX3QEQN09SBPZTBjyqY40hP8RruLYz94Ji+DH3ZH/nwibUPZwhapN21Gvt7asCfKzRnUL6kzgxH0ot+gN+FU68P09fokzqY4dK+0g6JnW9KGfP78c8+nTX7N9MWX0tNZd+T3zW9+o/Bh0oSORj284Y1vSFdmffFLp5b5eHsZNpVMwiaqK7YZv/ILH8SgQLnxQu/4b235uT+eU61M8qLrbLJ78lMeZUdDv628nuFZef7wD/+wyDPsGt9RvPHqCcbcHymEHqFNSMZddJ/HtcKoRApISWMGRuPg3FBecQhCYzdCEp+QCJuBR0/DUXhwDgwiZWHY7MWpgnRWKkAatAXP0eeQ6Hx1QDpfdMRj8KOc7mlUEfDm/lgQP9LIx3mk6SenLshJEFf58EUGyq0cKpWi4VHnyjgqi7zaMh8P6Jo9MjihqJSWojC+8qDgGrrnDFPwJJ0Q14BP5+2yqVf1Ja2vbT3zIw2MGUPwF3/556XTksIMkw+T1l20rnRCGt73s6P98tYtxYE+dOhA89V+rmrLPN73/p/M9A+WBnPPvfcU46TT1dBj+QC6c+fOKa9xb7nl5vT+938gvenmN5WPi6zp8jrXTJSyMKA///M/n/7oj/6odHZ0zOhaJ25AxJni4JKvckW5x4M46ht9x4nSiENHhIjbTUOGIWPxI7Tjt+sg7seWeTpCHaVymCVgENTPdEBenORf/uVfLu3PXrjaNF3VwTQ60+i/H3C5JuuVD3W0RW2UU+P1oSU7ylSKkf87dOho2eXlJ3/yJ3LdD5UfAlmfnZww+KAdRKC3OkGdBYeajpOpfNrywSsnzzMz0eSiE9SuQm740K5ccwYNXGy3JW1b7mi7Zpw5FOjoSHTOOjV56KAdtdXgQ714O+Zc22YPyUsbdE98AW11pg45QDFTzq7QR8coPzmH7XHeyH20Hk0V+MCPjoi9VM8cK500J1BHpy51WPLV6agLky92WND54S34BuU0wLPlmHRo0BftsMxG53hote2v9srZsU89+4QvcbzF0vDNWnO0f+7nf66st/7Ot5sfOnk+1+3T2an51re+kfNtlsdkK5Y7+wVZnhf1dgVo9nZG03KxeXlghzfl+odsb7Zm50h/pbxmytXLkqXeog1lh+76Uv/sm7rQSaMT5aQnbBs79Yu/+Islf4MPDpcZZDaMDKQRhy4rJz3hFLHPgDY6AbTZKPyrH/acc0AHP/GJT5Q48hIvdEN/Yru3mN0DZVQe9arO1LMfKWGztY+YJAo9Cz710ZwuW5tybNCQ1zEo9+hiHP2f+45y1tgQP/jiLaIwCjlJoYjGjLho0kT9O8cbOQfwoazk4pxT7bk2ZvAijTJ4hg57qP45X5xNjnrQDhrjweARyFLbYE/0p+QvPdkDeuTMr2EH1bPJG7xNlEcAjQjRRtQbfaEDlk9omyYEPA/+5aHO5G1ihQ7QJ+Vv542uexEibUA6+mrpk/wefuShdP8D948q55Js6+3O1XwMPyM79d9MO3Y23ymEracA83Md+KaK3cYrPdM22EW6z9ZH3UqDPvvCprDjnGr6Ki1EOYJ390tePahzwKsBKr9DXZEDu619c5bZf/ZGPCEGBvL2DM3gaTyMmqkWmXAxyeOnIApM2VSgjKORDQq0MKgxU+AYJaPDkJQZrFwQnb7X04yatVE6HQWWP+G7xyCHAAGvRhc6HY1JA1do/GkwFNlzfHOmbXXDMdVhqahQJEdAm8HTGDlWKlHeIZMI8ogjp0wFOUrD0MhPhfQTfuQVcB33HMmErJQ1FE5ZyA1t/IgT/OOjjS59KB1Kvs8RwBs5kb9jGEoDDnXsWnwdvs4OHzoz8hcv8mvno5xoOeKLHNQpY6kefTEvb3Xhhx3sb/mxn/5YKYs9Z8l77tyh8mr3kksvLnEbQ2ugMTOtvWBtaQzS409egoZ19tlnZf28oDiOnGlbXt1w/Q2Fb2Vk8Ox9HTqLPwOXGLHSTY3GNbmbzcE7KGO/OuxCx8qJRZsjFTrQL61RMLnqCPHEKOqkyCzqk/zxLr2gwzSzjkf1oDOXV9DX8Bk8adHkVJglIVdxOGYGDNKHHPrpySCQh7zITV1ov5wpQFubo5+lrnvLAN7/gfeX9klzlPvAwQOlHOp/1apGT6ypd0TDl+Tnn39eluW6Uo/RSUW9o8+WKBMHjrOKVvsNQ7t80niGV+ka/Wp0lrFU/+ocv+rfXrbouo52FnXjKK12KQ2aaOObPJQ76oietSFftkpAl26i4z4a2jmHSWdt9wZvW+g1usovb3qBj5ghUxfaho6MrNBrlx2C/4kCkLU2y0lkA9QtpwMf+gHlxQO54Rfv5MCmckx03MpOpkETnCuDcisre08+zkMO6JEfO6NM7BHd5Yigv6AnZ7TUgR8KIQvBLypqd3ixO5BO/EgeuM2ZO7s4MNrXxZesS7e+9db0kY98uPQDMQMc7ciHs/SX7pXZ61zOefPmF94WLWx211iX26uO3a4abKa2p69UNoMpZUITj9FGlQsPZAWeh664z2bgRznVvyUK2i4Z0gFxgpby01u6qT48c99zAf+NXTy7zDbqU8nQBBQZtNsvHgX8iY8PZURPvOg/tTd86QcMsAymtWf38TMWMun8n7Oe0+ND9Rx81GYAyhb4wac153F0bimTIDnb5qPQjJK+B3I2IDEhRD/xym7imzzwrD9WLnLTztUPObtPX8k/bD35aWfaOtlrk1GW0KmQTxtx7Sgv7YGfQJ/di7oIuyIfs6Z0Jpan0XmIPEC68SBuvIU0gaHc2rx60DaUSVnJQv2rG7rBFnHi6YB2LA6+TYLRb3Cuves3pFXPyoQG4JGOkCk7QD8t31DGRXkwKp62RFff+573Fr44zptzXfm+6fo8AL14Xe7Xs11n47N0M82mv8CjPpBuqqew9WRE/+id8nGk2USDA3mRsfh02ZF8zC4rkzR0nz0I+XoOaNNx6dkduoSGeOyW8ofOGKA4amf6BfTwNVFdzciZNbn14FIGjLbRKiYZa5Wo4jDVSVIQzEM8dwx6oADoqkCNg5IwWG1DQCCEbdRCgYDACUIlthGFIxQVTdk44rHuB+/iUHyV5zieIcCnkRKDhi/lpUhdIYoXZRJXeTg9FAL/+KWE/dCWUxttOXG8lJ+xjtdYeOD0qWC08QcqvY0ufdfiRCAXdAX1ER1aGGmyUQ5l4vx5pl7CeUADzQiRR5yD9OShLgTKKfhieOWZZxW5cjrRtmXa1q0vlzKeVbbmWZY7z1y+rGdZKg3BbJmt0aY71mX7OXMzOfinN3RDQ8DjsmyYdYSSFmczd6zz51uCNFKHZE3/8EZvxGNY0GGsGUNQJnJvl60f6Ju2oq7oskavM4p2EHBN3vJVv/LVtuiMdPIhX/EEeasPOqnsnuNRBwCeiU/eIL5zM8d+blg67fXf//t/Xzp85RqkPONBftob4+2c/HR2oa/qRLkYLfWBX21PnVgj/cL6DWl3lteZ+ZltEW2B6O3FMDJr2JOHOhaCNh0B+q8dC+QnkF/ITvnaZQy5kk20LbaCjqoPz6MTRAu/6NHPfrIiQ7YFj3hSN/hEW52goa0qewAdvEkj33AQnNM9vMlfvtLRH+1N6PLgWn6caunxrlOXltzx10a/MvSDMgl4MUlgxlK7YhvQdl9+yot/de8eXVBmDrg6DyenX77uCeSORtiiqAv8yytkQY7qGT3yG0Y+dWVdtd2Cos3s2tXwR7bo+g5j6dJmS0O2gu1ZvnxFWpbla6lYG3Qk7J+0zz33fNbn/WXv+1LOeQZ0S3P9LC/lpB/4FtdzNg2vZBZ1oKz4Ek9Qb1Hv8sOX/kIgv+gjyUY69gg9eeGtDTaVLgv0UJ3RL22e/Oix8rLfyg7aJnTrR17yplPyp8to0U1p6VjoJrraIP4hythFmz54e+WWZBvygO3FLAf5oM+mkQU6loeI104vLzJjOx2Vi24op/IGD47i0iV2mazJRZmUT1xp221dnbnfLk/k3eYB2tfy017khSd9pnoQyFk70I7VX6N3y4sMA5GP0G2zbTQyaZYlKAcZRL+Md1BGgS7ghT6SZ5Qv/Df5KGcEeatn6Qx0XItLtl0fRnwy5HyHDktrQKvf1qaUUbl9Q1XadZbFhRdcmO8vK/e9hZZHAE06FjrviG70IXiP9kF27gkh+yiDa28ktAllDHtE9v0gL3J0RAdt/o/4dAEdk6X4IUdtG0205T8ejnGqwa0IoDGHsUW027ihLSjo0ojnrgmC0FQQELaALvrtig9l79IJuG7fU0GCygY0KVObZ2XpB3TCKOFBefuVNfgKuBYfXXzGs+C5jS7//RDKAo7BR/CFbvAV8QL96IsfAUKmgvK63x6wuJYnPtqORZuGe9288NaGuOpZYHjk6ydNpYs6LrOUJZ3OMddzpzyB8lOnPXHi6wC6B5qGR+nRHF3HzdKQo680ZWhmvkfQrlsywF90hlGuKGNcTwR8CeJ3ZQEhO88EPLjXj34733Yc520eQZ7uCwy7pVCf/exni0Ewg/s//A//Q5nVCQPTj7dBEfoYhsW1/NEkxwhkq7Ns10lZrkNGuV44KGVbrfx3DD+5HH7C/MiRpo4EHYp2LT96xF5EewDycO75RCAn8dR51AEdIR95Bc2QaRfykl5wLgRN6eM60rafO7rGOznJX9BGdPTyDpqRFsgN0Ecjyhp5BC+Rfxvd635ABz/oRvnxRS4Qeo0+qA/yky7qo5v3RPkG7/LRF8gDDfVQOuBO+ojfRrmVQ9GkfGHwbE2nsuDP0RIRy4nQVrZZM4dy7KwnHXLSW6sNeLKbwZzsMNg1xBIyW+3NnWfQMmIXIrSBTtRXyLOtKyE7iLKCZ20dCVkHrW4+QQ+ivNqI/NDlFMVzNNv6Al160kWf7BkZoIsOXiKgA3GUrk030I8+sAPohl02Ma3+xFfWpvwj6R1DJiM0RuTZD+JHUI6QOf71dWSOVqSPuOPRhPYz8UMGIRf8k6E8o26j/qBNP87b9yZCW/bylC74UB71r6ygnNpmlCvKG2kc2/yzQW2bGhBXaEMZ1SEa+gJbokKm3sRXn/nPmwkI29/thwPBG/7btoDukWMA7eA5IF0AHbKXvl9ZxkO3nPIR0MdL3EO3nWcXfZ1qCaNQGCQ095yLHoa2jW4mXQadR5ygrcDOPcOoc3HatNwTL9J38+neEy+EKl13VKEcbV7acF8IOMdXG0E/6EaaqDznQdt5F/3y7QLvIC7FxUNUahv96PdDlDn4bNPyTJBH0HOMeom6D0QcwJ/ruIdut+yO7gmRl+13fKzQxM9x8l9sz1OuWjQD5ADNj4PQn6bBxD7G6KoXnWK5l5OjC9qx18FtiBv8Sht5Bq/tMChC79DBWz/dAfmGLLrlhOBD+uh82nxIF/omP/nGwMUHSmaqrQVlVH/rt36rfGgWbwYibaSfDPAVoZ0+7imX40Qyw2u7TNK0wQCbrQJx0AXxQmbKHXbINX6CnjhteN4NOjtHcYNmyCXK5l4X4kabbEPe4sf9oNkuY1xHgPZz5910cZSn+8FbyATE8Qzi+WQhvTy0d+fki27kgy/XwY843Tzbut/mKdLEMWi35dym51mENuL5+FCnBtOZ3/xXdNJfTqsMTIIPEkO/hiG//JdPSjw8lrjZGT98ONdJ1kn8xu4UUVY8tusC3Kfj4Fk8j/JEui44E/QnZB19jPbtulu36PS7Jz6gJR1eg6b4RQ4ZroWAZ9JDyACNSBPxi2wyIm7QaNOCsa7pGXoGLBEl6Adt5+307ruO9oUGuXbL3wUehaAV8pHWvXb6bnkg7gXazyD4RSeeRX1FvYcsg492XHDevh4Lwbu4zqMMITt03ReiXM7lHdfihgwDkUa8sWTqOUjf1sfgYSJIg0bIpI12fmHn0IwQeUP7OvJ1Hby7F+Vtl7NNA1z3Kyd066p77Rh590NfqhJikCAQdHRPI49R9SCIjIMZNAWCC7pRuHacuI7gXhiIQDwDFY0mp8I9nW10uPLxXD6O0KbTRptH+QWNLjyXF9rQ5sO5+/iZKoIH/JC58+MBnvAW5WsjZB2849t58ADuC210ryHkC5Em6IPn6EfSpozyyMbiCHll2eUOUehCxwjWaJEJGu0fBpGPrXrkoa71j9ZIxqxSF/KOMjvv6tdkgVbQQytk14Zn+Izz0DFx28GzUoaMpqyj+YrndDBecVqq4+NfH8xYiiIfa9ViLXXkC9IG/ckg+Bek136jLQePcT0ewlnox0dz3XNgevIAso184n7w0pVPF22+pYt23aYF6CtT2L3xZOSZ+hOCh+Ax9KDNVzev9nP5OZcOgl48B/kAZ819cfDQTiNMFWiOJRcInkImwUM7T/cg4o4Fz9uyDX2RXzxzT1nj2SCQ5TBfue2jQ7alPnp/nG0D+vJWrGdT2Io2t9KTBYcaZs/KHfRQ5m2WOmoGH3gLPYk8wFG+yuIoxDPn0JZNxAH30Yt7UfZ2nDbkK7QhXsjAefAY6EenDWkjfRwhruM8QtwbBFEOsmkGtY2D1i5D5N9F6Ia4ZmInKkeUXV05ug665BH11KYzVt7jIeK36XTtf8gKppIH4Jm9Vx6gn2hGGdr041y5XYeNEsKOtCFO0CAXui2ffrJRLvY76ERbcOwnUwg+2jJpoxs/aESecS/gHl5DJ8hGHnhqp4l21w8Rp4vIF11onwfGShvoO1PdRmTSxnhJxG0/j/M2je69iZiENs3xaPVDv7Rj0euiHa8N9wfhu4uppBkL/XibTvpdyG8seQTkP4g8R+TnurkX6XIucWtcNE71SF7BWhyHn5STsQm2+Y2GOFE5JkK7nG30o9tPpiPyadCPF4bMulc7ogjWxPlA0VpXaxR/9md/tnwcE+sOQfnQ6hoK6JfHWOjyN11oy2Iq9PvJEp1+9wORT78y9UvnnkCGE/HYTT+VMp2KaJdrrDJNteyRznHQNCPxpB2db4BdKTRHudCBaJeT41GabjnbiDIMUo4unXaasfLo0p0onudjxelnE8bCWDQmwnj8ejYR/6cSQpZ4mwx/3TIOmnaq6QLt9K+GPENeXfTjpXuvy7vrqZZhvLTRP8bzQfltY8JWNFXGA8Fgm073+ngwnbQmg1cjzy5OBR4CUQ8T8RTPB+W9HX9i2r1jLxSMn+QYRD4T5TURxkrfvd+v0cIg+Xtd7OMMWwLad9WHieCLcF+02z3BEpB2Z3m85QpMF50u0I1wvJgsjX7xx7o3Ff6mkuZ0wFg63MWg8QLTLa9ca+VvOtDWgbH4jDhjPe+iHb+bph+Nfvf6oR0vaHfTDkqrjTatdvqp0Ar0o3U89E40psJblGmyZZts/DYm2/ZOdUxVDhNhkImSiTDhTHU/jJckGGrHaTPZL+0ghRiL3iAYj5fJ5n28mCzvg+B4ZDNZyKufPCLfycvTeXPdTptz6XWAwkj80WUdPVMN5fFIlNbj9s3ROFEy68pKPt28+smyH/rxyKm217tN/i358EGHL7dth2T7HzvXeM0ar8Xa6Eev373TEWQ6GTkPUu5+6QeVVz9+Tnd05dGvfIPE6Yfx6mosjNCWduz0Y9OOtjm1eupHd7rrfCoyh7HiteOKMxl+pZ0o/mT5nUz+pwoGkcN0I2Q22fpq49WQNR4G5aN7v53uZPLe5Rcmyv+EOdUTYbJCmmz8No4nbT9MQWTDmI78X20cb/2PTu+8ue6f1r2R+KPr8tR2qqErq25eg+pSPx69qrItkCUgtiHiQMeWV7b/4WS3l7O00Y/eiZTDq43j1dk2gtZrWV4TYSK9hqnKadA20cZIHtKOnX5s2qe+Uz0IBuXjePmVfjrK1+bj1ZDX6YiQ2WTrq41XS9b99K4fuvy9WnrSj9+J8q9O9RQwBZENYzryf7VxvPU/Ov1EdeNexDHS7Z1mNPFHpxmbtTEfnNA66cqqX16D6NNYPHKa40MQr658vOEemvFhiPNB+DiRcni1MZ6MJ1vuoPValtdEGESfpiqn8epqLIzkMV7a0faji/aHz5NFP55fDf0YlI/j5Vf66Spf8PJqyOt0xFTk1a3vV0vW/fSui368tdOdTN778TtR/lNyqisqph+TVcNXxyicjhi0ib9ahraiYnoxlS6t6n5FRcXxozrVFRWvcVSnuqKioqKi4sRj6u+7KioqKioqKioqKioK6kz1NKErxonWBXVRZwlHYyxZVTlNHoM28SrbioqKioqKqaPOVGdwOgZ1PPqhX9ruvYnoH0/+rzWMJ4sqp4qKioqKiopTEa/rmWpFbxd/opm6iWafu6Ici554U8nrtY6u/CbC61FGFRUVFRUVFacmXrdOtWKX0LsuaImi67C1r9vnIb6gB/3SxjNw3o0DY+XxekFbluMhZPN6lFFFRUVFRUXFqYnX5fIPLlsJfLIIGeO7coNhIkdvIoexoqKioqKioqLi9MPr16ke9n0br3osV5eTPOiMaDdev7RxHc/aoaKioqKioqKi4vTESXOqzdBGeDUxKneOrH85zJo5M82c2Ti2wecgju54caKs8Qt3MIgD/Xp1sEM2fhkwZBByc+zKsaKioqKioqLiVMGU1lS3kwzq3PgpZU7R7Nmzh52n8XC8zpPV0sFlzq135n4cR8qQXbgSw50jmU+8cuzmzJkzMB/iteXSTnfgwIFCb2hoqBzb8doYL4+x0pwoTFXu040jR46Un9smQ/XinBzjJ7grKioqKioqKk4FjHKqOTDh9HGquo4Vp9hzR+jneI3ljKGJPqAxVtq28xh8dDFWHuMB1bZbevSVo42rnWkdzXzt338g7du7Nx06dDDNmzc/LVm8uDhvwc9EeYrX5l0Z4cUXX8y096dFixalJUuWFJrQjhsYL49+8U8kpiLj6cKhQ4eKroTz7Hzr1q3FsZ4/f36aO3duOY6lRxUVFRUVFRUVJxvHzFS7NCMocGI4hGaXFy5cmJ3NecWJCacauk5N93rnzp2FhvucITTQC7jfThPsxLFLD/rdGwtRuK5LeuTokUJn5oyZhb/nnns2ff3rX0+7du1Kl1x8SbrxxhvT+eef3/DXSzMeOmIs8nv55ZfTV77ylfToo4+mM888M73lLW9Jb3rTm3oxJocu/RONycj4REGZhfXr16fbb78919FzaeXKleltb3tbkWc41hUVFRUVFRUVrzZm/buM3nkBZ8pM4fPPP5++853vpLvvvjs988wzxRE209p2iCGcr35O3969e9N9991XaDz22GPF0Tz77LPL7GOkK05rx4ELWv1o9ovfhjzMbB7Jjv+RV3LIxxlmNHuucVAs9/NxZqa1b9/+9ORTT6bPfPoz6Z577inxz197fjr33HOPcaj78dQPyv7444+nT37yk+n73/9+euqpp8rA5MorryyDi1MBY5Wln3zHk/lYGERW49H1TF0+++yz6ctf/nLRx23btqV169alVatWleU5JxtTkUNFRUVFRUXFax99p/nMRHOq/+Ef/iF96lOfSp/+9KfTN7/5zfT0008PL+EADkaEAEdKQCOc6i984Qvp7/7u74rDalZ4EIzlkAX9bpCf4ByPe/fuSRs2bEwPP/RQeuKJJ9LWbVvToSOHe1RGIBez1njduGljKeOGjRvSnj17hp8H0A608+4XGh72luUf27dvTy+99FKZuTZg6aYfFO00kwndeor7Y2G8Z9ONQfKiMxs2bCj1aIBnKUhX7yDKNVaYDvSjO5VQUVFRUVFR8dpCX6dap28ZBCfG0gUzzV/84hfTD37wg7R79+4Sp+vUdJ2GeLZxY3ZsH364BK/vOavttN10QmCsZ+3rtjMtxCw4R/bee+9Jf/3Xf50+lx36Rx95JO3NeedYhUaZgs7xXL2Sz2fMjF0nskj60BW6GOs+mEU1K3/55ZenK664It1www3psssuK2uru3QHDdOBoDUeD/0w1v2xMNn4bUiLPwMT56EvztuhH+LZWOU7XvSjOV2hoqKioqKi4vTFuAtSOTLxsd6TTz5ZXr/fcccdw88Ck3UI2mn7oe1kdGm3r/vlyzHmjL300ub0wx/env7iL/8yDwi+lB7Jg4Ndu3eVOAcOHSjHWNvRj04/iNcOgX7pOdVr1qxJP/dzP1fCL/7iL6Y3v/nNZflMv/T9aEwHurKWT9vh7Id49moFwPegetJNG8cuunGnEioqKioqKioq+mFcp5oTYY0y+GjRrLUP7yyR2LdvX7kP/ZyNtiMSIdDv3nSBw8gZGxqaXQYE5UO27Jspx8GDB8vzoaE5+db4DtvxAg8+pLvooovSu971rnTLLbeUNdqvBkLWMfN7IuR+onE68lxRUVFRUVHx+sG4TjVYTmF2lZNoLas10nbJ2Lx58/D64IlmFAMnxKHrkIvdII4csXzjiEzTK2Zmj8q7PBqG63y3dzV5J1vKDslRIBcfd1oGsmzZsuF9rzn2cDIcxZC5PCPEvenEiShLo1eWfTTXA+GYuG5EqKioqKioqKg4MThm9w/gLNut4nvf+15ZQ718+fK0YsWK4rByrM1Sn3POOeW+LfL6gUPkQ70f/vCHZRcMM8XWFN98883F0ewCbflKs2nTpjIbbsmJDyYF26pt2bKl5B37F9sOzy4eHMVZs2aXmdinn36m8P7EE0+mhx96OD3+xBNpwcKFafnKFWWGeueunWVpyKHDh4qTK92B/QdKnt/99nfLB41r116Qrr/++nT+2rVl7+oNGzeVD+SezuHZZ59Lz2V+fHR4+PCRQgNdTrx12dZkF/etNzuuHD5WJDd82gHEkXw8t5uF8tnhwnUsD9mxY0cps/toOPpYT3xpm3yHynk4tM7J0TVZyMdHfvKXnjzJ5oUXXigfTsoDog7l5xk542Xx4sXlfhfyaaOdvzwFcLSlIr7JT96O1tbL37p3bw+U2Y4o4o/QavagNiDasHFjuuOOO9Pzzz2flmWdu+XmW9JF69bldEM5TQyWGge8qd+XSlnk89RTT+djo0Mvb811duRQmptlZ5/yokM9eTV8jN6X3Pnu3T543VDkh5aA1oYN64v8pENDGYJWO30XIbs4ttHvXkVFRUVFRcXpgXGd6u9+97vF8bGEgZPJySrOSXYoOUH2Cj7jjDOKc8ehaIODMIhTzfEIB4TzIq403/jGN9K3v/3tdOedd5YPJe+9996yLZ8ZcvHlOTQ7Zn5fyU7mUM5vX/rMZz6bvvWtb6dHHnkkPZWdUQ5i5ibtyc84ww/n+z/60Y+KQ2XP4wULFmbHMzvV2XH+Ti7vtq3b0toLLkjXXH1NLtvy9MADD6Qf3n575uU75bn9ku+5957ivHPw52Q5LFiwIPNhVp9j1Th3ePRR5mc+8+nygSfHmPO6NjvqeCYv6ZXXWnXBfR8yctYeeuihIn/B4Ea+999/f3EU1Q9aHHTOHIRDFkfLdXxsypGWliwFvNiFRb5ocQrlKZ188EE++Lv44osLrS4iD8BzwP1wquVP9niWp7zRdq4+LSWiYwYJ8lq6dGk5NrQb+TlVt5zqO++8q/Brxv+WW95cdHIol70ZVBlEcOB3pEcefris+7eNIT1yvOtuOnRXyW93lsnMWTOLY93sc42GH//ZPzy4wD993bFjZ9ajRzMN/Dd11Mjv7uG6UFfiqwt6ELJpy6WNeN6Ub3SoqKioqKioOH0xrlPNieDoXnrppeknfuInyo+hmLHjTHAYOcccUw5ROHcBToI4EznVHCkOCOf9q1/9avr7v//7sryE4xVbqAmcQ3TcczSTyRk0C83Bnz17Vnp5y9b0+7//+8URXZ/5Nju8Jzv2e/fvS9u2bytOtZnr9S+8kFavXp3Wrbs4LcuDAs6/e3fecWfmY0cpp9nqrVtfTv/pP/3/ipP24IMPFkedY79+/QtlRtcAY9eu3cUZM8DgqAtl0jSXSfo//PjHixzNhMvTLiDKLHDk0FReDi0nj2PGYbOdoXJwrtVFzDI7SiOtAU0MaoAcyZnslQnPtkNEXz3gHd9kiB/01CfHkCzxqQ7I15uJW2+9tdDtou0AhkMYDrEjmClGy+4rt912WymTfOmOZ8qhbBx4gzQDNm8/yux7amjJJvurZYtDdTPiVN9SnGo6J56lPer6u9/5bvr8Fz6fvva1r5XBmHKU2ffnn0vPPvdseurJp0p+7l+QB04rytuL5g3HkLcWM5udYww0yIfMPvvZv0nf/973093ZkR6ml2X45JNPFPmFLGPAFG8PONqOXTTlqk50RUVFRUXFaw3jOtWcIY6xNcF+DfCqq64qTiOHl9PGGeFQcxbN1LXBaRDHzB5nhLPHOfeLgrGsgBOIHofo85//fPmhFLOqHGzOoh/5kOd1111XnD40OJOcGDQtgTjrzLPS8mXL08xMx/por/7RX5Gdfdixc0d+vixdfMkl6eprrknX5nBNDjfddFNxguZnJ1Y5duQ8v/b1r2UneWceKKxIBw4czE7tbWWGmSNn1la6Sy4xezsjO4Jb05YtmwvvZqc99/PmZquV/ZVXjqbtW7elL33pi2VbQQ6gH3554xvfOOwMmqnmlJk5Jm+DA/K2/aAlG+edd166+uqrC207iXjOAeXUeU5GZI8/slQOTi2e1JH9wTnKHGdOnrhkqQ6klT9ZchTJ3FsAAxhOJdn75cJwltuhH+K+OkKDY6s+1RN6fqyF/AwqOMQGVvg1Uy1fy4zoEr7mZge1yas3U50HSHfceccxTvXcuUPlx3s2ZVkop/zuu+/ekp+BkXjvfOc70+VXXJ5Wnb2q6DUanHThrLPOKh+Pzp07Px3JfFvOQx/Jlu5/9rOfLc787j3NEqim/t5QtklctGhhyUd94E8dk69yqV/1EQOMNkKeFRUVFRUVFa8tTOhUm8XkoNgOjjPRduw4QhwIs9Uc1DY4DjFTbYaUA9VvppoDaCaYQ8SZBA7v+9//gfTud7+7OKGWnkjLyTSbywnbsnlLWa9rje3F2dGdP29udlhmFQd73UXrilPNGTIzzXl685vfkt7znvekN+fBwSXZSeWUnbH0jDR7aHZx/mOZBJoHs0O90zKB7AB97GMfTW+99db0xuyIckgvu+zy7HBeVGYk8UEWfCROIweNo8/J5jbtyrQ4lxx9fHOQ3/CGNzSz2RmcWk67GVuOKBlx1MhTuZXfz6XL1+Aidg/hGIrHcXPvkjxg4DRL76juzHJbQmM2ndzsQPKTP/m+9Na3vrXwwEG89tpri7PIoeb8Sqf8BjB4NVPdzzEcC+qcvhhIfelLXyoz5fRF3j/2Yz9W6Klb5TFTrJyWiXBI6QHZma1euuSMNMfsexaiZR1+lOeO2+8os83hVF944YWlDnbu3FX0yz7q6m/hwgV5APjmXNafLANBOntxHiCsu/iiUtYi86eeznWzK5275ty0+pzV2ZnnCM8qAwI6bZBjl5t77rm3DNZuuvGmwj8H/YYbbsyyu7zUB3p0HP/kJi09je8Pus5zM1Bo7nWfVVRUVFRUVJzemNCp5iiYgeOIcd7MAluiwAnkVJo55jCaSQ1nmcPAqeCscqrNxnJYODgcIk4bx9I9zziefrFRvpwVDhEnxo+mcAg5WqtXn5vzOK/MZFqru+XlrcUZNEMuzqqzzyl5L8kOEkfbrDWH8t5770tnZqdavrdkh/7ii9cVx2zpkqWNAzyjWYbxQo57+w9vL84Wx0uc92Yn/EMf+lApd8kjO85m7TmyzQz7y5mXl4tjuDQ76GZ3m7LNLk61j+a+8uUvDy8PMFNrljgcVQ4ZZ966bY6y+2RtAMMRJQvXyi9vgwNOqjTWS+NTngYdBjdgHTCn0Bpm64HnzZ2X3v2ud6cff++Pp5tvuTldesmlhf+zz15VHFN0OeOWlHAO1Yl6lDendBCnmiOv7tQ7B9dyEw4uum9/+9vTRz/60VJuA5lzz11T6lJZzll1TuGbQ/3CC+vLUpoLLrgwnZPLvHDRgkKbU229++133J6ee/a5tHxF86HiBWsvKA6vNfAGJfIk5yuvvCK9730/WRxgdUZfOLlmqs9edXap9wMHD+Ryn5N14ZLiWC/LAzEfKXo7Qa8NRhrd31P0/gMf/ODwoPK889YMD6CUgR6YbTdbTS/JTX2pp7bjPJYTXZ3rioqKioqK1wbG9Zh0+JwGTlMs1TC7yMF4xzveUc45YhwoH4Rx9MSTzrEbwBE9cThdnBhOoBlODhAn7C1vuTVdmJ0rs85LFi9JixYuyucrslO2Lt2cHap3v/vHiuOCDidO+sNHDpfr2dmhnTt3TnYm55aZzJxjmjVzRpo71NybO2duWrRgYfmwcXYujx07lMvAwE4TRzNPHO2LssP5wexMrc75LDtjWeFhYU63NDucZ/V+KfHKK68qa6n37NlbZu63+Sn07FzKs5Q3/+OkKqdrZQ4nKmaV27LheHPg49cXzYRy0vHm6I2BmWvP0CFvcuNcg5l6TuZjjz2eHe+nsmM/I12eByZvfevbyszzOeeszoOOxZnevCzXxWXgYMbajLg85RMIXgcNyqBM1ixzcs3gcz451BxTvHNeDYLmz5uf5XZWmfV/4xvflK679rqydMaOLcL27KSSXUE+ou+YJTWcn907yu4vOU8Dv+3btpeBDB2Sr3ohzybMz076oqxTF6X3vPe96dd+9dfSz//8L6Rrc75LFi/N9JpmoO4slfERpQEjZ/ytt7616PtFF15U1t8vWNCse1cf6oHzHoMPaWw5ycEuPA+AqPuKioqKioqK0xvjOtU6fI4fh0EIR8FstaUUlg+4Z5bTR2mckXDwpOOkdAMnM+hwiDij0olvVpaDYg1x4xCL14RZs5pty1auWJk++IEPlplx1yX9I482NPM/fHKSzWLa5SF4Hy6DpRn5KHKTpHEIAT/NB4BLi3O79vy1xXEb4aKBvAwoVq06O8tiUU6vrAdL2Zw3cZp47VDy96A8b+4pg1lNPHMErTsnB/cg0jiaWZevpRPBszw5lfg+kgcW27OTbeu5l160tnxJelN2WjnUZ2dHc86cZjb78KE8cMiyQZfTKc+PfOQjhQf3yL5ZxjLxLDWIh440ZtwtacGPWX3LPdwn2+IoF+c4jq8UJ9ussbXx4qx/YX16KTunBw6O3gNdXFBfURGzZuXB0ry5xUnHgzcjHFtrxK2LxoP7ZGVJD/0zQDIo8yaA/pIneOaNg3RmnvFsJv+yyy8r+k42RzOdw4ePlsFMKU+GGWuz0wYkeLVLDRkE3xUVFRUVFRWvD0zoNYUTzKkADoqZOo7v+9///uKYmC01Q/e5z32uLBvhzEjDYWyH4uxmJ6c4KNmJ5gx69R/LLThhnCy7MHRxODsx/JS584bKEg+OJzrSmxVFz37TZjBHMNqpLcFdhDpwj2M0Zyg7rtlxN0vJySo+XDt9Dj6O81GdmWSzvn5k5uDBA1lWh3r5x4zqsWmFyE8ofOd8rJEmV/k6htMM4riOYJbejCy5WXJAjhxhYf/+faU+9h/YX+iYtSXbcKj9Hk7OODuFI2uwxeNYo8mZBPkM6lSjE7PmZmk5qPLllCoXh1td2bpO3OG889HyFHJUp+LYpcVsOx0iSoOgItMsjiyxYbkJJIT26nNXlxl3s8cPP/RQ+tM//dP0x3/8x2Wwx9HGg3J5HgMYjrLrKC85yNNMtbcvcPbZZ5WlKkVfMw/lB4RyvNjPWr2RETpkrz449HQynO6KioqKioqK1wcmnKnmHIQjXByZfA84EZZA2CHCTJ31zZaB+Eit/SEdxBENjit6nPWydGHvvnx/dlowv3EAy4xfdqS64GjzrQ4d4sAeSmeuPLM4i0PZwdmzd0+ZmZ0zt1kjLb+SZ+/Yy74AZaGZq84h/6dcUGaa8x+HmWNtIMCRG0GPUL7lwzZBWThcB8tM9aHMY8+ZKsSb0zYir3AMpZcPZ49Ty9kj2yhD26EWnxOJP/E9w3PQ27N7T5Ep2ZNj2Ud82RlpaE6z5V7jUON9ZokjbdCXp1lbR8/KgGJASE9P4sNN6Tmz9pb+P/6Pf59+53d+J/1P/9P/lP7Nv/k36d/k89/5Hccm/If/8B/S3/7d35b170cOH0l79+xNu/fsKfnb+YN8ijOb/0JmJeQ/ukB23ii87e1vS2vOO68MvixBsZXg//a//W8lz//n//l/yoDPwM+6a2vZOf7h+MpDAI4xpx//d2X+8fdv/+2/Heb/d/7t76T/+X/+/5Qy/a//6/+a/pf/5X9JH//4x0t8zjWaaJNJRUVFRUVFxesHE05FhjMnxDVwZsyqWotryQZHz2t/HybaxYNzF44KZ5qzZlbQOXA+9u3bXxwQ92yj5mM/25uVdPKTZS8UUvkoe3R8jGidM74OZSe7OJf5WcyGWhvdHI82JPJ/jSvWI5lvICnk4UI+Ns/kzWGdN39ecZpLul4QoZyTScvBxhTntHFQm9sQ52Q2kZOFHzKVf1vW4fQGgha5mTGdNWuoOIEY4VAapCh3kXceZBh0kEEhkckGrTlz5qbZOa2bbs2dO68MVPCA9mQcQzyrQ46lepC/2XMffxpkffc7t5Uf5LHtnQ8Av/Pt5ujDUI7uM08/m53og2mB+sy0bG/HwTZYIYlZuR5iD+l28MZA+Qwe6OA//sf/uKzHP3PlWTn/Penxx54ov8RoJ4+/+qu/Sr/7u7+bfu/3fq9s30hXOdf4jeBHgPbu2deU/+Dh9OJLL6W777q77KTy7cz/t779rfIBqGtB2Qwk6buBhBl/gx68dWUX9RZoX8d5+15FRUVFRUXF6YXG650EdPqcpph19orfzhqWgXAAbaPmhzd8gMg56TpCbafBtXWqnML8NF/PLI5S/tdct/4k42BxdP0aXvi0HC+B4wXtvBpajYMacCXM7NGLYwniO/OvnLeelef5v5Jxk3m5HAsl2rGOUxfuhePcDvFMiDKIR/YcQLP1ZvjVw9Ej4pv1zjJoxRXHIMP5MP89FqxH5gybBXaP7A/m+hIX5BvnEwEdTnw41/jl8C9bviJdfvkV6YorrkxX5GNzfkX5wM/RbihXXX11CW98w5vSrdkxvu7a68uHoJx7dOhH1AlkiTQnGWUA4iPUPAiypeNHPvyR9Au/8AvpYx/7WFk3fcONN5bdRjjL1u3H3tl+kOZv//Zvy4w2x1pZya4401m2+bIMOrytsMc1Pq++JvN51VXpqiuvKuWx3MRadc/svmJ3Ex80WkNueU7U2USIum6j372KioqKioqKUxtTcqo5W44cH0swLAOxBZ4t06zxveuuu8qPj1gOIJ7AYTGbJ61X+5wwOylwwg7m633795e9fveX1/69zFo4kp0/97kqR7IT6TX+rt27i1PIgeFg4WcoO9dmL0dCs5Y4+OCuxLmLcuhd46046Y7lvCQdB4VaOTNzXRypGflayNdBt+Q1SUS6sZwzt8tuJTnkmHkAkQcc2ck2e2+5B1nv2dN8wEg24ZS2l9ZwIDmt2BPX7K26Ccd4MiD7+KDPuXXSnM3f+s3fSr/5m7+Zfuu3fzv91m/9dvqNX/+N9Ou/8evpN36jOf7ar/1a+tX/5lfL9X/73/56+kf/6B+V3UAspcC3GWu6U2aulbXowUi5oZnRnpGd8bPST/7kj5e8/tk/+2fpl37pl9L7evtVG/TZgUS57BbjlzfNYPsw0eyyHWOspzdQtM7bGu8rsxP98z//8+mf/tN/mv7lv/iX6V/8839Rzn/zN/+7UqY4umd5yG/nfH/lV36lONr0u6KioqKiouL1g0k71YHi1GRvjBNlv14/6sJ54WSbpfaz236a2pIAzhEnQ1zpODbScpzKx3Fz55a1rLHe1XKFLmyLdySn3bv3QJl9ta/x1pe3FucxHDrrmvcfEPa3Qo5/pHHImjDilOV/nesmhOPGaS3OaC/gO5zNcmhO85Ej7VlzvwlN3G6YCvrR8Ucew7LKpDnT5G8vZmvL7blNpuRSouQ4HNT9+w9meVszbZa3qZdt27bnZweLrMKZFwaFuPa3jvXeaBjQ3PSGm9LNt7wx3Xrrm9Nb3/rmdGsOtqmLrepufcut+d6t6U1vekPZLtDOJhzyefPt89ws5ykDgfwPzXYw2z40NKv8UIz86QgsXrywzIYb6P03v/qr6X//3//3sh7aLDYdpY+WJ1nC4WNGoAfzskNtSZOlP+j5aNbHs5zkG2+6vix1uu7669J1111ffsAmjmanDSCcm72OHUUqKioqKioqXj+YtFPddrRGnJtZxRHyi3l+CZBj5Rf6rF312t3Ha2ZAy4xjdtqsiXZuhtB6WI7g/n3Nz4+b6d63v9mWr4vZs5qPEP0IiJlVwYyiJSgcJftQz5s3p9AdDnNH1riOF/J/TSa9w+CIBI7jJy759DCcbx+M96wNu45wOiOubQcXL1lcBirKvnff3jLA8QM727fvzPEsa8gOaP4jr+ZXBI+mZ559Jn3rm98syyQCnguDwiCEMx0/UGNbuhdiJ4zDr6RDB31gejgPVHLc/F9xlnnK+Z811NZA79jROPYB/FpLbcs8gzL12A7grcXePCAzGNu5a3falwddBw40y1ikVQby8RbFL0raOtDaccs9/NKlYGDmVzA50ZZ82MvcWxO7gNBHy20A33gyWMCPwZzgOSddXLug0O1B6q+ioqKioqLitYNxvSaOCwep+Yir+aiwC86DeD7Ssk7WbiB+5c+Han4ExK4OjdPSfIDH2YFm+ceCshbWrCKH5YXnXyiz245lqUjPMSnO+NFmCcmWLZvTnXfd0dDN1+etOa+s14WIb9kHRx9vHE/O28HsMO7PzpeZ3ewu8uUa3vOx2Ys6/+XkxWFzL//fz6n0nCMVaWAyDlTEdYwwHgo/OfSDMrZlCn56nfz9UqAdWeyb/L3bvlcGOX6xkFNrj2rOtSUVtsDzM/Ff/drX0r7shCtzfFA6mXKRifjq0+wunjil3/j6N8oSCw6+gdOBXK8hN79s+FJ+ps6/8tWvpC988QtlALB7967eOvGMHNUP+8Qyn3Yw4+5thbJ96ctfKh9C+jEgDm55O5ELSxfUeVkjXfYWPycPxJYWXn0ceeiQDyuzk58HFwYiF1x4QTpn9TlFDptf2pweevChshf63j37Sxr5Wr8fPHCifaj4hS98oezVriyc63g7Io1zgwy74hjkcNjdl0c/HauoqKioqKg4/TChUx3OFcc6lgZ0IZ61qLbE84rcq3COlaUfHLuY6YNIzwnjWHPCxLcUZMfOHemO2+9IP7z9h+mxxx/Lzph107vKLOS2rVuLQ3LX3XeWWdUNG9fnPOcVh/zKq64s9BpHpsmDY2jmkSNuRnvD+g3puWefTVv8sMiB/cWhLJEz7ObBAWqcaX5cOG7l8QhaRfdcgm6UERwrJ3xFiOux0OTfhLFgtpVT1tBs7pm5v+LKK8oyBDKw7/J3b/tuuu27t5W1xD967Ee9H2h5Jt3/wP1Zlt9K3/rWt4rjK37byRuPvy7EpSt+NEedeFvBueRslm0Wn32u/Gy7vcQtR+FY+qGXe++7tzjEPiD85je+kR3Y58sArlkn3YD+lIGDG0Xm5b8ysBHXz7b//ef+Pn3qU58qPzHOyY6tBbOIimz27t2XBxAbsw49W3adsdxjxfKVadkZy4scDcgWZB02o41/b1425wEc3gU0Y091M/oxk23Q8qUvfal8+PjlL3+57FMdg88Y9EgnnufWcfuYNxz/ioqKioqKitcGxnWqOUo6fo4BBwFiVrTt7MW5WW2/dOhnqa0ztazDM2nKbHMfJ4Ijzqn24yNmCh9+5OH0lS9/JX3xi18s2649+MCDxaHhfH3zW99MX/7Sl9P3f/D94jBdvO7idMONN5SjvIGzbGmBWXC7MHDczWY+8OAD6fvf+37ZmeSxHz1WZg7NdBePC/+9I35dhuM2Fkq8VgRphpNkWsUddV0ejCAc1cYRHnGwjwtBIh8NJMxUqwOOtaUMymsW9bOf/Wz6m7/5myLbz37ms+mTn/hk+rvP/V2ZHb7iisvLLC5+OarqatBZ1NATsvajQPLmXB/O8r3r7rvS5/7+c+k73/1u4cNSE/nZSu+2791WduT42te+mu6+666y7Kdsn9fTtZZ4+2LO3Nll20D8omum+stf+XLZ/g59jvyGDZvKbLy8v/ud7xY5bNm8pTj91153bbpo3UWF77JlXy6uX0j0oSR9pGP0Tpqvf+PrZd9qO4bQR/S/mQd3//AP/1CcajPUBiboCuVtRm/AY6ZbXE7/Zz7zmbItn4GNwWJ1rCsqKioqKl4bmPXvMnrnw+AA+2VETq1ZNrsm+BDRkYMcM3DdwIHgTJi15ixYr2pGzkwjB4Oj4uM0TgeIb3aUA+xo5tLs5gvrXyizj3gwY/3Qww+VJQr2BLakhJO89oK16WMf/Vh65zvfWWbFfbA2I48RZg9lz+iVGdmhO1xezd97z71lVnHTi5vS8y88X5wZdJcuXZIWL1qcFi5alB2qmSVfzo6ZdeX0EdqFF11Q+ByFnqPn58ifePKJ4kxt3LQprTp7VXrDG9+QVmVH3gdvHG75c7jIQRl9yGbNOVmBWU+z78pkhpMzbIBhMGCQQGYhW3CMmVkf2VlKQaYGFn4yHWwj6Cfapffxpjz8MM7GTRuLM/jAAw8UB9PAxNKGQ4cPpRtvuDF99KMfLbPaGzasL/naPu4d73hHoTkR8EUn6IZyCurfzDAHdmM+qlO7izzy8CNlYPP973+/1Cd+dmzfkS6+5OL0Uz/1U4WXZcuXFXr4QNOMsDcYlvz4kPCWm29J5689v+yzXdZn57zIWl4cWzIV5Gtpxp133ZnuuPOOos/0YfbQ7LIN5Pvf9/5SJ4sWLSgz1ZaAePsR9efjTfKgb+vzkXyefvqpLMfHigPvY1zONd2xlvx973tfWf6k/tqDUI7417/+9VLu+An08847rwwoDYKiftvod6+ioqKioqLi1MW4TjXHLZxMTjVHIBxniI6f48BxFjgMZpwd3ecIWV/NybD1Hmem7VTbH1nc5cuWFQd3UXYy/IgJ54OD9PRTT6enn3m6ONx+OXHpGUvTjTfdWD44e/vb3l5mxjlJHGoz1D7Wy2Qz3VScIw6e9bzlQ7bs4G/KNC0xWHPumrJ+dtmy5eX54088Xmayt+c4a3N5r83O1oUXXJgJFVZH0LvGezjVPrA8m1N90xuyQ7Wq+Tgy/4VTrRz4sK1b26m2PGY8p7rrWLkedqpvy071gQPZqb6sLLnhVJfY+T/7VxswcNr8hHf8+qRZa3zhZeWZK9P1uYxvz07gO9/1znTN1VenH2RHW32ZueVU2ykjnMNBEDOz6n9ldn7POGNZdngPl+0SX8wyUtYnn2wGShx9/BuM3PLm7OC+//3FIY1fdUTLx4PoHetU5wHe2rXNL2jmeGXpUR5YcVDt2EJnDZ689bjv/vvy4OHBrEPPpL1ZB/z0+Nve/vb0kQ9/uAyC8EloZGetOZHPn7+gOPbLc6CPlq1syjw8+cQTheZTWf4GKXSKLpP/hzO9H//xHy8yV0/xZsa5rSUNKHywi1dvEGI/a7Lq1jP0u1dRUVFRUVFx6mJGdlqOWX/AIfDBl9feZue8yudgOXKA+3X4QYbD7dzssNf8ZvM4jNJYFvATP/ETjfPTi+/g3Kv2zS+9lJ7LjtMTTzxZ8jUDiI60doCwXpgjctlll+dwaZkdLA5sdr4452aPscaxst2ccqB5R+/HaDg1HFmZvve97y2ODSeIc/ejR39Ulpds27qtLAkwiLC2ltM2jFax8fzQQw+WGd9nn32uOPdmdjnG9js2g7pzx86yVlhZOF8GFG9961tLeaSXr91RyMgssq3bxLHOnOPbRsgc/9ZGqxsf4NlLGa8XXLC2PDfbquyWguCBY28ZhDp4eevL5RcXLU4xI4vnNeeem87OMjAY+Vf/6l8VXuTt1wltQzdZKJdghnzjxk3FEX0qO5SN/O0Ecjg7zXOKPATyJzMDLuuY2z/iU5zqXJQNGzekL33xi8UZx/O73vWusvUeB1U8ziu5WOZhvTKHWl1zrt3nuJq155CvXr267BYjPwMNO6BkdgvPUS+gbtDA98N50PNspumtjT3V6YHtA30H4C2JdmEQYkAQA86gQ3+8qfCmRV2DtwvtwVNFRUVFRUXF6Y++TrVbZpfNsHJMOBAcEEeziO0k4ex1jxwdM3lmcWOm2vZ5MZPXzdYlp5gTtHPn7rR92/a0ddvWkpZjwjHixNiDmXM0f8H8srND41A3M40ooiG0wTm3DAUtM73y5pzZPm3hooVlRt1zzg9nSj7yWJrLy1kvaIpV0oqvPBxWadDFHwfLdnYQs/fW03rOeUJTiPI7ki85kxUZCwYd4ZwFQq4GCuJz+MhFnaCJ5+Z5s5uF/OVhrTAHVyg7quT7dkSxp/XixYtKXuoUvV//9V8vs+bo/dzP/Vz6H//H/7HQnArkrfzKviMPLrZycrOMDx44mPOeU5xcefuxGmU444zm7UVUZGiHS3w/9/xzmc72Uk46RN5kpB5CnvLj+BqIydeRXOVT8spp5WXQsHjxkjKQCEjfhmuyoo9oenOCJl7oNv459WiqczLrB3TEpyfqGr/SqmdlGDVoq6ioqKioqDht0dephnAqIBw6aEdv34/z9j2I+HE/aI6HcDT27ztYHKX4eI0TFT6IPY/Fsx66kO5lK7uuUy0ePjg3w85mpuc+voI394PfYWcnitsqljjtcrpG171ID66H6fQQadtH6NLrIvgGMoklEqPTNU73ju3NGnJrgc0Gn3lWs/zDrL5ZainKLLC/nMhAwkz5f//f//fDy1DMVPuVw+NFyMXxsI9I7bqSOeDUmyXGfilWr8ilOEK+bouh4bWRQVemII+2LNQ1WZBVrE+Hdrx2/EBb9nEuLf6DnmtvbBzF8Yw+9YPn8pHOOR3u5tuPj4qKioqKiorTC8d6Jz3o6DkKgnMORDuEI+DYzylonKjDw885JGb5JgZHs3GoOC5mFefPb5wiexUHCm/4UIIBfBI8xMwm3hoHvXGK8OmeOFG+8RDl5bgJrtFtpxuLTqRtH+McL0Ib8Rx9PEcZ0G6na/jH09Gy5tpOH//x//sf05/86Z+UD+TMRIvnVwg51GSmPsxgc6R9pGlmF10zwXbBmA6EDPDqp8AXLJyfw7w8KGgc6vKsObROMrCYk4Y0fIAZMijXPfmGHJQt6iOc3Hi70R2AdGXchjjtEJCePgpmqNH3PHgYi6Y4jdxnFT7iOkJFRUVFRUXFawPjeo86fU5Ku/NvOxrjgaMRDtDkHIiRuJlEzq9ZJ1yQzz0SOFmjnLBxwKEPmuGQKhc4d6/NHyfb7G3BOHlIJ7ThmoxCTuiGozeWDNy3LEWcQJtGF5wzcYUYrERaP+qyYOGCQvPp3semn/vc59JXv/KVsj3ciy9uLh+CWo9t+crdd9+d/vIv/zL9+Z//eVniYGnClVdeWdaTj8XvVBHk+pKN6uwUmQ6IbvtDM939QE7qcSx5QcgzwiAQD92A69Bp8iZ38oc2TXKLAMFbBNdtuhUVFRUVFRWnP8Zc/hGIx12noYv280A73gTZtMDxaI6Bdtp2Pp1oBRG3m3c4Ns45RM4juCfEteeuzYTnGz0q4yPSxzmMdd2F522eYKy4gaDZTtsMDlJZc82Z/sQnPlE+aly4YEE66+yz01llGcjyshRk//59zTZ0W7aUmWpprAv+0Ic+VHbi8OFdLHGYDuBrgiKNCz/WIr1yKvNE8jnRwEPUQT9e+j3rxhsvfUVFRUVFRcXphQmd6n7ol2Q8x+JE4WTkeTx5DOIsjUVrsmmdc4AdfVzHUTYLbVlH/DCJGXOOsmURZsZBGteWe7znPe9Jb3/728sPuJixrhgfE+mB5916HKReKyoqKioqKk4/VKd6AhxPHoM4UGPRmmpa6TjPlibEtoZ+aMXRrDRnOj6as4Vd7FxhmzdOtVlsjnd3WUvFsZiKrg1SrxUVFRUVFRWnH6pTPQGOJ49BHKixaE01baSzJMR6X9ecbLPXPlY0Y237QOuy/aiPvZU50XbIMGMda82DTl37OzamomuD1GtFRUVFRUXF6YfqVE+A48ljEAdqLFpTTRvpuk41J9rss3M7fnCifXTnOTriCxxs10J1qMfHWHU3Hgap14qKioqKiorTD1NyqitOXbSr03k4zY7h0MV1G+5173fjVFRUVFRUVFRU9Ed1ql9jaFfnZJ3iSFud6YqKioqKioqKyaG+368YhepQV1RUVFRUVFRMHtWprhhGdagrKioqKioqKqaG6lRXVFRUVFRUVFRUHCfqmuqKioqKioqKioqK40Sdqa6oqKioqKioqKg4TlSnuqKioqKioqKiouI4UZ3qioqKioqKioqKiuNEdaorKioqKioqKioqjhPVqa6oqKioqKioqKg4TlSnuqKioqKioqKiouI4UZ3qioqKioqKioqKiuNEdaorKioqKioqKioqjhPVqa6oqKioqKioqKg4TlSnuqKioqKioqKiouI4UZ3qioqKioqKioqKiuPEjFcyeufTgskSm9E7VlRUVFScuhjPtlc7XvH6wfG4TLWlvNYxsFPdjjZjxtiKIdagKhdUqppVnBoYRHOnpq1jUa66X3HKgtL2FDT0t58ei1L1uOL1gfFawkSoLeX1gGOc6rF8bPcFDvWMGa1VI3SknWQSOhPJjk0ir95pQXPRjTeecz8xjidtxWsLoWxtpXPe1pGxzsfHaMpZr3tnuRX1jv2oDU6/omK6ELY/NHTk/4x8ErrcTzvH09hun9LPbg8Sp6LiZKOrl1pBVzWLTe9Gy3HCxo/GIHpddf90xrBT3VaeYxWpuSc0ijKj6BDD51ie5b+ZM2em2TMHV4gjOfErrxwtSjqz56iHghaKiGfIpTjzHrQwdcMb6aaavuK1AzpF1xodK/qXMaIZg+iIOKPjhaYWPe6dU+hX0tHeRQNaHUPU8fX52DwqKqYLjc3P+h/KmlXN6bAN7qle0cL833iaKE1blY8cOZIOHz5czmfNmlX6iWLPc4h+Bfrp//htoqLixCH0Mo4NnPN1ZvWujqZXjjZ9x4Sg873TsRExqt6frjjGqXYcrUQN4p5Z6lmzZubrlA4fOZqOHM1K1XvmPmUL/XK7TWtmdrj53IezN33k6JHyzLX7xchmY1uQ73s2nLIXL9TsGAUuzzr3xsUwpd6x4vULWjai86F1M2Y40o8RXRlbW9rxGhrIvZJvtfU/W98W/SZ+SdmLMnyvq98Fg96rqJg8ir2lsz1dfKWjg3EZd8uxc6+t6iCNW4V2q58IdPW8fT1+W6ioOPFo2kQT2pg5a0Y6sP9AOprt+dDs2Wn20FDR71HIantMj9HvXl+IM0i8ilMRk3eq8x/H+Wi+5lBzjo9wro8cafQgRyuuQ49Om9ZsCpjDoYMHi7GcM2dOccSL+uT/0GZDpRjJr4H7Y87o9dIOjmGqvWPF6xs9Xe39wYiKNSej9auf3ozcKzSaf8PnDdpOdfl/xKEWItN8OFafu9fQ715FxeTR2GrH0NsOiqo1d+lp0c+e+rUeDaOx37R95EHoepPXyOxe9wj97lVUnEyEnja63EPWx1kzZ6bde/eko9nvmTt3bvFjjmY/qA1qe4zmlnuD6LM4g8SrOBUxaadaZTs9mB3jvfv2pX3796d9+bh79+4ycjucnWuO9lEzE0dH0xqaM5QVcG46fOhQmjdvXlq6dGlavGhhmpuVcvbsWWlWdrgZ0ZJGyOczc3DPi/lQs2MMbb4cTFkDw5R6x4rXO+iuXt9gsWhFR8dG9KufznTvZb1vDs1ZuYDBnerm0KU70XVFxeQRNjrMriuBDd+bnYfe0/RKVlZvKudkOz5r1uxmQiRf09PQ48DhI4fTwQMHmr6g9AlH0+yZs4qttwRECLTtebH1neuKilcD2kWEwNHs0xzM/stzz7+QDh06mJadsSytPHNlGhqa3YvRwJvO1pdnDbIqH2vT+0GcqvenK/o61e0jZ8Mp4+be4UOH04HsUG/evCWHzWn7jh1p165dafv2HcxuMcTFdTCLnUdybXhVQvkOZaWcv2BBVsgz0ooVy0s4I58vWbKkGF2G2lrrku/MZmRYbGvhKYxuOD/+K3ebk4EQcSeTpuK1iEbLG3e3OdJZ2tT80enRaK776Zv2UdpJGUz6VqA3QOwBLfehWfLUW1ta7jTaKHbbQWl0vYt2ioqK44OBJDgcPnQkHTp8KNv4A2Wi5MUXXyoOMt2dmZ3ouXPmFjstsOEmSnwPQ4st0TuSdd/66V27dub+4aW0f/++dODAwXzvULb9c9LSxYvTokWLyoTKvLlzG+e8t8a64aFpQ/m/ch2oml5xskEXtYnyFj4rt+vde/amF154IT344ENlQvGcc1anSy+9JJ2z6pw0Z65lIGx7iZ5bzJGstyPGvLH0/XqOLpp4Facnhp1qaJ0WMLZmpBnU2bOHyshs69ZtxdA+8sgjaf36Dc0MdXagKQGjOWfunGxo55QZ5vg4JUBNvCYxs30w06KxCxcuTKtWnZ0uWndROv/889PZZ5+dFmZjjZcm71ResUjrXnFCykWml49TU71INbXUFa8d0K8IUNyHrGeNo6ANcI6bOYdmoPdKmlV0cER33DuSdZ2+zp41qxhhwZuXYeQ4zQC1caotgxoaGirHWWVOA73y2Us5dmf+PD7WHB8zF1JRMSHoK+MZ2kQjy2RIdoh37tiZXt66NW3YsD4988wzacuWl9PevXuLXs6bNzc7w2eklStXpAsvuiidvWpVWpyd5GYZ36w05LV4tu0vv/xyev7559Ljjz+Wtm3blvYf2J/bx5Gi70sWLU5nrlyZ1uX0q1evLjN9C+bPbxjJKNqf+es3mDz2TkXFiQV93Lf/QLHlBw4cSM88+2z63vd/kPXbTPWhdEbW30suuTTddNNNWZ9XFac6jzOzTdeXcKobe9/orjbX2OzxddnTqu2nKyZwqo9mg3igGEOz0y+99FJ67LHH0z1335N27txVHGIzzAztksVLiuJZtD97yKvBWdn5aByTgFeBHHPOh5mMnTt3liMn2xfh5557bhn1XXDhhWnF8uVl7TaHHi102twZAU5d9SLV1FJXvHZAp5g9xwOHD6WZs7LxPHigvHnZnh0COnLmmWem5cuWpTkzGxPZtJNGG2kQY7s5t41NGzemQzGQzHFiBrAgn86aNSO3kVllsKlNGTwuLe1naZqfHQsOthZD53PikuwY5yJfjrhD1amumDxCKx1pknAk66oJk8cffzz96EePpfXr1xc7TTdF4HRbwuGeiRSvvC+/4vJ02eWXp3POOafY6j179uT+4bH0xBNPFKfcG8x58+c1um2wmR3rA/v3l+V/S7IzfsHatenKK64sDjbHXLsqbas3aA0+Q9vjWFFxsrF91+70WB4k3nvf/empZ55L+7Oj7Y3k7KE5aXn2VS679PJ0/fXXl75i/rxs57OymqnWu9DbRnerU/16wLhOtetDXv3lo1ceDz38cHo8O9V79+4rinT++WuzQV2VDe+y7GAvKo6xHTy8JjRTHdvkBY5kWl4D8hMopRmQF1/clJ577tm0KR8tLTlj2Rnp8ssuywb7inTWWWeloeJYU9DiagyjOtUV04FGtxrH+nA+2bVnd3YINqSnn346vbB+Q9aQGenCPMi7eN26dPbZq9L8ubNL/Nxw8v8NXn55S7rj9tvTMzmNAWI4wmavRyHf7j1Kc+fOKc7GWWednS64YG06b815abHlT0Nz89Os6+Xtj/jH6ujIvepUV0wNZp7ZdTaas2x2+amnni6vtS3r883LeeetSStWNOtFxW8mQ3YVW71169a0YNHCtHbtBWldbhtm7J555tncR0i/JQ8gZ6Zly88oNtzEi2V91ljvzAPVbdl5f3lLjpNt+0W5bV199dVpzZo1pT2AXXO0u2hhoe3HtoSKihOH0i/kNrK7N1h88MEH07PPb8gD0Jlp5649ZZJw3tx5acGChaW9XJb9livyQHOVt+3zZ2X95lALI5rsbyyMPHOs2n66Yta/y+idH4vcec+eNTtt2LgxPZQVimLt27c/XXzxxemqq65OF110YVq9+tw8OltZ1sktWLAgh/lFwebPn5vDnHw+EhYsmFdmt+fPX1Dic6CXnrE0Lcr3fKjow0ez12UmLxvhRdlRH3k1OFrJQu2mpnqRamqpK14DaPXYtMDlgSNH0nMvrC8zdd7IbNiwMe3cvTsdyoM9sebMnVsMqBlnbaMxgjPSgQP705Ytm8sg0cByztBQCd7c0OMIZuMsZbKWlEMjvhnxPXv2lnsLc5vwir3MVvec9vGd6mOfVVRMBJrV7NbUfAhOD5988sn08MOPFJ03O33FFVekyy+/Iq1atSo7xmeWGTh2fsXK5WnJksXZwT6QdvieZvfOMsmyY8fO9ORTT5blItZar73ggkJj3bqLezTOTmeuzDSWr0hL8+ARE7uzg87ec9b1C5aSNHtY43JEt6u2V7wasFR1R9bPp596KreNh8rbl1mz56Tz1l6Utu+07DWllWeeldvEyrTNm83t29OMWbPSnGzD52d/Z24ejM4sra3XUxgtjqPFo+362PEqTm2McqqbbpwyWfuZr3K9+tL1vnvvy6O0h8ssBSf65ptvLrMTHOL52YkemtVTnY4eFNVo3TOvZgG/mxRoTnakvQL30cvC7KwwqHv27C6vEW27x4lZvnJFQ+QY2iN/zcPJBIhjxesRoeuOVlocOnwkvfjSS8WxePIJzsGW0tlrC5ZAeWU9lPV10cIFZXairLnOKkSLzLjNmze/rA+1TtQyptU5rBHWrBkO5513Xjr/vPPLccmSpWXAumvX7jJzZ0ZEem98fLzVtKfQVxllTS8ZjtxrdL+iYmKEvgcsU/JW0TrqLS+/nB54oJk04dxeceXl6aqrrizft5jUYOM5ygsXLcz6v7hMdliqtG/v/jIo3FI+Wt9SlktZBnjxxZekK7NDfWF2rK2f1jbMQi/ONp5DvXjR4jK49FZH3pxzEzJmtQ086Xmb38loeW0RFYOi2yZCd9w3sWeG2hvLhx/Jg83164vOX3DBunTppVemZ599IR3NfYYlTBdftK4MMk2sHNi/L6c+mvuI2Wlhdq5NrjQUM/VRytm7bofmv76otv70wWinule5DG7jWKf03HPPpzvvvCtt3fpyHpGdma679rp0bQ7WhJZfFcrxOSVR5T0Spe+PewW9i6JenhXnoLltvd2C7Kxwrhnardk421WEY2+WwzrUmTlOezmJdE0YOZtcqHhdgeK1QAPot90KDh48lHVue7o/OxaPPvpomXWzhIlzG+tIDx86UIwoHeRUlG3FslMyO6ukXW04CmefdXbR11Wrzilfg/syfCQ09ywhEeeMpWekRYsXlxlDH3Nty/m7t8zabbPVTSNpqStNp/9xo5rZisHQUf1yXXZmygbfLPXz2cZ7tc0xvvHGG9PV115TZqZDx0MXe/MsZTBIVx137tiVNm3cVOy1N5RXX3V1s5zj3DVpfr4G6Zs/EyszytIQTrblgNu2N7rvOxyDUU69b3G6PE9G12u7qJgIXf2C0BvfkpmhfuGF59Pdd9+d1m/YUJzjiy66KA82r8s2fE26/74HyoeK67JDfVUeQC5etCjt2b0rbX15c9q1c0c6euRgHpDOLd/ixFtHcFauSpsYC91nzdV4KSpOHXSWf4xUmh0P9u/fn26//fb05JNPlXVxN1x/fXGozSY0kRoFib5/FMqepo69MHwYidmcWduX/8//MdIMs9eC1twZLS5ZujQ78yvS3KFenj00ZKuaVQyAEZs2gqw4RT/zyUsvbU73ZSPJgLpeuXJleRXN4bUW1DUaO3dsL7NqHA1vVuyxXlaC5FQGluMj62pxwpsPeOfMnVdm6+Thwy+O/ILsUJitQ3uGAWuh3ISupseTiopB0FXP4iBnBbI2+oknnkxPPfVUGfj52Gr1uavT3HnsbStVjttoYR7aZT3mMNsRytp//YSB59rz16YrLr+8DBo9D/2M/mHkekax8450f2d2QsCyE23AUqmYdJkMhun3jhUV46HdJkI/3due7fwzzz6T+4T70kMPPZz1ckm65NJLy7deq1adm44cnpHuvff+8o3AuatXp4suvCD7R0uyPR8qSwG3bd2SdubBIh9o0aIFya5oGgHaw5OJ4+h3L0b5H+K62wdUnJoY9aVTVF4zQ3ckbXrxxfTss88Wh/fcbGjPPXdNNoY+pJpONKpiqzGz33ZD8Orch5CWmxgt7ti+o3wwWVExXejtbJc2bXox3Xf//enhhx7MRvJgWp0dC0byrDPPKg61WemLL1yXLstG1fq53bt2p7vvuSc9+ugjZR2d77sPHWkGkAxlE5yPDsx1s4PCkSRr+697tW6XG7rOy+Hg7Nu7t5lFrKg4gbCjUrPcbm95bc0ptrTPemlvDpuJDloLPgp3Ri+9wTySwytlULl27fnp2muuTldfeWXzkdaqs9O8udmJyLoOVN/2kD7sbWjEB5Iz8sB1UW5TZ5YB7Lbt29NLmzeXj3vt4V5R8WrAko9nn3suPfLww+n555/PtnlZuviSS8pHiKuyA23AV9pDT599iOgbm8XZeV530YXpqisvz37SOWVDhqeefLJ8n7N7967S1pp21eh/v1Dx2sAopzrAwTWDsHHDhjIzZ+/plSvPLLPV041iPhuvo6xZ8vrPa3SvHymabZ68IjQqHIWqgxXHASp36NDRrOMb05NPPlE+wL3wgguL87z6nNXF4fVhydzZc9LqVeeUrb8uveTS4gAY5G3cuLF8mLI/OyNHiofedgScd0LO0B+1LY71kSP5ll+n8+HivDKL3ezffqi0v4qKE41Z2Xm1BMNMs1lnTm7Mqh1rYDkSjVOdFTQ7v4fKMo6VK7LTcfG6dN1116aL112UB4nLilNdftwox25Cz6HO/1wH2HvLpux6442NpSheqVcHo+Jkg8bZ4cZ2qrEczxv5K/Jg8dLsVHt7s3jxkqyztvcVu3Gow7HO5jstWWyQeV664vLL8gD1nKzPe8quaXwYet20iEDV8dcqhp3qUCoGzUdTOnjbLPmRFo7ukqVL0tx5c4sKFd3o6cfwqdvt4C8TbYdetOEQcG59tnWsFJlxt77azPXuPbuzg7+ntwNDhoXfQjH8FRVTRFYfHTmd84HgBRdckG644fp04YUXlcGjWYWj2eHgHNj+7qw8qLSfrhmL888/Ly1dsjTrYW4rh7NB7Wmz/yN0YQa7+RXF5mlpDsMJmvvWb7vfayoVFScMjZ03sDxUvimgf+XXDbPT4BuB2TNmFf1ubx0ZaFT4laLP3lyuXLm8OBNm9eYMzS7P/UxzccCHQ6bV6wTk5QwP1lIbWPolR1uq+nCyT5YVFScFdJ/9P3/t+enK7FBfc/XV6ZzVJlkWFmep6H7W4xkz7J6TFbUXZszI/cDslJYtW5LWrbsgXX31lWWweebKFWU9dmky7d6hpeOtuxWvAbRmql8pBtYifa/mrJWzxZ2O3kyCr79tEcbohhY0xrN3XmiMIK57j5tA/zr3CjIRsxYUzWuSshXZ0JziVJfZuwMHCh8VFdMJurb2/PPTW9/2tvSmm99UHObly88oa53NHNM5bcFONGaPOQ/XX3tteutbbk3X5qOPCmf7oDHHLbrcMZRtlOtMq9H7Zg93+XMgDh/hTOcn+Xnb8a6oOJFg7/1wkaPvV8Bg0i8jlo6h690W/aW77PWsRvdzsI912Qoydw2Hjx7K7eZQ1mdOR4RsuwVangnPnMWpzjEMIrMTfTTrPz5kFz/dX1FxMkHjWHETiGamb7311nTLzTen83L/4BsXEzAHc7CEjwOd7EGdjwaKM2fmkHXa+ezZM9OyFbakvCy98x1vT29585vL0tm5c32027PtrzSDSgpfNN29qvOvGQw71YyljwF9SFU6+mxkbRPjeEZ2HuyhW3b8mETdDxK1vOrrGG8OthlrTkcxuJkPa+060SoqOqAg3ZAxhiJyDHwcxejZGsk60wYj6XOXn/XQGtTsPGS9XLRoYZmBWJPTLDtjadHTxh42BjJCX2QFHqXDrfPuK+9CJ99qXi82vFRUTBuygrGvBpDlFw+zbuvwDx8+kvYdOFh+XbSfvY3+f0Qne4Gydu91Qy+Ovibg+wGOim33zFhz8Id/lbSi4iSBZhr2aRN00daP+oYRTQ2EHvcGimWw2Aq9waO3mytWrChv+OfNmVcc9q7ue+EuVLy20JqpPn3QGPWKigDn118/9O5SmHbowZsZ60qFYYehFcLZjRk5zkd5o9P7mNAgU7yybVhuTRyTfiH/V+L3gyclyCqHErNkm//r3auomE5krSyDSD9mxHkwwPTLoPv37yttoZmRy/FCh/2N0uFQzMmFhoLzBvv27S3f79gNxEeSZWDbz5uvqDjhoHe5XWTHemjW7DQ02x7TGkGvHTQnvXgRGie67VCLoj+wy5M/PZPP0/U1pT/Jz6WoeG1i2KlWyWV/ah+jUIps3Hy8wsjZ4m7/vn3pMGPbRB8IgykOJR2NI4ePZF4sRfFqxQxhb09sODZ6xescjZ75P1zrfmE0ot8uBnRoKNmTd5TPUJCpaQ/5SA/LntRDjXNtLXY7/rFpe6rqvz7PAuVRj8XhqOW6cUBipnr4WUXFlNFTtIym40/FmfXK27ILv6boo0W21jIQS6CGta6n4M2hoTEd2LN3b/kYnlPvQzCvyYdtfUXFSQXl9m4yO8EmW47a24muNwPKxrHuhxyn/SDbbs5zdqPzk156ETSeHHotMB8l6k+x4vTFqJlq23ypZP9bXG+nA45183O0u5oZOh+SlNiDYMQlKArUU6hu8AMcPkRE++iRZm33/n0HyhZnc+2OMG9+M4ORUVWwgga2/6YCekTd7YAwe5Y1oo2TXO6X0Ji8RkNH7tNC8bNPXa7db+KNRs9+Dj8vId8Yud8ztP4v95rzhip0y9W0ljDFFRWDoNGiRnfiECNKerRo0aLybQD7umPH9rKNqSV/9klvaWizFKn3vpoD3ryWiTASc3Sgy62Q0xYbn4OJE78mamcEP3O+aNHi8qEjJ98Ato1+lPsFiGNFRRtlO9Pemui4tgOTvVVp27AOFT3P/5V2ks+zLobN1l/MzD3AjFdm5zAnPx8aCUeb44xyPTs3sdyD5Kx6TS3Tjjbinhxnl1DilbsVrxUMWy/VbT211xY0yIyB/XO97vZrWYytr8QpolHYRIrQ08ljQhfuFafammnnmf7+/QfKT5Xvy8Z24YJFafHCxc0XtI1OVryOMaJ5oVFNiLtTAbUSNAaGs3x8Uq4z1WIVm9lq8H/E72J4NkPo/EkRf9bXaWdlyUjvrzzvpS3lKfk2eQbCoY5QUTEhWg5CG6E/vhGwfSnn2sTGiy++WH6IyAeEsfSpQZOip73HBM71KP0v16NDaVGZpHXbbLztLLds3pwd+pnlJ9HLr4naB7i0gWMRej9eqKjoB060wSL/AnyjJVjGR8uL7mTlLHqU9c8bTANNx2E7nR+WeBzonhPdBA52fsZZfiWcbtMvrvO/Xlui+/lUDv4rz5rzZrKx4rUBlm4UmipOZW9qW8t4Nb4zO9U7s6G1BMQs8mhjOzlIOSrk/ygrYzqUjasPV8xgbPfDGrkBeDXpF+3mz1+QY1dUQONEtwPEsT+6sfuheV5MXlngnPFKsw6uBLebuwOjHT9ybnIZue5Cm5BbiZP5EMaOXVExAIpSNSHst/85u9ZUr1lzbnnd7ZcVN23aVBxfzgDQ4SaMnA0UejPbEZq1qrMKbTb++edfKNulLl++ouzr66NJDrbUFRXTCW8/4m13ONecZ22Bcz0KjdoXNM50L5Tz1n163UYrXRdllxvtqcTxQXB2sE2Uj5Om4vTEsFNNuWIFkMDJNYOxevXq8nW4X1Z8Mhvcw1kZyxIQxrmkPH4w7NbUHT7a/GyuDdNtwO6VoPzNoljPWlHRH6G1dHJEhyPE/yPI12EPW3aRwRwJPQPaen5C0C+PfF04Dse+omKaoTO3laMtHE2e2Kd9yeIl6cUXX0pPPvlk2rxlc2/Pae2gF3J34f8RpW2FRmFb163zXjiUDfy+A4eyE3O05PNSDmbHvRH1E+n6HE61t0UVFdMJTrXAb7F9I/9iy5Yt5SNZDnbMYPdHS+vLf/qP7KzEzh/luhehQGMoDWIEOaG8tTlh27Yd6eWtO9PefftzzE7citMaI65qVgivSFQw3TCrYJb4qquuLEbXuuoXnn++vK7zE5xlFmMadIGSlr1587lf1PJLdX4edM+e3emss85M5557blbGrIh0V/xeqKhoo23G4rx9Pdbd/mjHC4wXf2wwpG30Ju2Gc4jQVuq4bp71+TOg7dCtqJgMSgd/mDNxtHyk622g2er58+el9S+8kB7/0WNp3/72r9hmhfRPjxFKG6Eo72DhyJFXyk9BP/bY4+VX6+bPm1fy9pFiWSaSY0E7VUXFdCDW6vsY9wc/+EG67bbb0tPPPFNmrket4x9D6UZu95zpcKjLeaB9fwTSlh+4yzq+a+eu9OBDD6Zvf+fbuR08VvZrr3jtYAxNmlGUzOu4c1efmy684ILyNbgZZL+J//RTT6e92TBSxjJrnYMZbA5yzGJ34VlRrF6I3ERl2PcfOJQ2bNhQfjLaKJKRNXuyfMUysXIex44k2xxXvJ4xMpMwvVqRlTMraHst82QRA1Vtws46drTRRrQH3xKYtXAs5/mZr85nlK8gZ6SDR3xn4Edwm7dIJeQ4zR/WGroVFZNBo8evJB/pmhU2gXLG0qXpcj9+tGxZ2r17V3kzuWH9hmx3mxSj1CwaQwQo3vbITXrqO5lwGOj7rFkzyvJBM+HPZfqenXXW2aWPme9j9Bk+jmwodNHvXkXFZBB2k14++9yz6elnnym/Gl32Rc8KVmzqcGjithHXzLNZ6uZHjo4WvabfHGnf4zS/HNoODUTRjjj1Jigfzw61pVY+2vUWaHTMitMV1GMYXvEFnHOkFy1cWH6uc82aNeWXDR/70WPpnrvuSs88/UyZtfYBIyU55CPGbD852pzkfmirWQn5P/HNSnOoH330kfTcc8+XddwXXnhhcaoXzG92/sBa0dtWqKgYwYnRioZqaOwYGFboVuiBc+Ha3r/aSfkANx9FaZxkGy+VuY0S94gnjYXOxv5Q2rVvd9qrfeX0R/LzxkVHsveX71XHumIshE0fXsIRId+z5C4c64UL5qeL112Uzltzbpo3d27a8tLm9PDDD5c3lJZoFJ1rSFHNMUL+rxfKYLDoZvPMbR+6b978UnrwwQfTrt27y4eJa9euTeesWp3mlO1bc9weCrlWqKg4HpjcsMSDOrK5B/Lgjj6ysb4lOJof0O8SxCmpWNgGjnE+Y9Yraf78oTR3nl99nlV+SbRxqHMqDnU41sW5huaoLRhImlTxS9F79+4pS1H4S6VFSlJiVpzOOMapVv2ls3Zttnre3HTJxRenG2+4IV14wYVlpuHxx59IP/zhD9L999+fnn76qfLF+M5dO7ODvbOnKPuLs9zu6xuFMntxtASvARlrTsb69RvSPffck434I8X5OP/889Oll15a1tpxsBl/vFVUnHyEEreUuY2i5P3CCLSmg7ndbNu+LT3/wvO5vWxKu7Leuz9z1uxm2ybBR1rZQpuxPpgN/d4DB9MTTz2VXti4vuznW8jmUJzocuzRzyfVua6YDMKxDri2herll19eltzt3rM73X/f/emRRx4pbw7Lh105HmeDlnVDF3622bISW1Vy2tl6S/sefODB9Nxzz5VlH+vWrStO9eJFC4tDPWzi+xGsqDhu9PchGh0+Vun6qWFz75W0+txz0gUXnJfOOGNJvuq1iuJIl+mR5roXe1yUKKPbYsXpjVFOdRcM7dzezzBfnB3rm29+U7ryyivSOeesSus3bEh33nVnuu17t6Xvf/97Jfzw9h+m++67Nz322I+KAeVct2FWZCgbWR+jGDmaBbGmyPqme+65uzjiPkxct+6i8uGKPUuL8edwDFvciopTBeMZzcaolo9j8tmBgwfL4PGuO+9K38/6/nB2Vl7eujX5QaXSwErIcXPI4820ecvWdOfdd6e77r0nfS/HN3DlnMRL9oqK6Qb7azmGyRM/sewt5N133V2Wazind+N2GC0UHc3/0X2TKJs2vVhmvh/90aOlTXgLWZb3lT2yewmaJlNRMa0oEw75L8xsTEpMBXR18eKF6drrrk5vfOON6aKL1uYBom0gw5nOocxQD5pBb0LE2fDEyBSZqzglMNpGdusyV7CPWdi7eXOG0nnnnZduuummdPXV16RrrrkmrVq1Kh0+dCg9++wz6d7c+d955x3p9ttvT/fdf1966qkniyPgVXd5BZ7hFcvBQ812Ss8880y6P8e77777srOxPi1cuKgsM7n22mvLTLX9U4tDktM2e2cXEhUVGc3Ivh0CY90/YYjXfN2QQe0NBsv60txOBO3h2WefK4PJF15Yn3b2fmzDur4IHJAHHnwot6MH8+B1U5o95DVjHty+otyjy15RMV1oZqsXpQsvuihdccUVadnyZemF9S+kJ554onxPs3P33uI2DAJLAQ8dtB/1wfJhFn3/0Y8eK6/cz8/9iDeRK/wOwtBQVeSKE44Rq3k8aL5pYd/POefsdN75a9LSMxbnNuF7Lza/sfv9EE/6cdCsD2ijNojTGcNOdVG5bFTdiMCXtTNHYG52rO3Icckl69IN119XwpXZ+F6UjfCaNeelxYuWpL379qWXX95afjDGeiU0ELduydIQjvajjz5aZrQZ2Z07d6YVK5an6667Ll2f6V1wwdq0ZMmSkZ+BzqHMVue/UNsIFa8/NMaxOWuHOOveF0aeRoB87J02+uSjQWtHX0mzZs8u+7RbenTg0MG0/+CBZi1cjne4HMUyq9Ak9jGXbcKCvjVz1smJE+tK/SroyjPPSqvPXZPmzV+Q28HmsozKNwT26o10mzZuSg8/9EhuG4+nPbv3pzNXrE4XX5gdnKUrc4z8l2n1K1HLl6+oGIXGjvYUpFGgJrTAxvp2xUTGGWcsTRetuzBddvllae68eenFl15Kj/7oR2UP61279uZ2YnLkaAkmSmKiuQ15mhDZtnVrevChh3L6x8psN1tv8oSdX7p0Sfl10tKGhJxOqKiYDoQ+vULFKGhR0uxHFCUbVNMaKsWW987QmTd/btkpZ8i2k+UPss/S/OZujuOj2+xFaQg+4i2h/MvBFwdCcw1xbJ8FmpgVpwtm/buM3nmvkkf+XJklbtSqQdkVZN7csqfpsjPOSMuWLU8rV56ZVq06pxjgHTt3lZ1AlmbDbGbbxygc6p07d5QlIXYO4VRv2LC+GN2zzjqrzFrEshKKKg/Z08cyS114aTBy1qB7XfHaR1tH/Y1G+0nz12hJNzQYMa2M7dE8mJtV1o96m7Ll5ZfLEqUlufPnAMRypKKfUhQyzUw0nTcQfCXfLHu5Z1qWLRX60sziqM9Lc+bMS4ezA74jDyZ37dydduZ8ONU+XGHs/WTzpjzw3JOPZ511Trr6quvTJesuTUsXL05DvfxikNn+G0E+b19WVGRQiZHQaEzRo1aIN4MzsqM7NGdOdhzmlW8B6OrObNd9jD579lC5nxOUzr75HqBpR/Q33y7HQ4eOlLXYjz/xRHGqt+ZzW7Neesml6arsVJ+5cnn5sa/SPrrINNCpqJgq+usVW3207FzmezCTGJaZnrtmzbBtHwvD9IpujlAvKXrpihPdC86bVubaURtL5RccfR/j7Y9v0Pg8PhC2R7t+pPBQ6LVDnDXnFac2RjnVg0B9M6ZmNWy5ZwbO9ndnrjgzOxNH00svbS5ftC5dekZ2qtemBQsXpW1bt6Wnn34m2Zv0qexUizN3ztyydu+K7ExfcsklZa9SHyQW9Wn+NQo2hiLF3f5PK16/YHomrxVSlJ/pz2eHs+Hdn3WY8bM0yZaRs2YNpTlDfpxidtHzg4cOl6VMBw/nkM/3HTiYB4+pXNseMrZp4qSHcz00e3ZuDwuLAT2U41j6sT07G2bwyhKQgwfT9u3byxZL55y9Kl1z9TXpissvT4sXLcgOSDbTmV5xgArHY6AY5d55RUVfhIKMVpTo0B1mZ131K7Y+XuQc01GOtT2m52an2g+C+RARfHR+9Kh0BqaNQ71ly+bykeND2aGm08vOWJYuvfSyMku9atXZZW2qdqRttd+GFjRsVFQcN9jd4gLT63zwLZfNER6YpFMd6BfDvYb6SGj+IO418AZTv+Itpbf0Xae68NmHjxF6Fac6Ju1Ul+qd4UNDhtSrbTMcs3OYlXbs2Jk2lA8UD2VjvDQtX7YiK87u9Oijj2Xj+nB69tnny5o6inzDDTeWJR9rzjsvLVjg6+/GIM/KCtWsodYURitkG3G3KlrFaEzd/AynooMc4azfzzz7bJllM3Ndfj4/G8KNL72UNmx6Ma3ftKkcN+ZB4stbt6et23ekzS9vTS9ufjlt27G9OMrWjM7PBpNec67LNpVZ373tOZydcbMVQtOejmbHeyidv+a8dO3VV6crrrg8LT9jQekVvCUvzkdpG3hs8dtGPK+oGBOhIMcqStOhNzpkAMk2C+y2yRFvb7ZnPfdWZu7cecPOyP79+8q6f295Nm7cULbNu//+B9LLL28p9v7KK64sO4uszk7EUHao2fryK3Y5n3jzMwzZY6OiYjpA2TL4LWy6X1F84IEHpuRUj4b4/UP8Ndc9FJ3vOtVnp3UXXdg41T5EyCgpOrwEtYpTH+M61VGJjt0KpYB+NMCWSXb1OHToaNqaje7zL6wve5AePfJKeZX95BNPpqeffjrt2b0nLV++osy8MbAXX3JJWrJ4cZkR4URn/S4fcnl1zqFufmUx1DKOIyHQPq94PWNEMxptmRwas+vb7bJqrjgUc+bMLcbOdwLb84Bxy5aX00ubt6SNL2anOg8eN2zclNbnsGFDPs/Bso316zeWj7rMcL+89eXifMxfsKC8TjcTcSQ70nPnzkkLs6NiqZMtJG1f5u0OO7ruwovS9XmwaRvLxQsXlrL4if7wO0ZKOXIcBUT6PqioaKOtSQ2anQd6GH7kZ8yXlbeRnF8Oybbt24tjffDgwWKnvbHkUG/fvq28iTRD/US2+zvywNJuTj4+tz7b9zjlZWQP+o9jHOqM4k9UHa6YNmS9zkrlLSTHlb09Pqe6raBx3r6Xz2TZO2/DWx0z5ZZFxUz1RWaqh4aKw4+HwkeHl/CBKk59zMiGtGVJj0W/h8Mp1H0+cIj37Tuc1meH+gc//EHZ1aDMug3NzYb3QHlN6Cdw/aALI2ud9cIFWYnDUehpCyVH3GbqI28Ex1alqmYVgcYVnrxOSNWkbCgwbI7mDMwke3VdHGhO86YXy/pSe0lbAgVxlC8HgS7TfR9gLVu2JF111RXFUV6YHesmHoc9p8+ZWEf9/PMvFAO7efPmsl710jzY1E5WLFteHJaSJreT5gwix3yvYXw0ikHunVdUFBTNbk6HMVpJohug/TTMpXtm1kx87Nt3oHxE+8STT6Ynn3qqvL1ZtHBRWnnmmWX7PU4Jp3rLli1p68tbix6uXn1O2enDftRn5njz5rQc6B47/XW4FyoqpohQK8d233D06JGiu5/4xCeKbb9g7QXZRl+ZVlh+6jcD+uhdPxVtEJG7x4ycaOSqOePf+AEwky/f+973yhvKN73pjend735nmWjRb8zoTSa2SUGs0K449TGhU90PJUWvhp1mPc1G92BxOr7//e8nW+zt3bc/K+lQ+drbrzFefMm6tObcc9OiRYvT0JwmLRQyLW2J06z+vbPxIHYrcUXFJEF/m9A0g3CqebLFwcjX9pg2M7fpxZfKzjbNjEbzodaIizsas2b61a052alYk87KBtvbHOkY7jbM/G3evKXQNyu++pxzyu43s2dlB6RhqaXicaNBdaorBgNF6acsI9ANlL8crYmdlSifmOeYmdsC3bU9nrc1z+WBIOf65exA79u/rzzzvYHtIn0Xw8abRLns0svS8uXLyl7Uc7NDTTXRLurpJKM61RUnAqFWzZFmUymDxVfSnr170he/8MU8OHyyLLc76+yzem/Nh4qOjo9+ypmvy/Yi46Nxqg+UgefGTRvKh7t+++MNb7iptBsfypf8+zBRnerTB1N2qsNACpYC7TeTkUdgfmnxuWefK1uQrVyxMl162WXpIjNv2bk2m2EWuo2u/sQld6WhPh7ErqpWMXWEljVmNx97zaHtLBeHI9+2E4IdEKzNK/c7utek7OGVZu/SBQvmlQ8Uj/pwMaMY7nLWwLrSQjcHM4IL588v9wsbPV6G0UrY1xkBDWo0WxWvexRlak7HQKPjvZAVyC42FKlxqBuV4mBb5sd53rjpxfTEE4+XD9B9bGsbSm9gDArtc7127flpxfIVZcux/K9kj4OgRbXpsPNj4GbfBxUVg4GutY9x5n+29t577ilLQF7avDkdybaZv1LeNJZYgbGUsHs/Xw/gVNN5y1vl71dEzZBfe921ZdKx+V5Gy3PsJWihOtWnD6bkVAckLCH/R1F8JX7vvfemTZs2lSUePkRckR3rJYuaV9/g1+LaGNuphshhLIhVVa1i6ggN6zrV/RCPmDda11z2NLWjhmUOOyt3Ey//8Ujy0fcDHJVAk2/PmPZoFbySR6rHsNLJpB/Ca6moGEajY+NhxKGG5g0M/fWBLXhvSP/tcOMHwRbMnZX2HDiSNmzYUD5G5JAsWrSorL9eunRpmpef03JDS3u4H83OhDhD5StFFHMu+dhXVd2sOlxxHAhtj6Mz541qzUhbt20tP5dv7/Xnnn8+7di+vcQajVDCCZSxGP9BFHZGmp1HmN7cXHDhBemyyy4tP6Bn6Ye21zjWvagdVKf69MFxO9XNsVl75+fHvdoAH2axwvNsvWQRfjHYox0KGMsHaO4d2zRGQ6yqahVTR1uHy5GejqVuGUXjstK29XOERhuhl41zHXMg4hyrsfJsPpFE+ZjnhbC7x6Y8BmM1qIrXMSjQaO3sotH7Jg4t7OdU+8iqxMv3bPHo3uFDR8uPfLH/c7PNnzXbj140ashHEMdH668cPdLQm5mf9/Qz3rb0LkdQCDSnFRVTQT9tZ18bzEgHDx0sE4H79+0rH9x6S1i+6RqVclBFzHEGmKkue7rnaPK11M9bTMf4WLe0izHIVKf69MFxOdVQ1LCQaJwHr7Ittuc8e6XiC2/3m0yOdRkoUldZRq6DtbFYFLObuqJichjWsmGnYix9o22NvjX/j8Q7JkWOIK77o9OMjjtCR65cGYiYLQw6GzJAlIrXG47Rzr4oDrNQrrLWZuPc/PhWQ6H4HD30bhdoNp7xDdyOaBGlXOf/4rqkbV0fgzEfVFQMjtDDNuJe0fKsuGVv6Bz8nsAr1rGOQj9FHOwesiO5NdCewADUqWtzjMOp+5HuoTrVpw+O36luJfdrRRSpGbQ1RnmUpvQZzRmj9XStD4L2WCx26FdUHAdCl/0/1sTDyOzaxLo5sva6CUEyUjTXzbzgxKi6XnFiURzqlj0vnX7POIcOj4VI1s+WtzVXvLHtfUXFiUPo71h6HMPJ8ZGVd5Bok0F0KuOgOtWnD5pef9rQNp9Q1aDitYrQ7dD5fmE0mM7+5rNf2m6oqDj9UR3qitMb0+xRD+BQV5xemGanOlAdgYrXA6ZDx6OtDBIqKk4sYnY6ZqgHRvnqsDoIFa8DhK5PR6h4zWFal3+U14eOObDJ3RcWsWK0jbr8o+JUQejyWNoWGFTj2q/Ox0PV4IpTAf26gkF0uDyLtDl+V5+rflecCpjIDjfrrHsXx4kBvlucFOryj9MHx+1Uw6DOCPPajTMtTnU8rlpXMQ2YSI+nombjaXBFxemAidpFG1WvK05F9NXh7L+Mvu/bgmN1eDL6XxKP7dhMGtWpPn0wLU41DEKm3ydZYzrVJWIv9livSfrtiFA1r6KioqKiomIC9PNbhu/lQ7gT5c4kfAvx7YJ2LPWpoTrVpw9O0JrqioqKioqKioqKitcPqlNdUVFRUVFRUVFRcZw46cs/unBn3OUf5Vk/2r1E7S8C+tGpqKioqKioqOgi+y3HeBfu9W62XYpR8QbxNaZxTXXZkad3XnFqY9qc6kEwjms8DsZjr6pZRUVFRUVFxSTRdS0m4QoNxxzDBRmc0mCoTvXpg5PqVFdUVFRUVFRUvKro5/VMwRWa7q3zxsKk942veNVQ11RXVFRUVFRUVFRUHCeqU11RUVFRUVFRUVFxnKhOdUVFRUVFRUXFZFBXZFT0QV1TXVFRUVFRUfH6wXR5PdWxruigzlRXVFRUVFRUVEwG1aGu6IPqVFdUVFRUVFRUVFQcJ6pTXVFRUVFRUVFRUXFcSOn/D0Cy3M5IsMFKAAAAAElFTkSuQmCC)![main-qimg-3bb41ebd07c9be26cf95bc4fb6c4df65-lq.jpg](data:image/jpeg;base64,/9j/4AAQSkZJRgABAQAAAQABAAD/2wCEAAUDBAQEAwUEBAQFBQUGBwwIBwcHBw8LCwkMEQ8SEhEPERETFhwXExQaFRERGCEYGh0dHx8fExciJCIeJBweHx4BBQUFBwYHDggIDh4UERQeHh4eHh4eHh4eHh4eHh4eHh4eHh4eHh4eHh4eHh4eHh4eHh4eHh4eHh4eHh4eHh4eHv/CABEIAPEB4AMBIgACEQEDEQH/xAA1AAABBAMBAQAAAAAAAAAAAAAAAQUGBwIDBAgJAQACAwEBAAAAAAAAAAAAAAAAAQIDBAUG/9oADAMBAAIQAxAAAADx4Ewt1xAtybKPmomljxVCr6NawoYvqEuVdliToVAl+MiKeLmd5FCZzC7oz8wF28zdM42lZhX5eLRsiEPMyeit4ebl9KeaQyAcjE1kBAVQAAAAAACggKCAAqoo8nNq2R0Pq8vVDorlhkrMlFbxTJCSYZ4kWTfoNPLnnuH58+sI1eYfYPlGXCsGw6E6xehaNsCqEO0Lset3OyZ1V7UR9GstJ5hVntPyRcA7XyoOVEZHtqPsTudlgbSRsF8ovqD0585rlppyUAnjr2a41ICkEFQFRd5LSjjnC7g3SHro1xHZPEqvgGiWxvRl5QL8CCAtruyuUNjkuOVfSXJFYgZOWvHPWJlVF1cyf+qfFvraFXM2RdrUPQU/8ezcTzb9ANjLA8c+jqcLPRd3eRJcQsxuibUDJb/muXlnpt38m2IVsFDega/J+inSme1VUpXVr14WNeLs0tqIqE15YqpFMhbdfUtWvXJ2aY5NvJn17sPQXd3LXZ0csm4q7I1CrCYtOeu3LqkHS5denXya+YOLc6K5wyEp6maoORswzJJp6dLTCBq5jv7I8Q+iIw9NFQPEKKI9UePb+cvQFU8TOlVt1+Zr2lK6fE19eNR+yuWvZmlWO9rj7u94R6LwtUSCOv3O50X7z8Jejowa5HWjTJZeabXqdSDETTFUKV2a81Pt24dmbp7ZAxvuPc6Grrw6tcgYXpuQ6udK5MnP04Dbedybbs9et7g397zh082UqpQdmdHV4E6tbu0bDKUzTv1Cjy6y/lTC5qb9bqrdCJ3F1Hqcc5KLzZYMLkblOOTvfGvM99+d7eJveMZl5E8UfRXxSrbTz78iNwRV6ycaLrr0tWafm8ByMVQWIqRjiioVLs17VNyceBxwdd2eGaQc/o9+zTspv05aHEXRuQTbNPToS5mt1a51QVpkLB3/AD+OWO67LPHFqlmPqRnjfW2dnBnv2yu59L3yor0DRxZL6i82fSwh49c+p1I1m9sNqDZa/wDQsLbcoP6f85ih0gsF8H5t6JLsdkrZpYyDilUetqCUemQuliuysN9w1QqfMMbVHIRQERCMcUVCtd2nfG1zcuLpxdJydI70Zdk+WKu2Tb19THHZQsdKs035bO5Ky3yVh8Ef7qbmuLzWHdTl8/RzpqwTWRQuaYu1sa+7jlDn7ObtmOHC7t0Z1SBr40h9Med/eBDyFJqg9khVHDI7AapDm9G0aSdnrm3qMaPV9ct1lTln+c5XWc+TJkJOTd638+RoqnXOG16qvjUdwVQio4iLikiCRrVAcTLDJSyTHJhngJ9c8rmysHX3QC1oxm3QXGUm7nRDsen0pjT5IunmddhhNhRi/LE03Srqcdjn27uw9pjx7+dnI5cbhdF4a3hsUqgA18WRXTVHpQhRMiu1AqvK6H8VKQh8uJyr1yeX1RoLPZ6FH587LCkzdG1l7L8DO67Y/XvNK30RyUVip8WCos5jlioAJFYoqFaAOK79DvC5u3yHgo3ZdO7lpuYrbqe04p7ZHpn5fY5ujr3M5U3uKlhxOTPBNjE6sGzM6vsRfra3fVxNEZyra2yV3xnHq49Nb83uLdbip8DXx5JftH2KRsSB+vIKQptzsSpHKCNTD7OJVtxem4Gq/H0t9Y+KiUukFyaG4fQ3r2lG/OGWvbPoZ45a4nEgRxmOWJFEQjUgI4gAL28WcbZd3xR95fc6I7Io7ZW2WBX9hW0zKOyWOcXs7X6Id8rpK079cHzN/SxXUcMXe9PT5L05cPZn08jskgruY+5yaXe5R2URy+T3wIl/MqIDZxpZNKh9vkcuFgnZHOMQhnbhtkNF1DkcYj0AUb28F27OyWiwm3hZI2Cv6fJvcY9psUrfJmr2XCB+Xx/sGFFPoDesEVIioIAAADc8Me+rXLI84sdG3XPIBndiuZnr6R8/tO3U455NbX3sfbGWqPu8S2YNXPy49Pi9mzjVjxO6ods+u6eFvkGDuNrc4NF12nqbeu3FVwG/zkw+hPzM2Effsi+b+wXqlr80Yt3/AOtPmUB7O7PE2SXrFy8d4j98dXgNXL2b5LY0J+wubyN1kffMZ8Tdcm/whwb4xRFQMEBVCAIAAABcsQbm3ZYRtM1dlPbItOfO6/Qmnkptc8md8qloiUti+rMwiL1eDs2HMpgiuErsuorM5vpHlkcuGrqR3Tt5deaELjls8tJLJqV75XvLgbK0XP0bMrPFpvxtOOWPX8AgCiqKgbQJ3YbtW5gZ4Ssz1btIaVxyqzpjliRwQFSAAAAAAogHbz9W6rW2Ls6Jw59skcc/QjTk7bcmvgcHVvyWtUbcWDo8nnVDfze3i2YEkBSPVaNU2Xi68ob3xlxd2Ptzu07KINljlt8sKitgA8hSU0RcUgBRVADdjkkrsd+nZI26t2p27NW3U486IU5MsVxDEArAAAAAAAA2OLXuho259bln3NXc/wAizbIk/P3Fj1cjL1Qy7LobVTscFAJVgAAKGc7gUrz7rQ0cnfze+wMb8xXxgKpl0/Li45EgAeSoSmY5YqIAkABuxy1ytXZhkzfgbZWrzdPM4cyLjTkVAIoAAAAAAAAACiAbnNnWu+VdkKKtU24Iwgu7nNd1GCZYzzAAAAAAK8svZDRZr1CpLye7pY3rgnZWqodXzKrireQBLJUWViY54KIAogAbtezVKzPPDZJ5djY5xnhwdHHKvBBK8wAIAAAAAAAAAAAAAABQMsVUssABcckEgDQAAAC54KOXyaDzLk97q5+vjWurlDreXEBrYAWmQNmIAAJAA9msJS27AnLncQg2/WEc+KAVgAAAAAAAAAAAAAAALkCmYgCAOCgDQAQAAAAAHXNQw9Z65gzdP//EADQQAAICAQMDAQYFBAIDAQAAAAECAwQABRESEBMUMSAhIiMwMhU0NUFRBiRAUCUzFjZCYf/aAAgBAQABDAP/AGIP0j6dKkXdm4n08XdY/wCV0v5kqmcDLUKwzcBKJA+msLEMSyBgmmbtIWnCxzacyTxIJAyR6cXtSwd3KFby5jHy45SreTY7XLjjafGJhH5keXdOFaIubCk1aLT1XnV8FE+CLTScQ2muLaQB9wYf7zxw++PpJ+IJYVnoUDajZ+5wyKiXksJz2zxD4S2Q2+fhQVPmWVWRqm2nrb542lcZu21lRk2mduSOPyFLPpgWRY/JQtNpRWOQpOrt/jg/RPp0BI9MpMfLhG+Nw7l7uDdLRhMvyFKpp0//ABfdYbtLyfQFIyL3VNPDetb9WuZ/T351s0P9ROaka5m+SrKf6j/Mx5obiPT3ZvTVOA0uVE9K1n/ifI9ZKf52HIgfx2U/tSjbwo+3tgTjbvZS/Tau+SRJNrMkc6M2SePFpe0iFotV/VKeXP1+HJjX/GECo3enC1fKtb8j9bbNs2+gv0D6dYmKSq49SuovFM/bQZVqTWf+pfc7WaUL1XQBactutWMqoGgtm9JbjDrs92TUY65LRxgVI7tWyOEQ5m1d2FvtIFnnnvyInBeWoQ35/mzQgYFuRReD2him7KktPt8jFHd7EtJYhj17NRkmkj449u/LXDCNQr+bJH4/bAzuaj5SSiIcp57d2TxwgBbVLSgxkJzjivT6esQRe3I12zeX5Q7tyW1HdSedAsj6pO5UlUw6hMe8CqkfS2zjnHETCuBM446+2v0D6ddOUNehDekwaxqUkPkNHk+9bRQsRzUPmaNXkf79MVJNIEb+m3/I7/vo8jzrZWViwqkNFXsn01v5NJYhikqd1Ox1N3/DanxHJViOoQM0mzxhg2oyJvvd5LqtZgSM1xm85l3PHRx3qKrl7ilSxOuJ/wBtPNL/AFmTLf5qXI+HgUi83byEONclLDL4Cyjax3vqL64Bm2bYPdg9eh6MvQr7vYX6B9OsRZZVZPu85ATY8NxPVtFYmr2oXdL872QsUUDLGtspSWqEYSy3pfMSwsDjJLaCOWOrWdXjsS/hfjrBIcnvRWLcJlj+XJGZJZGgiYx2bHkVYYUibee+POhmMLLjX5BFIIYZFexbL+NJJDJyvS+XaMiIc022ancQxsWmtO+nrV7b7rf+OufHkzzIksrYSqyZfkinUPFWKZBegNeGGSBnKagxvNMYG2s8bL71azKBG5JARiWR197Iw+iMT7uhz9s/fEzb3YR0cYFz9sb16r9A+nWKRopBIn3ahYlXS4XBG8sDPaqyjbinP+87W3P5v4unf2MlvyfMj96+P2Qtp5hhneCpR4+mtRhdQ+H3ZcsmlNXrxABEi7dywU9dS8jvjySC+qTSVxWeI7H+oJnVhCD8GjfqMeWW7esFz6NAOVrfPt1CpXy5+lzYP/XWzSv1GHOyEmnlGWJmoUayw7b23aK5Wki+Ea7NIbJg3+X9BfXCMXqvrgwY3RhgGN6Y/r1H0D6exesRSaZXiRt3muVzdquJPhFqo4so82wHZj1FCjlorEtFra2RYblHqMPlThpPlrPSevVEk2x1Kx5FsyL9rT07fZmml4OmoQtPZZm4jNWnimjriNt8uPTt3U5TbR6fJHDqCuzfBedZLcjod1bUICap555cR1nvF/l9+nLWkhlmK5HJR8FqrTkLVaGHUlYP8pNRh7thWk+AS1bdOKOxL23uXI5b8BX/AKtVlSa60kZ3X2xm2DB78G+HE9c3wHCfYbH9fYX0zb2j6daYDW4VYbiesj6146rxQGnLaej46jK0EVStLYmTuM0MFjxbSRBctV4Kq2LDRIc0SNJbhWRAwWFLV5IzU7CJ4t4zV1hVch7MGnV3aurnV4Er3Noxsq1YbD1Z0iUIBVjimu9lSHhgn8W0kQUQV4TqtlDEnHJIo/wNJeC86cKT6ZJ8A7jVIEttIYk7UUEJhpntJkcUf432uC8NSVUvSqoAH0hgwYo+k2P6+xH6Zth9lvQ9aP52DLCdnUvOMi9tK6xahJdeRO1E4v0poQwWQca0dSoXBeywtLbrEjfQCBeO+U7zfiXz3+GtCKEk9h3XhVliFGr3eJzV+fnPzO+abKV0ix8Xvp7WtKaqGAkd0qQ1K7OOSp2rli2zr27FV4YI5SRtKR/4/GN8/p5wJJUOS2AdLmbf3wEePQ9+eOY9VWwXXjrNYrK9nmpX6QwYuDofTB7bY/UZB93Q+y/2nrWQSWY0PoumJ5rxMX4V6tZKaz3HbHo1obIWR34apXrVvgRn7tStW8DyZy+LpiC/2izduKpG1Gec78pNPp93x+cgkgpQR1jNcY4lWCSC1KrMRDRiaKqd2zUYqsB4Qs/cSqkummdC3dOnR99IQ7ZPWrzU2erIxyalEslRAW2vxCvceJN9tMrwzRTPMW2npw/2zxO3bSjE2pvW5Pxp06diM/HJvZ7XebsEmP6IwdFOftjfbi5vg6EjN+jY2HrF/AzfDh6DpJ9p60fzsGJIrzyJ/wDVxHsaVVMSlsvfBJp8JPx6/wDqGVFibRAJ34JWtJY1TaP7I0aLSbQkUrkqx+Q023KajNLMvamr9yFIBHBfgi9+Qgomnow2bWy/I71wq/0+58h4v/mjL3r1xSffp8b16Vtpl45KjPLp7opK6rFI92eVVJTRN/GtbLyMy8oas0q9p40cazLKVPDQvS59MHOQzlnPOWb4fccLZ3DncbOZwNgbN9+jevWH1w5+3UdJPtPWuGNiMIdmSrb8qZvKAdnmoy9qOx7pqdnzYt5ebGhPYmkaWwu0tWzGY6nd3ir0phckjjl4vAbOoydlp8txW4B5S2u5lKvcEIbyhFlevd8uYLLxkWO3KsVprGx8WzbHF7atkqyUZ/lzAmtBK8MlxZOJXybsEpab3Qx3YxXjSfZexaWvN8/4StilZ7CS7HU/IjlEc0vPGu2inAzNtDPLCG7blfr75H78f0w+wAcAOAdH+7qh2Ob+wMGSfYetH87BjcO5e7m/C12e78jlw0+dTpvfcbtMWbQFYZD+U0/l61v1e5n9PfnWyn+j2uXprnPyK3bzcC7Ic1NgmniSLNBYvqEjH1k+9s0/9FtZoJ/uHiPonEnKrF9Ldz66r+rR5r/50f4UIxxgQfvjKM2zgMAzjm22HJB0SLf1zspnAYVzbNsHSX7D1rFhYjKDdp7lhZJ45IQHahbWPmYjtQew9aWrDFzFd7dNvHaHkJ3vWLP/AF8St+zZ5RwwL3K3lULAPZ+LUGvNV2auI4qct/x02rLKou2IbExkQdyVrYrpQeLNOS5XtN24OTzd5a3hPX2krm2kU1JYNzUnavOJVG5/EZfn/CuQ3Hjq+OFG0uqSSLsYo8s6k88TI0SfV2wYMcfDi+uJknTbBmw6AYcON78VAM36bZwwjDi9JPsPWj+dgxlDf1H78r2ZjrUkRJKSf2umTmH4TAxmpVJJDu2q7x053i9f6f8AzxyrH/yQL2e/mlTy2LdhJSSsaTnTawrn368VN/4couk9WGzIfiM7jSHsIdniYzU6csh3av8ArVvB/gJhG+DBknpi+uR5J0GbdNsJw4TnP35y3xTtjNnPFf3ZvuMOfv0k+w9aziOxHIfSzdqmbyYY37/4hUR2sxxN36l1O1JBaUukl+IPBHEhWD8RhZ7IdW7el2Eq2e44JFayYLnfUb41+rEJHrRt3YdSWKtXjUNvfaN7DSRKwWpaSKhNAwPKjbjSu1ayhaKe6PlLWiIiOo1VaSeON+9O1YwRCFCJPrjFPV+kJx+gODDnv6HGOepxVzjnHOA/jOPuyLG6DJPsPWl+chzWfg1NiMESvbMmw2Re14EBA3sAeNf92VR/wdk5U/NRZqZnDcVhXscFN+QFRt2OxWhjIzuCa9NTkRSmny9i6jH7Z4xTjtTD1s2BQkgrpGvAQJHZt8QNmA/AFPsH6oODo+DIxjfb0OI2b9DjHPXPTFOcsHvwYRi+49Di5J9h60yBbiY+msOsl92RgwW8i0K3xjlYsxtrEB7i9vuV5RbjM6qK61lqT1TZXbjHDqChZAyanY53xwl3jezB5MxEq55kc1SuXcczLVhszXO+rHNUnD1KqrJyMhq3WhsNOqZHehluzAtxSfsJSipeQrG1GsU7Ro/Neh+sD0f16I3uzmNsLjFPI4y7emKehxjm+b5v0V9sR89cOb4ej/YfYtUqy1JAE+atGN9OgmVfiFWqlix8kFb8MD0UuQJwyvDG2kTTFfj02GKWtZ5ruw06Hu1vl+7xqzUzKsYy9BFHqqRKuyavFHDcKRrsNMqx2KMxKbyGvVXUIKgTfJ6sC1LbhPfDDGdHlnK/HEVEilxuvgQeZz4/I4U61ZbEkPPPBr+dHsu8UVeE17rFPfXIEy8ttpZITFNsq/UGfth6g4q/zi7DDh9xzfo/r7StkZ93Qjrv8s9aS87cS58h7k0XMl603j06gb0ZS9i2o9bw8bR4677dyr+g2M0Fv7wofTyBwtNlT9FTNRqym+lr3cNcqytK1n3cNFftadYkyRAdWq2V+1omnrXYk25V6sv4XPV93OxE0Epif7u63/j2/wC8kTXdLr9jYtzRL1WDkNzG0FO93PdlutJWYLJt9b9vYUbdN85dB0f2Pdt/+9IcXDjdD9p9jc/znvzc/wAnCSfeTvn7dN83Obn+Tm5/nN83P85uf5zc/wA9Udl+1iM3x3dvuYnGZn+5if8ABXbDxzkuclw7YD0OSdT7Efri9Dhw/aesHrgUdpj+/YHJBvjIoQn35PEE9Dvk37f5u3s+/OJwJ/OcP4wY2P7a+uR4ejYftPVG453j/Gd453jneOO/L/NX1xugwbYOOb4OjYcP0Is/bDjYftP+mPXY4FbAhwLhxsY/RiwY2HG9D/pxgGDFzfCcZsZt/pRYuHDj+h/1AOcs55zwvhO/00xehx/Q/wC4GIer/af8Mf6ZOr/af8I9T/pEOA9H+0/4R6DD/pFxOjfac//EADQQAAEDAwEFCAEDAwUAAAAAAAEAAhEDEiExE0FQUWEQIjJxgZGhscFC0fAEUmIgM4Cisv/aAAgBAQANPwPjz6lvkqcSYX9wVUSHJhi5VdHKmNYUSo1UGTyX9qbuhco6pzZuhX2ygPDCBjRUemqc622ER4UTEQiMY1T3REIuiITNWxwTaD7Von2XVUAQFfLvdbT91aFYrSpN8qxbSPpMhv0qTbP58LaD7Wz/AGRq3O8pTqYK24+1As6IVHAAH/Iq4fawr+8d2ifiOXBGmVVGRvQ3qpvR5rWm0IjvObqnNxPJMlq3QmN3KrlTc/mplyDsKobQ4L+niYTmYHMJp8LUMXRlagzlUcwhoE0zoquo4JcmgWgb8ZReQT6lSnyEKP5RCFK0/CdUJ7HNE9cIAw3mtBCqRKxhU6sqowLZn8LvK8q4eqNLHwo15cGBwrYncnmeqp6CE18oNtIO9VPH0W50dU3UFTiAqUSmDQp7rgYVE9480dydoEzxFMbHmhN3VT3nc1T0QZbaNyAzAQ1wuo4IFUHex0TBlX932C2jZV7cJzIKdaHJ4BX6uqewH1yrdysI08k5snCz9IVVVwPZMplbc/au/KlPZlOyV/UQH4/nNCDEcFbEj0TJuVR2DHQJr2m4oOGIwjBafRUYMQtAqfiEaotDWfPY0ZQZr1QnKJwgZf0wgIB9EahdgdVdrCa7xI5YY6Kl8qk4LHBC8LGB5IaFNdaE58Oajim2MKzemSTiLkzwuCe604RF0IjvgK61g3J74c1BogR2T4o6oPGd+5ClpCec41wVccIHTg+0H2pg+0LUZV5c0HzW0lybFvsrFlo6KO4i72OVu8kJj2TTIlB8ujcnNxlVFd+UQCpc35U/gp1Q/RTnacHc4BW3Nyn6AKp/twuvJTGEWXNTHwEWyMq62AqfgVXxeyBzKaYcEG3VFR3FVvEgqecKq8NTWXapnjW6eDbQfap/lNwYTIn4VoV2vqm0yB8I1N/omU8BVHnPJbh6KTj0Ku8fNObKdgeiiMoan2TYk+ijTmm1G931Wz19lj88HLhBTYucv8dFUyHpmC8qocclSzKAleEkKpkNTck/3IvsHTcmuOD0VurUwqkJhVhjpvW0td1KdGiiex2vBI7doPtWiY8l1VAEIvl/utp+6tCsVxX6fNCkJ+VeHj7RYT8hSpP0nsVDHwjXB+Qu6rODR23CAqogj07HankqmjSqGbR+lOGSE8QAVqbUPA4p+DO5Hw81bBB3JzpaUcu6IKt8K67sO/g0du0H2tf+qyI5LanTdlCrqnkXqwoNcR/iiNDuQfk9MoNyqAMqpUyfVbXVWj8cLjta4FSMlOGeSeZkKk6epVXT2VsYU6KrrO5Md3vJOzlP0TuSomU8QZ0QHf4VHbeEIRogLM+yu/AV37K8Luy71WyH2UP6ge0oNlTBVU9xfqTqV32r+FR2h4WFLQ7yTBqqjsH0CLsO9k1ze8saHC2MDPmhUbcnCA0dgHeTPG0pzLWlF+XDchv4TH+hlMOn+eSkXdQqbAY90TBCa7B9kxstVhv81toHlciW4ULRpUd8+iZUhvwg7B9lOQtncqp7reQVVhMKmTb0U70Xd3gkdpcE5kOb0/hTjaUaQH2idFd+yewhUSfpbUf+kHM+0AE0z8Ko0/SdW/ZbT9kF4flU8EJjCE9xt6oiccZ6cMBRGehV0Z/5PRxyOO//xAAqEAACAgECAwgDAQEAAAAAAAAAAREhMRBBUWHwIDBxgZGhsdFAweHxUP/aAAgBAQABPzL86SfzLJohW0liW1F3PFHmNav3NbUlF1T2R/AiKqi9Kx1l7jegQtENyanxJHoVjdEj3LMmdJwMxaziFFZ5iGXiIQ3cCHCvzoUlwy14LhIs7wrLr9iVAUV84ErZ2J/JDgmfKyHFpz5n0T4gGbI0Cmwg2JR6ya/QhDmhyhljIqMo3imbzyLvzcyqcSKTLKrfjrujJoxlmnyGXmjCHRjKGt0WdxWlkJlMTeX+DMJty9V/CdAianhH8GV0wj335R13iOMZ545Oi5nEjXnD9m8v9JhUnUhP0FxVDOCyJdxufThFG2n0ZBbT9gRlG5k4SJfYnlMsA0T6HxIBiJK7LqiycCjKI75IlomNdtp7jJreuinkMStG6oRA/cG4zhIm7Q90+AxEN5qcEOv4CuoIzQMMTJm4MhP9wPFr6KHiYLE9QUNbJLGeJXBKN3X+CDpuzKRVrKFtqYj4KEAs07Vm9C1LeII2ERpIit7JUTCkUKvjzECVrBaMjNQXvuZZbf7JzqtvDQojiexQsjcOAkyVSpVFd2mehwRIpNoTA4G+h477k12Mk8H3yMJwE0vnoSGbPMCl5dP6Gjwzz5ZFVTRE6s7naZkcgrBzn6MRU/0eW/2J7it0KOUmRHGMV8AnqV8dMf1DId0+MP8Ao83ETKVYEP31mVPrz7fs6HwHuvmdH4lwFUEe0SWSnjupQTHVEd4k6u8BLCT4SBCKZAJWRd45NVyNpOC3HkVBk6DAqlp8xRI+U/UR7wr5zOCCmh57jOmQ0FZWyloiw37erlslyTZpDY+iMlO0EI09YG5MgV8cBslINqhYT8EKWCSydIqMWDKdkTCKZbbfohkkvmJY9BJhIX4mX1m4KEEfHF5Y+th8lpv0IusDNZggAWAkhPGDuNhZKWFnQlISTgI7eotFyYzMDUlIbu+bw1cJDZVSQnWVVzYs/q7u0LGlvuJblY6xscWmApkqd7yigdKjKgjyqQeOBTYJNIwmBSSkDOWccot8+RYInKMeI67mE4Ym/AapVXlf7G0uWV7R+tew9TyHGOFeZSKeRcsZxPyNLTCkLUoPGlLxI7aEUFsoeryRIlFDWMI046SIgXZB4ekdrJ4djYilYE69UsOqHyK8aYgG3ThCKkauZmp6C+yM3mCaLk+kfKWBE0SR4K0rslqdwsx/Q23lyT471XGCdhjRRlguw+HaHBccNhYOWXur9kbEql9LEnEXSTFlsPS+YyRMrYakkQy2ObYp4kP2VJjAe7FxHNS/Ym1yg/LtrRYmqZVqFiZlozLR6YmTsJKDED7Gbw1TAS2nvZFwxs0xVmRLKwnMoX/YreKcCJIKjU+oJqRTFFfcklDnCTuiCANoaJn1PiEI0J7XP0RCI04OoG5uNaupGNpTWCr3IYARqfUDMp5hKloikp75MhdJqquDf9F849iZz6D/AMw4cdmRq1hlYdiKlXdLVSRC0aUaIQ8D0ehewWSwg1pBAnpatYxQ8qRU3YVtBv4n0xl6OjZyHgxUDxbZfUb0n8jgZJT+UO5Ns8W/hPHmUHbUyRKp1PgGM8dxVjgIpgKWO3Vs3P2NT0+GS/soC/yEvoaPqqNihE7PMOhSVhyf9GPVtkcX+zHFcZTO4RJ2pCGKSSO8fzulq5dkkhIY+wXVLLtwSIFGiBIgT0NZh5JHNmCtsCVhOaky5cXUF08k3sDar8kucElBtid5Ve47jerw+yh3JyFVamjODa/QwVLlOUN3fatzP9DJX/agZmWRz/o3klG/SPcuMBzVzOa5Dw+xktOJzhELZKza/osscE3dsaaiN019lwqlljqBEVQJZY7lCaeehKMMBxLolTpo68TLROENC4mROnD7NSE9PsZRSxLyRMhNJK8EfoinGz4n6MhO6ZSBOyscb+g2AyLiCK75J2sQ8LFZtz+yVL1l4DSSpGyTCkKseEWcug5oZCC/Jkh2VXEt7h/YrQsowqDBaIvCoOjlRIfkdCo4FwLwCyBlS29IGTcsR3ShGhESGOTAbwCN0R7j4w2bjeI/jpNGTsC1RMh60ez1iSy4DkrgiM3TRBM3httIg6PRcmJDnX8I576t2RfFVQ8ybKMnAy1Kk8KTdJQ3kWaUrW4YutFW7Yb3nEVokUUw5ft7Elcm+Lef2S7uZfen9DKrl+WKHN4/MSn3N9cmFZt1DyHtw6h2IBRsb99InGgIHvSHoxonEC27EKosj7ioL5ENBt7Wt4owG35f4PwbbYPF/CXKUTwj+DoPBHvvyh0m/wCYjkWMeb/Diox6gztRM82w8+0eYe6HWOAlykXXuTqjL4/syEM8y6zme1/LH+AjAUQSaCTpCrgsuThKEIVaJbIlnHRIIFRBvpppWD3LWBLu4zkWM1w2FFYqpd2hFOzz3+EH7nBt8hUiuoQE3PJ8CNc3t8xwOqbKR7fVKle47kSk1Flt54wh4CSVKH+iBS5mL4iD2+LkkIHSKe9CT5h5IoYmccnmmn+iJNac3NORVTGIZQ+7SbG2hRVjCKLggZRRpQijWRtCFcsTbFniFuITDV712MoPio9AY3r4OHXuXTIufA/CIJiWy7aF3ZpNpQl9HWuKGQCIZnNfY0Ox7Vogc9SEDjIW6m0qPHqCiIreX0OMOmjKw+ERCFFLLto6lw0Hq+9QBI0NgYRzYIYc7RAjsDkQoMSfkJzFI8Q/MVsWGKtHv2sxstjkxOQI7YaxGeBhJpGFZEbkTYmXAkj1ahFp0Y8PRvYKUEp4kxE/kYi7g1adp+TA0csXuNuZZLGBlwJTyQ1HXusxx99KM4XSMHv2H3jxoQmNGYtLaNwIb0oNiRyoSYVDVqyMwJ6FID1AgzA921uvrkbCbV6I4c7HFsyDG3lf7MdVwEqopLovEv8AJ0bVBNENshFaOg+OEgtKlXt9iP0E2JhTVSc3/W/QkjCUouJgg5IQjHRFDKd/m/wC0m0zMigwjUsSLNnQx9CJCQpPGMgumhPAtj7HuWrVYZtvxGRioNeArFT6bSO/gTeQ50m0/wCG+1E2BQ34spiY5Lg2ZzmvmCuW0ZxSEonFW+DtnGTXvVDttiOciie8LPuMVC8S9yK3TvKfsSHsvAScirTlLv8AgFpIaQsitxJGRHcwSoiSJUNjkQy3E5LdjBJuJwF1U77PJfps6eIzYZ4yGNdrnb1fA+fyx6oTfcTgCB2VOFMuVuRmCFZoleT8CB8g8TK23cCxCG+AoVPdM+NePsUZU44L/Yny4/S5kSGTmI/nvP8AliRO0zNz+FnEjwuvsW4aN+QZaNk2FkTY3t9d4wnqJjBbsbQsJgLD7MnpEycPScoY6vNrT82vCSYIrsARCc/2yYj1eha32LR829PRXTghbhgLyX9ydB4RBK47vBCR153Y9ApboeAtLtPP+vgsgCJ8C8lts1uILN2B5bm8qGJTTvInlz74wvobipcxuwW+okp71DepI3AnRPQ3OhoW512PE1NeRq0IM9pqp2LJlJPEy+bvEdym5kukuBNpynBK7d5KIlwf7g35b1JREuBcYc56i471HLtkuIlwM5c8xKZlyJUk6xLHyblKFL2756IdHZJckBINsLBYG7DBdmw7F7TXOOszAS85+h4LnbPgTHwVpOarkGKoNtLy6Zj26H2n36kNRrYkwnitwySEMNq7SjsNAeUhKHo9prMmJEDle499e5yCpUR20PtPv3C2Rq2Qa6Focae2sj0jOgh7T8PbV9+sllpAga08BQZLJwO4Qw9CaPZ9+h67av8AAT0oFRAaCe8Yw+r7L8BiGbC0f4Keiik1rw+6eGPq9h+ChiFo/wAOSSdEPvImMT0PwUPsH/wkML8ViFgb/iRfiTLXgZf8TIw09uf/xAAqEAEAAgIBAgUFAAMBAQAAAAABABEhMUEQUWFxgZGhIDCxwfBA0eHxUP/aAAgBAQABPyH/AADq9H7Rh/wBlhT9b1+J0bzBkNXXEqbKKsC+vkgLGWSGRvFQldgy5eswQeAgW4vtXvNdMYnnHFOPOaREbjV6vtAOoefEOrxuPTGv4kP3Bv3C5h/uZnICiyLdzb2hCST1aLGf6o/1ZMzV2vxlK2fLITm9YvGFWIXxflBe+0eNtjXnDbrX0DwTUdnmUPHxJutwyx82IL+la2WN+kt9YgepvMstd0jvLjLroYlFBy/7MAlTQwseH7QwFQNtWfI+ZgTPoCr7ua+hjv8AwlUJ39b0+N08cNKojnes4ukBZmfm3YSkeFu7c8xo9ou1E/T0l/xyeO31Y2ZRNv8AjYCMMdKrhLxP9SGd8R+eM+cw/pvOGy8CRQgA4caXzF0lp99YshbX8aNNQa47JgDddWFrviVuGBB4m/IzgDkSQHtXJrh1p5y4+aw4PKf3O2afhBznvaHgz/SB1sq4BQPqn0MfsoyouoJh2GUtRK+kcxB1OtdPidRxBG6VWQPdUsDUcY7y6Q1Xy7S4yCuwGXoSjac0ysquztGAmGDbsz8pt5AANZ/5MoTihsK78pWj+LRiNl3sS9W3Pgtu2ErRLVg2mGNhVpvg4bqWvTNFKHd1sJWtXJx1ldTWsPYjiGHwmM+g7y8mNJNa2NWWlbYtxMfsr3OejFXAxu7bXiBqWvsEx5TLglat/IUNNfOFKtt7p7wltWyi3ZhzYImWk7+MoRaqeoMaPb6GP1wKOLLxxqO+FA8QVUUXsQ9FfQ+Op9PwOqFFkb5rIfEuMAa9gvmDGgJ6AX8UfgHEin9GZThviq/EyoDnv/6meMT4VFO3/JdpLxEfzBQKMh3U/j7TXFpqSClgLvC77ysTq61tbfEWSZ2S9QCU5FofL6Q1UmMDzqZRge3/ALYkinjC/wDUdSYn8jvlSC2hyzWOpfDcK6PeYikS2aps8v7P2qxKlMSlqALlnhuXRw9FD7dN2CIw75iMJb9G3U6EJU+J1AM12NGzEReMZeIvpAa8IFrtXfOZiA9EXX6fmcuwT6Ry5mnNDV7Ya71LKILK23j1feMkTI3pPnO5vcmG07FEtjfaCzB7R8OuQa7RjUQu36iSzEVZZOi7YrOCvWezNSmTFsY3DH4iG8TgBOHqR5tdUrdErH+kUAQ4HjOEUVqwrD21wj7xwX3KPHzm7LYqbzXrFvULW02w8UwO3ym28ExJhRXzdofQ2hIv1+slTYqEM7oTIhdh0FRhW5ap2wt4oxdzNNaxqOa8pvSYl1rk5+o+lgx3Cij5MOMZlqu4ViU0aNQqKo5izW3EojMWuwS2a68KgGgPuI8L34wNdBLxsPs/EtrZQtaP9zHaKNWX9IgYMFt+TCwx+YrBY/oYSdGXAGb2Dm4tm4hhT58oO0FNamOdmic8kW4PJIlxno1zP82mKkx61STUf9MJdz/qg9x+UISiDwx+E9pfi/y4i9zKppqlVHG6R6TTfBLOW98v2GRU0GYPNNDGODv0JX24aHZNCVhIFbBogBTb9EV0VHofT1Q9O7Bgh+ZVrNyWhxmW222RnDHcZXr8eQUnHGfaLtDdAQX0Tt/FrshZk+GPbIqLNljuSmsbOHue9xJQ42nFujGr/MbNclU+B4/KP2nmYLM0WLV3+TH8wF2wmR2lS48bzQVS/wATRqyZ1PukGM54donL+nkq9mNefMgabRqxUlc3OHEQw3xNWmq/U46LBGwe4fmU1YyWkrHmB6xNr0dOajtQ9pSR9Sl0B39D9E5nMYYkramgmeGAuYHGIyohdyg6S73MiM3/AEYw3LBU8CPcQSp6SoOPqJAp1gTYzCFwAA+Rf7lwGTgRZrs79oBpd/Ey+78EphV/VkbPP5QMMPKtch6npMWqPi9nzCpUBwCDg5/MvBbWBacsazXvFXe4d2essdhwA3UT+cwzZ4S4YE52JfV0eWMzzW3MB0Jc2zzp6xq3yN/CTmVvBgLlO4cHTTTmIGBtK6lrTvSdrPthdT3yEycxpxMVQnbSqwPuW0LaMWRCZFhXENsdFdA5jMppMl6kIDmujTKJUOjT5jpcIQoFX0TAVk3JkejmGRUXnTn8+4lMoI10P7Jwpk0dj1T2mW7VZnB+CesoEptaiVq0mLAmfTHVAC1VB56IwM31W+/g5x6xI1XxV/buAwYOuSxr1mMeMlP/AARKiarLBv1+EEn2Ay2IsnYLzheZ67szMT420h9H3JAHxAiTcvZFOzzYiz7TJKEI/bGk0i1lZnfSu8ReYXfoGYkYcTkjvojASEDj1LTpE0+f6sMF9ZACLTDuRzSPrBcyGOB1rwzKMoL8raRe2fdGAzEd2Dz7Q44tfLo8r0WuEp/mZejwDCu/3RZa/AEz/qAjqqoeN3lQdiyaBzCBEwY9l7IgpT9FHT51LayhYfB6B955UtF0Oy34QtfYW02jzD4iGJWHXGvumOaaXJv3CGWh2iYI4aATBZ8yn0q/w7Rdu8MBN690DBPRS/m/tUqWHUpMJqubMS7kMuKWI2MqvPLS3mCPM0htdAmEj31OSmxmepUHQoyc/wAdf7/ZBUS1f6lnxKl6ztE/fFUwROM/kXtP6njEjV1rR14Y8WfxV26vChEhAEVRQS/u3At414tJN92T3jyBt6w06gd22eLtNVAID/2mPtuy8b+4m4Ya7pX5ZeH210mH3IhWGGqD8ggyFi2PJ7Q/twZZlmLEsWGnjAaCBaKpXoz6R/LVMm8L9XtEKtMP20WIdyGriXdzOukLAuejI6KhrKOdptlO6dMVFxBRQ6PnLrwbG5v1HE+d/HXypmHKZUdlmMx8ARuFdqH7nKiYUN/gqNcG1KDIeqp+/gGB8xClS4uhr3lV3W+CGjnMK2DyzgbbLhLCk215XvC+EPqxCTYfiZ1OAsOkK6C4imL+3LcVOAKwK+jMlQTcPzaMSceaFORqaJi+YEC2LVm2+XlC2ReGNtFwb+VHFlP1O5TgE84ETQL4XX5ftDLZbLhSA5iybKJt0xXXQzAy9khuGOMq6mfhMOn2m8IIMT5j8df7PZP91Cd1Gn1HiuYLFMvJXxSKMIOV7/WFlnz5p/HU6P3UNIvv/tjdjPw+CorSmpO2Od7d8Nl7ss3eZqmNf6s9Et7MsO6f8YVTGM+F1/ziKzaj4res0u/3qYiTJlOUv8SPV0Q3VKq2hnehBaKSEkYBuCu+WoC49Gjwmcp9WYhQFDbmKfVD+TjqFpoO2o95niRldTB7Mpf0ACHeriRrsYwBu6jg0g3xS/KXRoJRqRbexDheKeK8vjNgcFb2q3lOKnOfPijUY6gGPwh9EOcGqrzmKsWcheruoBHQSGCowq0lAcy7b0eUJpKLhg712hKJHHZH7hNLrXz792iANk2VBDNg0poO7wmtqgdl95t9L9WsgNy44JnuI70Fh4yoxKLnaUZTbWJRRmE4JVZI7m3RtuCxxLfbFLTjDvJZTsIL8cdsNT+Z26/3+yGamgHlsPnPpASik4jY16RqVDiRp+D1lb/Z/Yj8SlwqP/gH5PSix7EuZTW2sfCWKLVfBO2H4ii6qtWxe5rEeWA/iv6hUlpvSvwY9SmdvJ5BP6opCtHt0vbTSG+mkftHQeCWqmM1kdJLCPHklZklH4IO6YfKQjDoVFh2CFQYiuNZrHmNmKxXMCtXRffQ1P4nbqCCIdqBxLHNlxC1PQm5v5wcXm/A4zHP37xT8gxCQgTIf+vOYVocRwvN4HtKJBU22q58o0tNti1qEZZ1kbyZ7sqKDYMMgzvD2iJJ7ycO5z6zDplSlgzOeZCXH7BneoAz+D/aV4uBcADnwOJkaQ+F/wC3LuEJrH7d6DEV1B4nHN4rQw2I7S7nph43AdNMA1cVzMe5nEoJLiHEpSlFlsyESjkxFE+8xXFm4rLP6nbqRIET+MUOM0jmWI9Pg3/0e8GusXbf3JEpeNdkUsYimsyBJyOL0xZoqVj4neuIWyJPFFoMIhlE/BIJ7M9wt/O0PIcY61X6b9JX8KxgOPUw9Ss2RZPPbAUSWpNGvlOQq0zIh9bn61KHcv5i31yoJMl5lhcXBLMtzLmLmBXQUhctwjaUOEzA3LsTE4mEmcURXkx/ycdQd65gBtlsAp2OM8+i3KPp8onddckOYqXz3e0ezBqFVTDMrzE9I9y1pGT2z7QQbuOFZiKq07ap45ItV2kfxPMdh/ksA/NI1TluZ9BUpj+aCCc1qHA9b1e4VPDvHke28OOxz1ZZrk5hcRcTAeIdK10rq/YVTxosS8jimIRapZ2I9KRxEzGLE56AbR+GI5geWF+0eq5gMFbcy3ABTDZcqtAreL8dQVAFWBTsa+OYcLPV/wDKZ9JkRVcaX4IQJpemz8/KZdCPkf8ApjJl521/tCAI1oqoq79V9oIkkBeIkGfJ4XZAIHWvLHSdJ2rXyxyuaW3Z+HwmYc2vhPlB0GuZC/8AZLXmPGMkpaDqXj54bi1QM4q+1PWGX2MtBbHslv0wOFqgJXg4PGDZCiNFWfAy9+r9mhm3FavRTmJaFnMPhAFAI9GZiBDMzY1cegYuIWQ3GyahhcAkV1GmY+SXr8L26qDrT3Pi5mMVzEHH93K2jG7mL7hAnst1lAgjeTRD/YDocPA5C1T+Bl9VgnsiCtXcrzBsXxPNJvn0eXr1hnyPupZtpBTkq90RhBBfRhf1PxMZ81dplPoX2ZB/crrbHif82IILQqTAvwMX5CbxYQ884tcXH2fyha53peUvox+0xyPRHUBXtK7SoxLylNJilXjTno6Q/urqtOPaY1vQUVRe/wCrDbR8JnZLbcWAWDNXAaw7odou1WyvCLjiXoLuT9qNwKguy4thbzgClnZgFAlsuYPHrOpTo7zAtZ4a2K92Pt4vETvxS0y2/mXeYN+aLtEMRtrqGjqx+0r6Uh6MYRXrfpKEXlQIY26Tx1FN9CxmqmX3mZBPlOuXlw+sbkrCFnrDJQJQO9XYVU3jeY2s/HyD8/CH5P1H7AdHUPqupx9pjiXK+mnGTnHpKG4xT0LOtgZY+ijehnjWbT5SHRXGQqAKNtl7l7vCBFbbe6L7v5sT7OAnENfXft0A61QckFLQmMQicFTPM0jj5zLnW019GuGQWBq41T5r75GE46DpvHfV+26hB95TBdo3U7pCuRjbTBBMpap9hsTXLpwXD3mHmf8ABDcek63q/cYlU6hU8EoVRBdoAbI68I/Z0RYrJ2T5CH3j6ARtHXQ/4FT0yJwmV8JliMw5+049NcTaD3kPvv0M9No/4VpaW6YTb7TpIxLSZszfih1Ptmo9Xbozf/4W8xTMlM+U/H0H2+Iwm8UyirB/8S9TCTfT5T8fQfc56OENz8U2Q1/h8/4RGp8z+J//xAApEAEBAAICAgIBBAMAAwEAAAABEQAhMUFRYRBxgSCRobEwwfBA0fHh/9oACAEBAAE/EPgxx38Gd/4jx8n9LjH5FxWIszl/mOcM6sAW44wSCd4fBnGPGHE69Yc4G/v/AE/DVtiARoMZVKzi4lNuyccIOSVpoAC6XxxARtUgA1V/GQxKgCkSCFJxe+sZAAsrNpS0NKxqYECtQsJCIe1WhA1gGTVliEK2ERiXxjomsxqpHTTl4xcYdQSNBOd7esZJLSEAkpz7dYAaThE5OiICiXp3DYWUfQVqFVg6XjFcf1JkBEXQ07PeTYrWb5YKApJsCO7g5h6iObS7DR6ZuDKQRS20E97Dq4VD0ZhKFpo4UjTzj0M6KsyxGlO1xEgErAUoRuXuy+sSOYrUzwO1dCd5bRNBoKAlmJQNjpxaLosKV8T3k7mIV+iBkYqhwroTdzXlfYaOyhBwFG8OvSIPbQwByHDeGxwvvZQYQUE3If5x+fg+TnDeDvFWmYMDk4hgia4x4wrxhszoxzlhOuc/m/6fjVbkoU8UzZ6TLRVnFVW+VyLsUBFYJFKGzFOcVyICVWl2bwIkH1QePhFfWRXJ121qTq9+xybnRQqxL1/JMQQc1Iff+H4EPlyFJcT+uLpLBVCmoHJrWrAaqvvHhQu6gBrehC+hxI7oqNO3kAPsbvCTh32NFvYil7RxoZCq1V3uSzYIwpJeKxQfD4wYLdELxYGkoaHzrFOJKbX7UrNecS5EIiCpn8zKSPyzXQaoS7PlwlEb0vYRQDt3lhecVobh/tw4kZiqYKB3tDl52zSndPrC6UKhBAN7Dfz4Zy/S34SfDsBfrGyYHkzhBfxi3JaDHU+BTjHnDTkQ+8R3rlz1hx8HgybfWPCYEbn8v/XxzhJZdUKCEUUDXnFKArBoWYrVFacHGJooPIFExVk0DKWXHm6AYq00JNCUuzZjBl+qMA1BMBZbrIzGbUDqQbtVYeAMOBO+yCCoFFKENokHLmfiOEoQiDb3xvJlUCXR+3QxrW8iCaQ2F0NFbTvzgSXVaKBSoK66MB7+k72hIAad8+cR1tire2XdQul/E14dVgEUIXVm7hhVVjrBmN3jQ4L5sQLRWpaEJzTTmoeiVKMRRTyvGCc3tkWloSg0Yw7ykPfiIiyKlkZuld4f97w1WxtEdxF3vL0eyGq2psGweL5wy0giJVIo8F2UecQhug+IovaiU4wrt2KJxWkj/Y8YvZUqgWkCkRatCSZfifDl8GA/B9Y7oxJcXPKyYzjRD9zBAasCG+Fx0K6LMlQTz4xUbKT1lSztucuKN/JjV8jEjMszh8HLiapgNz+f/r4MHQDuCdnkUE941RuivGBqiRXaIFmtjYKZI02LbvhlmCQPb1oq7VHPcPOS8sKCIMuqIS9gd4A2LB5JniwfnC9WrprA6CTjx8Yey/mI55eA/wCTFMwQRp3oY/THNirbkRibNKflwzerQh5d0a221xDu36IyiQKxSzHA9IVrwG6LE9eMeoxppoe0Ejx+cYjNRWKKg7d+3J0SQ9DD+FL98C4chKylp3MfThLuPP7X9XmqdA50ionx3XQN2pIPFuK10qA8qhKdJqm0iuEIio8dLqXWv0B+FMfgwGd7MfzrvCjBDvCCgwtw9gCGvzhcsmvAmCR0HZ5cNPS3LKTrCRJYm+9YyHik8FyR8uaH43cTfx3jLfWI29Yc5pcePeVfxgo47a1hR/f+sMMZGHRhQG3YaMuz0KRFYEACqWEsLgJCrJmFBCdxEVa3BkhAmYICCTDkGq3EJAsQVMjZgDu+8cGoTA88FpGloaamE7WXlQBFCS4CkN4oE4esNI7SBGbHrApTdgEaQFFR3pwudcb2oggiNXRjLZrNO5SlpffjG3wvAPQQF8dONMPzDFC1So0R6xOJNkJqpEJLxUMrKHJRAUBvheNGIxYkSptiq8AWGMwMQ03sB2hUuWGrxWX5oDWXSZyIZtAmgDRHdjF4bbCMEQBbXnlxIyCmHAO0i009aw+rIAXfiqDQ4Dpu1YiCjbZCiEdsxG8U31IQVUTc4w+MGUQoCAWCzwPj5cdP8YuGBcQlm7m1HS4hUNN+cIgGbwE0E2HRh9VEResgVAqYNGjA+SszqL5TCUITWAInOHcAVPpMeMQZJ1mojQUmEQQHD4to2NYCnEwHesDS53g7zh8fyn9OHxCzJ5BLBHT2YXUikbBRT4CdY6PDhFaTy5qTNG+VmrqIk55HKmAKiBwAJI0Gxx0B8lnW8E3+kyRIgDQlPaR9HzgeQkEXQUUdkSNDkpmswYAXzOrK+VXvHvvwFSVKbZNqivOTtZ5z3JIrLyquHsT1bmMl9N2YdFLWtRClo3Lz5ct8javUM0OoQd3nAIBE0TN2iPNCf8LgGa8gSpB7RfwPjYsDXpHTfYP98KgD0m83QGnc3mSKG9TxnMI+Ax8/n81ecFNgqoe06BeQIJiCy+idVSJxEdPGO4qWKd4leJZvjRnr4usf944Zxwip31jKspN41U236cmOEBHv6xAjpNdYmwZOcLi1DT7x9qcHDyOCv1lnc094Oh5/bF5CLcMCHOHn8453jjOVMGmufGGm+cI1gjg8+s4fH85/Th8FdYHOo3c/IDEGlwlQemIQRDSJoc239TllmCCidWRML6Jch+AWgwKgg9kbUcM4t0C88nHWFw74xjuQCUCp2WbEqFiliGyO47w3kLFbbl0qYdCGOxhxILhVFSNiEOQ/pWVDVCxXSpAeHACqaUWfn84eRaX5hoDvivGVA4ZgwdYpbIoFrjVbmRHoFFpqavrD9hogwRiCd8mNVQDLdp4D9v4YuY+uIsdIafHQ4iNQ5A5QBEUSl6cYA1uZroLFIaXRic0mExqA1pwOeMDZIkix+U1JQKu8URsIwlOgd1LEGhOXigNoCQFggS7a3MKyXBUIgEiJxlb8XTnL4PhyHjAvtMWqDh940aBI8nrJIKDBctVcFc0enp4caoAvGMUNYFuF6x78K4hZ4yJvUxCRzHf4yt3nHO8aI6wN6Zt84waWKPkzboxjrAZ0z6Z+aP6cGZcI7G4dgdIiiPI5F1hA7wANCU7HeQ6rdISgEBQ1W7zopkdVaBUCKrtNBza3niOZAijAwoKaAj31rD0ILX5PNwyiEckQCIIIPThWodwXx3ghUXT2XaaONOQGBBeVEh42hNo2dbVIBAeeKYlAPCsOj0qZwEcBj1ki+8ABBWmwB0Y4BxrOCkovCgQ7sfTsxqWBGPUKCmgGsDjrdUIKqqHK4YlzvBrRmpAJeAwr9Xa5SbInngcrvI30QUgS87cTdePluO6CI9h4yIEedaNMgghOQwIi2iVgGgq8YfqevjvOWBnOsAj61mnA3lyZP31gNEhluXEN5I7QxFt/bEOK88ZKzXGX1yDvZiA5u7vnIC1XjHO855UtAf4zxZdPeWa7y/8AjKmDlj+2WT0n8OXFYCF2GACqvRjGhOQamAkgp0Y4OjFUpThAiCroLTCLeC1y7Xl0GMXkw8tCJtAngmLFEwMKj09Fkiu28nATJJ4hiuqrzgpr3zXiAIoq8UVCuTt2nIghVCC1rQMK3MNZUHlJWpbcR631Jrs8FH0wqHZEvGF8lJ3cSjYmWmnaNSDGLyYW82N0lyAcoKNmDovPWiCSNqAq01cD/lq1JPJjuaEniwqW0GStS3hHDdxJgqFK8iX8GBXkYS7DlA/wZfjMoEy3vW0N+cr/APLQVrQAy3lM34cNbIoam3D2fL8T4fjvOZilznWHT1rNRMDJBG+skEacsb9/1hbSZrWc7T6x7K0b3ggg19Yw6c4EvGEsDGIPOsRqO/8AThkZ3kEbuNsu89LYH94SunD3rAu8j2wngzWMwEeP6X5hg6o1UYxBY+cMRa9tDkigdThPOA7oTLlJsqFqwEIsqHI22ReRFx7O8rK3RW2IA3TT24u5fkOXDabLt/1h9X+kbARAqgUHY4VgLgZZRKvdfGIEY2ERwkYpTSgxMLieu8E5JeOiHlwzo/YyjRUUpwxLveDGyGACxNbLd1cqCTfLmAV/hXAPqjsgIl7qvAzga7EGhUiJb4PJx4YtBmclFCJp1QhI8ICbv1hvmHrKUPS0O1Au1/GSIKRNvTtDTjGbDmmCVKIAbYhGcyJfJ3paySdXjLXHCVOFGhG+jzmvpCR1bPTJ6DHHi484pnrPHwYNXGHVnGaZ/lgYkb4MdZbHbcCCI2p+cM+Tee5neEi8ariCDa8YPpoXWHRrp94D7L3ijMRX33m0HvDGeHDXEYBvvD9JCcyaP7xtXUD94VX+sG9ZUwE4w0NEyoOGue36PtHh5ykU9KCevnNUqydUobAYXq11vCrM3qASvhh81n/d8YTgG0AUQSKAs76xris69IOzQCDBUOMt4HfRheRRB7msTl8FFKMSle5Q1cXynsX1UtGFiCiyElfWzBJ3CoXbO3JfhjoVE5EmnVMQsoOHVBd0FxPB4YQKQPon6PBhsjpsMD2BkPb5wVBwGpwPIiJRXVx2hRUXFHAin04YMKSEEW1S7gzuGJrnue6hKKCXdmKkVa4wpQZL5CFhkBMwr1HCm06r1gMAg4REPw8udY46z3j4+PWMm+MCiYZKBMv2I41gCEK+NYh9igfeJslhm1aJK+8bKV4NZ2EHzlEFie9fDgSOzXOCdps5cuC9YS66f6z14uKOKrm/XXeTFbR19Yllpp83ObDiYcC31h/7+3zyu1reWvelH8Yl2bwCmqwAlfGBrmyLYoVIDc3o9ZuxIzE21XRMjEQMNEJCmUShFZUjTkY3OdnZagqNgiiNHTBLEmRVIaalukuXIeS9FLIRxX3kOe2nlGAAylovHKDX27LwEAowKCWOsC2aLUrXSMcmqnI4Ycaod6BAFEQmnfGGiFornZaDFL0d7MIoZFQcpFiIU9mBmJSEIBJdN+/OFXLTCQoQLAFFr949ULoLTpRRQJsfGVimpT1lQUcqiG4j1QZU0ztlf3xwJ2DigeHzPWK58DDiIgqJpF3kk5WAgB+j95+HDF1M7MOZj3hhziGeJxttwZjq3JxUveG+dTeWY41iEVpxFMXiod59uWTjAlh+cetCd4wqS6xDJK3EnJgYVHDrCAK014xwLsqH3jD74r6xBNYidcmCD/zX6BrCBBx+5Y3LNm86XNrrNturxvCG7Y1ByJxW76XvEKzlNusdL59zGDYWm/HXcqfSZyOuXN8mAkKDV2AC90T3MeXiUkauA1wz6wLYWcoYL50/hPOI/IcCpEcIsx8zCgP40LQHAVdYIKvDW98g9NcxAarLWT9tX3iVbRxVPHgjP/1gEhk4Wz91yaHjp7Y91Lt9fET4cMZ3jzjrHn8YfLzrAvBgjAc5AT7M0TI4JUcNVdP6c1vraOGbA6r1hKHE2AuasnoQv5xmFHXNcMCGtlwocKZuHRiG9DZhdCWAFwkQoICXBCJ8rP2xABAhvGupON461z7MN3vDvLjNkeT+XytkVoAztIIDk55wvuIT3kkVFiu0+sbvwYmVRTJ0C6aGInuqru4DVAisYMw+9rxXClG5QvhQZliyHKi6KoPLoSBTHVwKoQZTKQFWXXkp6t49+FaMbZv1iIARcbAkjQEFhNbdGUR9EaaFCygYMJXWIA0uEISgCCOxI91XiNIAtCHIrzsJUAwXNzYNRQUCFWLrKLCqpWyg2jsjR6w34OgvIhZBHPP4CwCEZMjEdFG+QwZsEO7ZPmAJbsM4Yd+i2iEUjqxcMzwWCICrSx9Lgzo3NgCKuz+XHa+XnD5PyYJRfWQYS+TOEPGzL6wvOsSPRkhhscIuFGujn3kqLeGGqEZv3iraBwYEkRWZaKK4ANC6yiyhrGTQ7xqhxnwCi5sVe1YGCAk8mIgMnFwIkTKPGbM3qtuTOAW5zGxxiIPXWOCcTP8AreXzvgpsklrMn7AYOzRIpQ8BWV1fKmNcyUgsAmyAHk4bzmeZgSe8qgV2rbXeQQggJWE4pEem7wzKttMdNeBsUNTn40I0agMROhcQlheMulPek7hVW7XWnCxq0ESsU5Rl8SdYlFL1VCheaL+VxrzhAZA5EJdQSTWQk/bwFF5VEXvdvOeBrMdDk+GDlLgkx55/Lz8L8Pzywbr5wSxrsM2ov2YhaDBQhsKGUrpMjrxTeVDesLsl+8Al2JvN5gfhj90eLkoom95s3QdZrswhOhefWd6a7uSQhrnEg7QG4eJJwRM3BEdK4jj0X1nYASjcWl55xxORf7wfwzk/8V8jHzUW1AoKghXmYI8I8PKCCjgd2jhJJSRPQC1WUDDwq4HDlS8MFBElERF3YHen0koMsHe1KaplnEcSLIyVYRYh5cEVSDEjEEju+zHH16pxW7jsR3EOcdPRBXEBXYwAWLxMSXMQOUtnbKBQ9bNtQVjdQUR0R8JAtHlUXOpRNnQ9Y9RU1eqApSIiIjzYAlSxmkFFCjSqqlaTChw4AVC2QpoLNyrjUSF2cqVbaCBCEdRSw6/ODTmj/bOV+Xn4udbxb8mQHrAEluQgj5mAvbzMU2cBnHhl+k36xuAIMCAWPOFAZgyeUw5gBpmJ09ZMqT84I7wzkTZ5xQKquUmVNpzhhWvGEcH3hCgS5O6FRnGORYo+cJQ/7WIW6fOGc1TFR9n8vlCwwSiJo+sEHqGAEGccmbrEoR101KHsgx7USFRaOtijvsMJ5HYB3dM1tePOFiHUILoPJy/vgJgJRRG44u2AwlcCHc+Wlx5Z7MQL12auTsF8u6s2th5p1hiEHIjC3zYkRH4S8kaKS0PNJ9xmxlOzXqdCTOIMRAX5UITlI62qE5oMj8I06aFWna+sMUGCBROXnOWblwx6C84/Lzjh5zz+gyWMBRjAun3jcHrChXlM3I+cCSIiTHV3SL+DGg0PJmh5I07wAKQtrHF7iy7U2c4TRMAHnJ8BuKzLux3tM0KN9OPOB8KY1IjvJBHRLjSIpyYg8KqpjN+/H7YcZB3hB0A0YDJ/+j5TTg0W0egBVw2o46gUE8In4xjLWFnT8gzvr5xzeZFD64VA/cwDtNA6NJSlL7HBmGpLuNRDm+VhOFpQraooCQ/bEjNbFpIgxRBfEHrFax4wkW7Ak9mDSUmOlTpAN6qdYqxMyx0UWqkoALV1nOUqnlbhLJx7mhaBSLvb7wyKagpM1FKFFA4RMAnf7tDTsqLCAKOshj6FX1BCQj5LDB4mKEFhaFFRTVHGa3ghu4oTndyVuVr38Oc86M8/qdY7pwbS9bwZmhoyAXpwrAI7vWbCQ3b1D/1m5p6DeBOwqkEx4UIpeseoozeQba5w2g94fFtZDArYM2i7iuinvA6NbVcMVC+MubdBwzBpvEoDrjHNfWsJBtcSR0decMppe/l8siCAFV8TKCmNrziyu08OAkAokuxSwiKOBeaUrIeCnFoLKoyYOgC9ouw0JIQBKSpBRnpFOoWfi7x3gJRzaBiCjXK5DteQYttKvULikMpq+cdufnnCKLZUTCq3YphIvSkAVaq7xIq+hdnpCFt5HTAZxnelQg8k0TFZxMzNTWJefzikg0hZoFknR3m3K7yYg9KUHzM2imk9wO1iHlz6mJPCUNpCy3LKqUGijAOUEFWgjB1s4gIWvlAMG9yHNw71B8SEqjot46woTsiIgTvBtVkN0cfg4/qrbi+zBGXYY7jVc4cS0j85UA+OcmGpBK/vHIgNBgKlESYkyC2ZxFxnZwzXjj+MbcO8BaeOMFDQ6TK2MNjKh9YQqj4zQgk1gC1rxiA8HrNlPeFHyNG6r5fwBiXQLfQE+hwhznd4ipVRUV9MkMHGkvoARvAvjANtgwmC9VTePrvsF91OFTxVCy5r9Pn7zvshOVVTvR/LioEMW6cPCgfjEWVIr5x53RCpasSeVxfrEMAagkRyI7PfFxGidZYR9MykosNF9r0gB7Y1wQHqrUFNLrnHWiGq3D9kjxznIZU7ixQXQ65uDe1VrBcX66+MKAipKNN4n3xUqRIAG5r+8CGBbs7TGzZqkBQjqpIx06hUq4egCoqg0SOpxFyph8jznX6jnFvJlZeZirrPRjOm/GAkK2HrAHy4mFAH74PKH74fuwpPpMKlcuDhf+seXwU9lf5mCquzRrX+7n+srgWoDusvMTIR3zkwnWEp1hvNv+l+RRa6Uidc4AUAgup989GMmuEkHyHTvJpSModcbvW5jkEq6PtcqFlUqJ8px0ZBK0ERKR2YzAYlFc+b5/Ob1YMsKNGcc7wiE1pEo0efrFLvyhHd4XL4BggbzThwGngh9JretKaxO3lURXy726MSUaqxFZK73rWOU/lFX7XP5ff24453j9LIGjyKJhUi9qa83nJ4lTdUAXRo/bHKCaeoKrA6Pgxa+Dz+vvDSOJ2/GcOHtjEKKWlxPGIEmAK4axvDW5wYDHDrDja+skHi4QI94CJ06y7zhwQnkf7+TnCksH/3hU6a2mKOWF0eeccW+cfR/wDNw+IAhrW/eDuggGIqIqlcJz6ztR1I4Q0A0O9u+IxsNcJNgYgQ7ATVweVjgyIhwjF7AgXZxJvb6uOc8Y/KT44Zw+Ia1g0zlhO84Z38H+KHOHOItKF5xKifAvS4PAXGABciyB4rmo8rYLf5yQqnO9YhcsRuCXerhgL38PP4wj1Dodbv6GC6cdLS9ecaEIZq754zRahcKX/7H4PGEs2HU7xlCIaYixnqv7uNZRVVVykX8gXzMHYOakTGvlZzju8Vdrt5fzgoQGum8/8AzHg9Y/L+kmBVcNPq4cnwOfgzjh/ifzGsnuGwaZB1hLBLu4xgzVZhFLXqY7rHBAMJAmusXN68YO5r/eIpUrjfl+R1SdYfBzj9WzDQRn84XBWZJR3iKDnCy8f1uHOHOHPyYc4484/Lhzh18eedMkvBvB7zmyMDfjj/AI0JMcaIActwP4ynlgkr984oh8OWZDndyYJfWDSahuYpaKMr3l0IXFX9bjeHCQiG/wDWXB24NjVwkTaPeGDQaf2cMMfk5w4+Ocef0HOcPlcDHf1zfJ/Oc856w5y7zlz/AI5kQXA6wfvnGJTD8gPvHq2B5wP9xgGijjGolR5yWIAxK7cf1HOGOIHhl/GTc5b9GS3tgmjn+t+XD+lf1HOanw5ZpMYseomFYw0/Wc5mrgyeseceX/Gtwx8o6bv3mpXrzgjye8SJfycSkj9ORNZcMfyx/wAA7zeEqYa/7w18cY9vvGGf+xzh8Gdfoef1GGPecs6ZxfZiDXjWPEV4+LdyY4H+XeCnDnswrzinLlXvIwlff+J9rvIW+/8AeNtesCuaJ1/W5wxd48Zw/wAR8HPNHNZ9YuHnAAnq4B/bEYX3j/4esMWYc/4e8UO5vCTX85YgtxJn5x6A5X+WGPedZx5/S/pOcNYVc/3wafWNcZYenFDDxi3Hn/w5gXHjGz5P19uFI4FA57y1A/WW7+t4v2H+WHGP+sc5fJznj9Rzhxj8HL6fBy/bP52f248/+EfJ5+XHn/Dxfef0Z/QZ/wBvyz//xAAnEQACAgEEAgICAgMAAAAAAAAAAQIRAwQQITEgQRJREzAycSJhof/aAAgBAgEBPwAvdMssstCY5LrwQ/0tDF4Ma3QhFDX0UyhFb+97S7PyR+yWdJ0PVJGLL81a3kuD2MR72e9C4KZTsq0U6OfBvf5VyavI10LI+0yUrFIwZfi6+yedKSE01ZIvkYt/Z34IR729He7e0uiUkrTNS3STGNj5Z8mmY5NyVmP+KGNqxCe3yL2T8V2X41tLoyE226FyN8j4K9mPhowSuKG6RJ06EyxPnx6LEerOdmXv3tLolGUvRLBNp8Dg4Pkhic3wLRZGPQtdixyg0aWV8DVsy8T5Ili78EXtYn62uz6srnZi2ZSKTNdFKKdGmyRh2LUR9GTUxS/xMuoc30aTLT5JZFFW2ZssZtNEJKxNPo9rxeyE6I8spehpbMYtskvirPzpojNymjXt0hNo+T+xyobbMEJPlIyJvmXZGDfQ7TIdEVyvBD3RF8nrZDHvKNqjNBxZpeZGsScSKp0Sj7W0IJswtQi67JfK7HkkmkKVog2RfK8EN+CVlqj5IXA/HLjUkYMbi7ZlxfkVEtNHHzJkpJy4XA427NNj+TSZHGkj4L6M2nTVpDi4OmRpckW014JDL2rgiUxxpFF+UYpEpNIytyfVn42+0Sj8WaVv5LZbamNSI9kfW2r02XJlcoq1X2PR5Wv4/wDTT6TLDOptUv7/ANHrf0RW0uhD8vk1KmOSJZ6ukT1Emj8kpupGlxNO9qrbVx6aIt+zG7oW1bPdi2l1+iUb5RLK4uqJal+kSm5u2afA27ZCKiqXhqIpq2Lh0YnyvF7sXWz6/TLGpdj0yZHTRXYklwuvHIrRNUzD2h+D3l0LqhMlKlX62JC8GrRmi1JmLtf2PdD3fQuiP62LZeOq7Mf8kf/EADARAQACAQIEBQMDAwUAAAAAAAEAAhEDIQQQEjEyQVFhcQUTICIwM5GhsQYUQuHw/9oACAEDAQE/AFwZnWTqCFztOojcNp1CZnUT7tQ3jqV3My1ydROohbMzL3fX9gmjrNGVsJkhCEv4X4mMy9d8xB2nTnaG4+8BXMxmoZhXbGZYzuTp950vl3gYc5jV2xK1x3gS3OtWztP9teafCbbkrwJ6TiOGKdoZ5cJd6sQcPIl/C/EJcc7So5Mxq7p7xqpn4lNjDOl7fMKuZaj0BjedDiAjnERc7SvbEYMs5gZjp9WDE4PRA950HpKmI5mtp9RK8KlUZerRwzhf5IdzkS/hfiEuZTaYY+W3lOl8yIgZlBHeVrhFImb+2JWq+XrAsVDD3Jcc7TENgmeWn4pWqpjvNCuPKFcwrjeVcTpyZl6gTif5GUt02zK3IWE2hL+F+GdWJa2+3pB/pMuSK5cR27dpYcDDI+8pbf8ApGyVfXMy4yvt/aNhT45PPS8RNLvNIyZgYnflnG0uZGcXTFsylVcTp3MSu0qkv4X45WcPLyip3guO86nG0FK5PKKnd3Mf3lbbmWWul3fb/qKuX4nY5Ly0Q6t5Wwb5mjrGe8Ll+0tqFDLLcbpkrxlF2n3Sw4nHDgZW/Qbd5w1evTLEsdLK7y3hfjlbvHJMpM5F+IbuIW9ppZVq9pl6V8yFl3PWads2FDclgFwRj2i8qqTqXzlbWNyfTdW9rOWcTRttWW4NTdmjwd+r9U09DHecbo9VcEroXu4qThtO+lp9NpbSUhRHDLB0Pxye8V84O8XG09p5DiFk3mi9Sj5x0a+U+1Qxg7S27Hk9uWjQu4ZXhSrkl9OppvxPppgZbd3hpveGnndljBNWwbLKYDadQMqCTVrneXMVT25PeZIAy2Bx6wx6QcwRdjM07AmOS7RjOp56Num2Zp2qk4rbTWfTuyx75lbDGXtgmtT7qK7EATDK1FwQMYljJOIMDyUHM2IBjMsg7wBlcBmGMH/u8pXLn0ldYAO8triSzvPKPf8ADhtbpQZxepnTx6zhuINLuTT4n7htKWAy94ahicTqdNVJfibrK61zGWcLxiOLMpYuZJ0oTX080X2eTXLOlgYO8tXLmdKOSdLjENNxmaYmWdDnbvLaaG08t47EfwHDNW7Zx5TR0SyZZp1K7EbY7MpZd5xadCTzljDy4HUXTIOSa/gT2YO0+gfW+B4XgK6OtdLFsuBdsm23qSn+oeBEba647/pd91/w4n1X67wWv9Lvw1dRtdxumM4sP+Bic/KUmMOZbw8reH8ugvp5O8poK4ziafBn/KzKcPSrklgDJOJvgTla2Xl9NvgRlbek4nwWx6SsORHn5SmxHuS0zvLO35aOoH6XsylMuZTQBMsKlTZnEapQmrqN3L+HA2wpNK+2JquaL7MO0ORHmu2IbVjuDFyRd/2NPXaQ47HlLccvYl7KZs5X8eGti80kQSWF034YO0HfkS23O3YmdpW2SWtjaP7VdpZzH8KuHM4a4m0t/G/DPKefIjyO8t5R7TT7x8T+1WW5Pf8AHgvDH+J+H/E//9k=)"
      ],
      "metadata": {
        "id": "qsl9lrw5wf-l"
      }
    },
    {
      "cell_type": "code",
      "execution_count": 183,
      "metadata": {
        "id": "u8vlWFQQ7d36",
        "outputId": "86989d43-0293-443a-8313-82a835794842",
        "colab": {
          "base_uri": "https://localhost:8080/",
          "height": 96
        }
      },
      "outputs": [
        {
          "output_type": "display_data",
          "data": {
            "text/plain": [
              "<IPython.core.display.HTML object>"
            ],
            "text/html": [
              "\n",
              "<script>\n",
              "var my_div = document.createElement(\"DIV\");\n",
              "var my_p = document.createElement(\"P\");\n",
              "var my_btn = document.createElement(\"BUTTON\");\n",
              "var t = document.createTextNode(\"Press to start recording\");\n",
              "\n",
              "my_btn.appendChild(t);\n",
              "//my_p.appendChild(my_btn);\n",
              "my_div.appendChild(my_btn);\n",
              "document.body.appendChild(my_div);\n",
              "\n",
              "var base64data = 0;\n",
              "var reader;\n",
              "var recorder, gumStream;\n",
              "var recordButton = my_btn;\n",
              "\n",
              "var handleSuccess = function(stream) {\n",
              "  gumStream = stream;\n",
              "  var options = {\n",
              "    //bitsPerSecond: 8000, //chrome seems to ignore, always 48k\n",
              "    mimeType : 'audio/webm;codecs=opus'\n",
              "    //mimeType : 'audio/webm;codecs=pcm'\n",
              "  };            \n",
              "  //recorder = new MediaRecorder(stream, options);\n",
              "  recorder = new MediaRecorder(stream);\n",
              "  recorder.ondataavailable = function(e) {            \n",
              "    var url = URL.createObjectURL(e.data);\n",
              "    var preview = document.createElement('audio');\n",
              "    preview.controls = true;\n",
              "    preview.src = url;\n",
              "    document.body.appendChild(preview);\n",
              "\n",
              "    reader = new FileReader();\n",
              "    reader.readAsDataURL(e.data); \n",
              "    reader.onloadend = function() {\n",
              "      base64data = reader.result;\n",
              "      //console.log(\"Inside FileReader:\" + base64data);\n",
              "    }\n",
              "  };\n",
              "  recorder.start();\n",
              "  };\n",
              "\n",
              "recordButton.innerText = \"Recording... press to stop\";\n",
              "\n",
              "navigator.mediaDevices.getUserMedia({audio: true}).then(handleSuccess);\n",
              "\n",
              "\n",
              "function toggleRecording() {\n",
              "  if (recorder && recorder.state == \"recording\") {\n",
              "      recorder.stop();\n",
              "      gumStream.getAudioTracks()[0].stop();\n",
              "      recordButton.innerText = \"Saving the recording... pls wait!\"\n",
              "  }\n",
              "}\n",
              "\n",
              "// https://stackoverflow.com/a/951057\n",
              "function sleep(ms) {\n",
              "  return new Promise(resolve => setTimeout(resolve, ms));\n",
              "}\n",
              "\n",
              "var data = new Promise(resolve=>{\n",
              "//recordButton.addEventListener(\"click\", toggleRecording);\n",
              "recordButton.onclick = ()=>{\n",
              "toggleRecording()\n",
              "\n",
              "sleep(2000).then(() => {\n",
              "  // wait 2000ms for the data to be available...\n",
              "  // ideally this should use something like await...\n",
              "  //console.log(\"Inside data:\" + base64data)\n",
              "  resolve(base64data.toString())\n",
              "\n",
              "});\n",
              "\n",
              "}\n",
              "});\n",
              "      \n",
              "</script>\n"
            ]
          },
          "metadata": {}
        }
      ],
      "source": [
        "audio, sr = get_audio()"
      ]
    },
    {
      "cell_type": "code",
      "source": [
        "scipy.io.wavfile.write('recording.wav', sr, audio) "
      ],
      "metadata": {
        "id": "7ha_UrZW1544"
      },
      "execution_count": 184,
      "outputs": []
    },
    {
      "cell_type": "markdown",
      "source": [
        "# Language Detection\n"
      ],
      "metadata": {
        "id": "VsVl3pB3rJZG"
      }
    },
    {
      "cell_type": "code",
      "source": [
        "audio = whisper.load_audio(\"recording.wav\")\n",
        "audiotest = whisper.pad_or_trim(audio)\n",
        "mel = whisper.log_mel_spectrogram(audiotest).to(model.device)\n",
        "\n",
        "_, probs = model.detect_language(mel)\n",
        "lg = max(probs, key=probs.get)\n",
        "print(f\"Detected language: {lg}\")"
      ],
      "metadata": {
        "id": "37R8OdMt0KJ9",
        "outputId": "dd40878c-e54c-4dd9-de34-397f2d608ae1",
        "colab": {
          "base_uri": "https://localhost:8080/"
        }
      },
      "execution_count": 185,
      "outputs": [
        {
          "output_type": "stream",
          "name": "stdout",
          "text": [
            "Detected language: en\n"
          ]
        }
      ]
    },
    {
      "cell_type": "markdown",
      "source": [
        "# **Detoxify Text-Classification Model**"
      ],
      "metadata": {
        "id": "mL8jv-Xvi9Ti"
      }
    },
    {
      "cell_type": "markdown",
      "source": [
        "Here we use Whisper's language translation capabilities in order to translate languages that aren't supported natively in \n",
        "detoxify model, so we can estimate hateful comments from other languages as well. Thus expanding Moriarty's accesibility options"
      ],
      "metadata": {
        "id": "ym2wZqcRp0lh"
      }
    },
    {
      "cell_type": "code",
      "source": [
        "# decode the audio\n",
        "options = whisper.DecodingOptions()\n",
        "#english, french, spanish, italian, portuguese, turkish or russian.\n",
        "if lg=='en'or lg == 'fr'or lg=='es'or lg=='it'or lg=='tr'or lg=='ru'or lg=='pt':\n",
        "  if lg == 'en':\n",
        "      result = model.transcribe(\"recording.wav\")\n",
        "      print(result['text'])\n",
        "      results = Detoxify('original').predict(result['text'])\n",
        "  else:\n",
        "    result = model.transcribe(\"recording.wav\")\n",
        "    result2 = model.transcribe(\"recording.wav\",task='translate')\n",
        "    print(result['text'])\n",
        "    print(\" English Translation:\",result2['text'])\n",
        "    results = Detoxify('multilingual').predict(result['text'])\n",
        "else :\n",
        "  result = model.transcribe(\"recording.wav\",task='translate')\n",
        "  print(result['text'])\n",
        "  results = Detoxify('original').predict(result['text'])\n"
      ],
      "metadata": {
        "id": "6pa3J1d_0Mlm",
        "outputId": "3d0c192a-09b0-4c9d-ac3b-678ee696001b",
        "colab": {
          "base_uri": "https://localhost:8080/"
        }
      },
      "execution_count": 186,
      "outputs": [
        {
          "output_type": "stream",
          "name": "stdout",
          "text": [
            " If you let my daughter go now, that will be the end of it. I will not look for you, I will not pursue you, but if you don't, I will look for you, I will find you, and I will kill you.\n"
          ]
        }
      ]
    },
    {
      "cell_type": "code",
      "source": [
        "\n",
        "#each model takes in either a string or a list of strings\n",
        "array = [\"percentage\"]\n",
        "np.array(array)\n",
        "df = pd.DataFrame(results, index=array)\n",
        "print(pd.DataFrame(results, index=array).round(5))\n",
        "plt.figure(figsize=(10,8))\n",
        "sns.barplot(data=df,palette=sns.color_palette(\"pastel\"))\n",
        "plt.title('Stats')\n",
        "plt.xlabel('Label')\n",
        "plt.ylabel('Percentage')\n",
        "plt.show\n"
      ],
      "metadata": {
        "id": "XAc8FBj-1DrG",
        "outputId": "4bfb5070-6cdb-4ded-b1df-25e199e53f3f",
        "colab": {
          "base_uri": "https://localhost:8080/",
          "height": 623
        }
      },
      "execution_count": 187,
      "outputs": [
        {
          "output_type": "stream",
          "name": "stdout",
          "text": [
            "            toxicity  severe_toxicity  obscene   threat   insult  \\\n",
            "percentage   0.76012          0.04585  0.03293  0.78246  0.04291   \n",
            "\n",
            "            identity_attack  \n",
            "percentage          0.03036  \n"
          ]
        },
        {
          "output_type": "execute_result",
          "data": {
            "text/plain": [
              "<function matplotlib.pyplot.show(*args, **kw)>"
            ]
          },
          "metadata": {},
          "execution_count": 187
        },
        {
          "output_type": "display_data",
          "data": {
            "text/plain": [
              "<Figure size 720x576 with 1 Axes>"
            ],
            "image/png": "[encoded data removed]"
          },
          "metadata": {
            "needs_background": "light"
          }
        }
      ]
    },
    {
      "cell_type": "markdown",
      "source": [
        "# **Credits**\n",
        "Athanasiadou Christina, https://www.linkedin.com/in/christina-athanasiadou-37288a246\n",
        "\n",
        "Chatzigeorgiou Spiros, https://www.linkedin.com/in/spiros-chatzigeorgiou-797148201/\n",
        "\n",
        "\n",
        "**Technologies used:**\n",
        "\n",
        "https://github.com/openai/whisper\n",
        "\n",
        "https://github.com/unitaryai/detoxify"
      ],
      "metadata": {
        "id": "hrJavx3Cncmc"
      }
    },
    {
      "cell_type": "code",
      "source": [],
      "metadata": {
        "id": "3Y3fhAp17tHZ"
      },
      "execution_count": null,
      "outputs": []
    }
  ],
  "metadata": {
    "accelerator": "GPU",
    "colab": {
      "collapsed_sections": [],
      "provenance": [],
      "machine_shape": "hm",
      "include_colab_link": true
    },
    "kernelspec": {
      "display_name": "Python 3",
      "name": "python3"
    },
    "language_info": {
      "name": "python"
    },
    "gpuClass": "premium"
  },
  "nbformat": 4,
  "nbformat_minor": 0
}